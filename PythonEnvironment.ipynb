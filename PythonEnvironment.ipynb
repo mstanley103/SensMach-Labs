{
 "cells": [
  {
   "cell_type": "markdown",
   "metadata": {},
   "source": [
    "# Creating the Python Environment<a class=\"tocSkip\">\n",
    "&copy; 2020 by Michael Stanley (Mike.Stanley@ieee.org)<BR>\n",
    "Last revised: 16 July 2020\n",
    "    \n",
    "## Introduction\n",
    "Anaconda gives you the ability to create and maintain multiple \"environments\" for Python and R development.  Each environment can be thought of as a combination of specific versions of those languages and various libraries.  Getting a self-consistent and working combination of the various dependencies can be a lot of work, and Anaconda provides several ways to snapshot and share these environments.\n",
    "\n",
    "This notebook tells you how to:\n",
    "1. Install Anaconda itself (actually, we'll point you to Anaconda's installation instructions)\n",
    "2. Easily replicate the course environment using the Anaconda \"conda env create\" command\n",
    "3. Alternately, create the environment from scratch if needed\n",
    "\n",
    "Before proceeding, review [Managing environments](https://docs.conda.io/projects/conda/en/latest/user-guide/tasks/manage-environments.html).\n",
    "\n",
    "## Installing Anaconda\n",
    "This is easy.  Simply download and install Anaconda using the Download button at https://www.anaconda.com/products/individual.\n",
    "\n",
    "## Replicate the environment\n",
    "Once Anaconda has been installed:\n",
    "1.\tFrom the Windows Start menu, open up an Anaconda prompt.\n",
    "2.\tcopy Jupyter/environment.yml into the directory indicated by the Anaconda prompt\n",
    "3.\tat the Anaconda prompt, type: conda env create –f [environment.yml](environment.yml)\n",
    "4.\tOnce that step completes, type: conda activate training\n",
    "5.\tFinally: jupyter notebook\n",
    "\n",
    "## Create the environment from scratch\n",
    "    \n",
    "### From scratch phase 1\n",
    "1. From the Windows Start menu, open up an Anaconda prompt.\n",
    "2. conda create --name training\n",
    "3. conda activate training\n",
    "4. conda install python=3.7.6\n",
    "5. conda install -c anaconda ipykernel\n",
    "6. pip install jupyter\n",
    "7. jupyter notebook\n",
    "8. Navigate to this notebook and execute the next cell\n",
    "    \n",
    "### From scratch phase 2\n",
    "The next cell installs a number of required libraries using the standard \"pip\" installer"
   ]
  },
  {
   "cell_type": "code",
   "execution_count": null,
   "metadata": {},
   "outputs": [],
   "source": [
    "!pip install -U scikit-learn\n",
    "!pip install jupyter_contrib_nbextensions\n",
    "!pip install pyquaternion pyserial\n",
    "!pip install pythreejs\n",
    "!pip install numpy_stl\n",
    "!pip install pandas bqplot ipywidgets\n",
    "!pip install scikit-image\n",
    "!pip install json5\n",
    "!pip install --upgrade pywin32==227\n",
    "!pip install pyserial\n",
    "!pip install pyquaternion\n",
    "!pip install keras\n",
    "!pip install tensorflow --upgrade"
   ]
  },
  {
   "cell_type": "markdown",
   "metadata": {},
   "source": [
    "Make sure you look through the pip message list above for any errors.  Sometimes you may have a file or folder open elsewhere that causes access errors.  If so, close things out and try again.\n",
    "\n",
    "### From scratch phase 3\n",
    "The pyaudio library is used by the [Integration-Sound](Integration-Sound.ipynb) data collection tool.  Unfortunately we've hit a number of problems using pip to install it.  Online postings have suggested the workaround used here.  You can skip this step if you are not using that Notebook, as it is the only one using this library.\n",
    "\n",
    "From: https://www.lfd.uci.edu/~gohlke/pythonlibs/#pyaudio\n",
    "download the appropriate version of PyAudio (we used PyAudio‑0.2.11‑cp37‑cp37m‑win_amd64.whl) into the Jupyter folder.  If necessary, change the filename in the next cell before executing it."
   ]
  },
  {
   "cell_type": "code",
   "execution_count": null,
   "metadata": {},
   "outputs": [],
   "source": [
    "import os\n",
    "cwd=os.getcwd()\n",
    "print('Current directory = ', cwd)\n",
    "fn = os.path.join(cwd, 'PyAudio-0.2.11-cp37-cp37m-win_amd64.whl') # Change this filename if you have a different platform\n",
    "cmd = 'pip install %s' % fn\n",
    "os.system(cmd)"
   ]
  },
  {
   "cell_type": "markdown",
   "metadata": {},
   "source": [
    "# Master set of imports for environment test\n",
    "As a test, execute the following cell.  If it passes without error, you should be ready to execute the various Jupyter notebooks in this course."
   ]
  },
  {
   "cell_type": "code",
   "execution_count": null,
   "metadata": {},
   "outputs": [],
   "source": [
    "import ipywidgets as widgets        # Standard widget library for GUI construction \n",
    "from ipywidgets import interact, interactive, fixed, interact_manual\n",
    "from pythreejs import pi, Preview   # Graphics library (used for 3D display)\n",
    "import binascii                     # convert binary data to printable form\n",
    "import threading                    # support for multithreading\n",
    "import serial                       # Serial port library used for communications with some embedded boards\n",
    "import numpy as np                  # mathematical library\n",
    "import pandas as pd                 # for data manipulation and analysis (generally via data frames)\n",
    "import time                         # used for the sleep function\n",
    "import math                         # standard math functions\n",
    "#import yappi                       # you can optionally use yappi to profile parts of the code\n",
    "import bqplot as bq                 # bqplot provides an object oriented plotting function with many capabilities\n",
    "import collections                  # used to create dictionaries\n",
    "from traitlets import link          # used for linking plot selection interaction functions\n",
    "from IPython.display import clear_output, display  # used to implement GUI functions\n",
    "from ipyfilechooser import FileChooser             # 3rd party code used to implement a file selection function\n",
    "import sys                          # Access to operating system functions\n",
    "import glob                         # glob functions allow you to use wildcarding on file systems\n",
    "import re                           # Regular expressions library\n",
    "import logging                      # Standardized logging operations\n",
    "import os                           # primarily used to get the current working directory on the PC\n",
    "import socket                       # Used for communications with the Arduino\n",
    "import json                         # Data is sent via JSON packets, which are easily decoded here\n",
    "import pyaudio                      # provides interfaces to computer audio capabilities\n",
    "import wave                         # used for saving and playing wavefiles\n",
    "import sklearn                      # Awesome library for classical machine learning\n",
    "import bqplot as bq                 # Matplotlib alternative for creating interactive 2D plots\n",
    "from skimage import measure         # Image processing and computer vision algorithms\n",
    "import scipy.stats as stats         # scipy is a scientific computing libary\n",
    "import inspect                      # library for inspecting python objects\n",
    "import matplotlib.pyplot as plt     # The \"python standard\" plotting library\n",
    "from struct import *                # Functions used for unpacking binary data\n",
    "import traceback                    # adds ability to create tracebacks for debugging\n",
    "import tensorflow as tf             # Tensorflow deep learning library\n",
    "from tensorflow import keras        # Keras is TensorFlow's high-level API for deep learning\n",
    "from keras.utils import np_utils\n",
    "from stl import mesh                # Library for read/write of 3D geometry data\n",
    "from pyquaternion import Quaternion # Library for quaternion math operations"
   ]
  },
  {
   "cell_type": "markdown",
   "metadata": {},
   "source": [
    "# Finally\n",
    "Executing the following cell will give you a list of the specific packages and version used for this environment."
   ]
  },
  {
   "cell_type": "code",
   "execution_count": null,
   "metadata": {},
   "outputs": [],
   "source": [
    "!conda list --explicit"
   ]
  },
  {
   "cell_type": "code",
   "execution_count": null,
   "metadata": {},
   "outputs": [],
   "source": []
  }
 ],
 "metadata": {
  "kernelspec": {
   "display_name": "Python 3",
   "language": "python",
   "name": "python3"
  },
  "language_info": {
   "codemirror_mode": {
    "name": "ipython",
    "version": 3
   },
   "file_extension": ".py",
   "mimetype": "text/x-python",
   "name": "python",
   "nbconvert_exporter": "python",
   "pygments_lexer": "ipython3",
   "version": "3.7.6"
  },
  "toc": {
   "base_numbering": 1,
   "nav_menu": {},
   "number_sections": true,
   "sideBar": true,
   "skip_h1_title": true,
   "title_cell": "Table of Contents",
   "title_sidebar": "Contents",
   "toc_cell": false,
   "toc_position": {},
   "toc_section_display": true,
   "toc_window_display": false
  }
 },
 "nbformat": 4,
 "nbformat_minor": 4
}
