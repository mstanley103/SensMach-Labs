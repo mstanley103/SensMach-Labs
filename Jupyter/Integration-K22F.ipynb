{
 "cells": [
  {
   "cell_type": "markdown",
   "metadata": {
    "code_folding": [],
    "hide_input": true
   },
   "source": [
    "# Embedded Board Interface via Jupyter/Python Proof of Concept<a class=\"tocSkip\">"
   ]
  },
  {
   "cell_type": "markdown",
   "metadata": {
    "hide_input": false
   },
   "source": [
    "&copy; 2020 by Michael Stanley (Mike.Stanley@ieee.org)<BR>\n",
    "Last revised: 11 July 2020\n",
    "\n",
    "# Introduction\n",
    "This notebook uses a number of Python libraries to implement a simple interface for capturing sensor information\n",
    "from an embedded MCU development board.    Graphics are provided using the bqplot library, and GUI widgets are created\n",
    "using the standard ipywidgets library.\n",
    "    \n",
    "This notebook is intended both as proof of concept and as a teaching aide.  It is NOT intended for production use in collecting sensor data.  In that case, a non-Jupyter implemention makes more sense.  Please use the notebook in the spirit in which it is intended.\n",
    "    \n",
    "This draft of the Notebook is intended to work in conjunction with an NXP Semiconductor FRDM-STBC-AGM01/FRDM-K22F development board stackup.  Details of these boards can be found at https://www.nxp.com/freedom.  The K22F board should be programmed with a variant of the NXP sensor fusion library (https://www.nxp.com/sensorfusion.\n",
    "\n",
    "![FRDM-K22F/FRDM-STBC-AGM01 Board Stackup](../images/agm01.jpg)    \n",
    "# External code Imports\n",
    "## Import from standard and 3rd party libraries"
   ]
  },
  {
   "cell_type": "code",
   "execution_count": 1,
   "metadata": {
    "ExecuteTime": {
     "end_time": "2019-12-09T15:25:01.576460Z",
     "start_time": "2019-12-09T15:25:01.569463Z"
    },
    "hide_input": false
   },
   "outputs": [],
   "source": [
    "import ipywidgets as widgets        # Standard widget library for GUI construction \n",
    "from ipywidgets import interact, interactive, fixed, interact_manual\n",
    "from pythreejs import pi, Preview   # Graphics library (used for 3D display)\n",
    "import binascii                     # convert binary data to printable form\n",
    "import threading                    # support for multithreading\n",
    "import numpy as np                  # mathematical library\n",
    "from pyquaternion import Quaternion # Quaternion utility library\n",
    "from struct import *                # Functions used for unpacking binary data\n",
    "import time                         # used for the sleep function\n",
    "import math                         # standard math functions\n",
    "#import yappi                       # you can optionally use yappi to profile parts of the code\n",
    "import bqplot as bq                 # bqplot provides an object oriented plotting function with many capabilities\n",
    "import collections                  # used to create dictionaries\n",
    "from traitlets import link          # used for linking plot selection interaction functions\n",
    "from IPython.display import clear_output, display  # used to implement GUI functions\n",
    "from ipyfilechooser import FileChooser             # 3rd party code used to implement a file selection function\n",
    "import os                           # primarily used to get the current working directory on the PC"
   ]
  },
  {
   "cell_type": "markdown",
   "metadata": {
    "hide_input": false
   },
   "source": [
    "## Import other modules of this application"
   ]
  },
  {
   "cell_type": "code",
   "execution_count": 2,
   "metadata": {
    "ExecuteTime": {
     "end_time": "2019-12-09T15:25:01.589451Z",
     "start_time": "2019-12-09T15:25:01.584457Z"
    }
   },
   "outputs": [],
   "source": [
    "from OutputWidgetHandler import *           # ipywidgets adaptation for use with standard python logging functions\n",
    "from control import control, object_read    # objected oriented encapsulation of the serial interface to/from dev board\n",
    "from Copter import createCopter, qconvert   # utility functions for creation of quad copter graphics"
   ]
  },
  {
   "cell_type": "markdown",
   "metadata": {
    "ExecuteTime": {
     "end_time": "2019-12-09T15:25:01.638421Z",
     "start_time": "2019-12-09T15:25:01.624430Z"
    },
    "code_folding": []
   },
   "source": [
    "# Central Status Logging Facility\n",
    "\n",
    "Because we have multiple GUI objects as well as multiple threads, a standard mechansim is required to send \n",
    "messages to the user. This is provided using the logger object.  Reference OutputWidgetHandler.py in this same \n",
    "directory for details of the implementation.\n",
    "\n",
    "Example logger calls include:\n",
    "*    logger.debug(\"Test Debug Message\")\n",
    "*    logger.info(\"Test Info Message\")\n",
    "*    logger.warning(\"Test Warning Message\")\n",
    "*    logger.error(\"Test Error Message\")\n",
    "*    logger.critical(\"Test Critical Message\")\n",
    "\n",
    "## Setup the logger"
   ]
  },
  {
   "cell_type": "code",
   "execution_count": 3,
   "metadata": {
    "ExecuteTime": {
     "end_time": "2019-12-09T15:25:01.619435Z",
     "start_time": "2019-12-09T15:25:01.606442Z"
    }
   },
   "outputs": [],
   "source": [
    "logger = logging.getLogger(__name__)\n",
    "handler = OutputWidgetHandler()\n",
    "handler.setFormatter(logging.Formatter('%(asctime)s - %(threadName)-10s %(message)s'))\n",
    "logger.addHandler(handler)\n",
    "logger.setLevel(logging.INFO)\n",
    "#logger.setLevel(4)"
   ]
  },
  {
   "cell_type": "markdown",
   "metadata": {},
   "source": [
    "# Set up the 3D model and Quaternion Functions\n",
    "This application uses a predesigned 3D model of a quadcopter to represent orientation received from the development board, \n",
    "which is running a Kalman-filter based sensor fusion application.  The following lines of code call the object initializer,\n",
    "but do not actually display the copter yet.  We'll get to that later.\n",
    "\n",
    "Prerequisites: You must have \"copter.stl\" in the same directory as this notebook"
   ]
  },
  {
   "cell_type": "code",
   "execution_count": 4,
   "metadata": {
    "ExecuteTime": {
     "end_time": "2019-12-09T15:25:02.064159Z",
     "start_time": "2019-12-09T15:25:02.059160Z"
    }
   },
   "outputs": [],
   "source": [
    "copter = createCopter()\n",
    "baseline_orientation = Quaternion(axis=[1, 0, 0], angle = 0)\n",
    "q_temp = qconvert(baseline_orientation)\n",
    "copter.quaternion=q_temp\n",
    "\n",
    "def update_copter_orientation(Qnew):\n",
    "    global copter, baseline_orientation\n",
    "    # pythreejs uses xi,yj,zk,w format.  qconvert reorders from the (standard) pyquaternion q0 + q1*i + q2*j + q3*k form\n",
    "    q_temp = qconvert(Qnew*baseline_orientation) # corresponds to 1st baseline_orientation followed by Qnew rotation\n",
    "    copter.quaternion=q_temp\n",
    "\n",
    "def update_copter_orientation_by_q_components(q0, q1, q2, q3):\n",
    "    global copter\n",
    "    # Quaternion is q0 + q1*i + q2*j + q3*k\n",
    "    Qnew = Quaternion(q0, q1, q2, q3)\n",
    "    update_copter_orientation(Qnew)"
   ]
  },
  {
   "cell_type": "code",
   "execution_count": 5,
   "metadata": {},
   "outputs": [
    {
     "data": {
      "application/vnd.jupyter.widget-view+json": {
       "model_id": "f0299e50b5e94bcc9381294bfeba96ac",
       "version_major": 2,
       "version_minor": 0
      },
      "text/plain": [
       "Preview(child=Mesh(castShadow=True, geometry=BufferGeometry(attributes={'position': <BufferAttribute shape=(17…"
      ]
     },
     "metadata": {},
     "output_type": "display_data"
    }
   ],
   "source": [
    "#display(Preview(copter))"
   ]
  },
  {
   "cell_type": "markdown",
   "metadata": {},
   "source": [
    "# Variables for received packet data and parser jump table\n",
    "The serial interface for this function is designed to be generic and re-useable.  Specific packet formats are handled by supplying the serial interface object with a jump table of functions for interpreting packet contents, and then storing away parsed data from same.\n",
    "\n",
    "The packet_data variable must be initialized to a list wherein each cell will receive parsed data for a particular packet type.  The lenght of the list must match the number of packet types in the application.\n",
    "\n",
    "Similarly, each cell in the jump table will contain a pointer to a function for decoding that particular packet type.  The actual functions are defined later in this notebook."
   ]
  },
  {
   "cell_type": "code",
   "execution_count": 6,
   "metadata": {
    "ExecuteTime": {
     "end_time": "2019-12-09T15:25:02.074151Z",
     "start_time": "2019-12-09T15:25:02.068154Z"
    }
   },
   "outputs": [],
   "source": [
    "packet_data = [None]*14\n",
    "jump_table = 14 * [None]"
   ]
  },
  {
   "cell_type": "markdown",
   "metadata": {},
   "source": [
    "# Custom class for tracking serial traffic rates\n",
    "The TimeKeeper class was designed to keep track of the number of packets sent over time and the instantaneous and average data rates over time.  The FRDM-K22F implementation does use a hard real-time clock to ensure data rates.  But it's always a good idea to check for dropped packets.  "
   ]
  },
  {
   "cell_type": "code",
   "execution_count": 7,
   "metadata": {
    "ExecuteTime": {
     "end_time": "2019-12-09T15:25:02.097137Z",
     "start_time": "2019-12-09T15:25:02.077150Z"
    }
   },
   "outputs": [],
   "source": [
    "import time\n",
    "import threading\n",
    "class TimeKeeper():\n",
    "    def __init__(self):\n",
    "        self.lock = threading.Lock()\n",
    "        self.reset()\n",
    "    def reset(self):\n",
    "        with self.lock:\n",
    "            self.current_rate=0\n",
    "            self.average_rate=0\n",
    "            self.packet_counter=0\n",
    "            self.last_packet_counter=0\n",
    "            self.last_time=time.time()\n",
    "            self.start_time=self.last_time\n",
    "    def incrementPacket(self):\n",
    "        with self.lock:\n",
    "            self.packet_counter += 1\n",
    "    def snapshot(self):\n",
    "        with self.lock:\n",
    "            newTime = time.time()\n",
    "            deltaTime = newTime - self.last_time\n",
    "            self.last_time = newTime\n",
    "            deltaPackets = self.packet_counter - self.last_packet_counter\n",
    "            self.last_packet_counter = self.packet_counter\n",
    "            if (deltaTime>0):\n",
    "                self.current_rate = deltaPackets/deltaTime\n",
    "            deltaTime = newTime - self.start_time\n",
    "            if (deltaTime>0):\n",
    "                self.average_rate = self.packet_counter/deltaTime\n",
    "            return (self.packet_counter, self.current_rate, self.average_rate)"
   ]
  },
  {
   "cell_type": "markdown",
   "metadata": {},
   "source": [
    "# Update GUI Function Called During Serial Streaming\n",
    "Data streams to/from the sensor board and updates to the GUI are done in two separate background tasks.  In this way, GUI update rates can be separately throttled so that GUI updates (which are slow) do not starve the serial stream of CPU cycles.  This is a fairly standard way of managing tradeoffs in these types of application.\n",
    "We keep a list of functions called \"gui_updaters\" which are periodically called to update various portions of the GUI.  This allows us to keep individual GUI update functions simple, but still executed in a controlled fashion."
   ]
  },
  {
   "cell_type": "code",
   "execution_count": 8,
   "metadata": {
    "ExecuteTime": {
     "end_time": "2019-12-09T15:25:02.118124Z",
     "start_time": "2019-12-09T15:25:02.101133Z"
    }
   },
   "outputs": [],
   "source": [
    "gui_updaters = []     # List of functions to be called periodically to update the GUI\n",
    "                      # This list will be added to in the code that follows  \n",
    "stop_gui_updates = False  # Set to True to stop the GUI updates (normally done when the serial port is inactive)\n",
    "skip_plot_updates = False  # Set to True to skip plot updates BUT NOT DISABLE serial port or GUI update thread\n",
    "gui_update_interval = 0.5\n",
    "def update_gui(serPort):\n",
    "    global logger, gui_update_interval, stop_gui_updates, gui_updaters\n",
    "    try:\n",
    "        while not stop_gui_updates:\n",
    "            with serPort.lock:\n",
    "                for item in gui_updaters:\n",
    "                    item()\n",
    "            time.sleep(gui_update_interval)\n",
    "        logger.info(\"Exiting update_gui() loop\")\n",
    "    except Exception as ex:\n",
    "        logger.error(\"Exception in function update_gui(): \", str(ex))"
   ]
  },
  {
   "cell_type": "markdown",
   "metadata": {},
   "source": [
    "# Set up the serial port interface\n",
    "The serial port interface takes advantage of the FRDM-K22F UART over USB OpenSDA interface.  From the development board's perspective, we are communicating via a UART.  From the PC's perspective, it is a standard serial interface.  For this to work, you must have an OpenSDA debug interface on your board and appropriate drivers installed on your PC.  This notebook was developed with a FRDM-K22F equipped with a J-Link (Segger) debug interface.  Segger drivers can be downloaded from https://www.segger.com/downloads/jlink/.  You should also visit the [NXP Semiconductor page which details OpenSDA options for the FRDM-K22F](https://www.nxp.com/design/microcontrollers-developer-resources/ides-for-kinetis-mcus/opensda-serial-and-debug-adapter:OPENSDA?&tid=vanOpenSDA#FRDM-K22F).  On the embedded board side, you will need to be running a slightly modified version of the NXP 9-axis sensor fusion software.  That software will be published along with this notebook.  Please note that it should be fairly straightforward to apply the same code changes to any NXP development board running the NXP sensor fusion software.  That software is available as an option when configuring software development kits via the [MCUXpresso SDK web interface](https://www.nxp.com/design/software/development-software/mcuxpresso-software-and-tools/mcuxpresso-software-development-kit-sdk:MCUXpresso-SDK).\n",
    "\n",
    "On the PC side, the serial interface is object oriented and defined in control.py.  This application assumes a single board/interface.  Public methods used here include:\n",
    "* open()\n",
    "* close()\n",
    "* stop()\n",
    "* print_stats()\n",
    "\n",
    "The object_read() function is a thin wrapper that calls the class read() method.  It is run as a separate background thread.  See \"Serial Port Enable/Disable\" for details.  The class read_lock attribute is used to keep various threads from trying to use key resources at the same time."
   ]
  },
  {
   "cell_type": "code",
   "execution_count": 9,
   "metadata": {
    "ExecuteTime": {
     "end_time": "2019-12-09T15:25:02.199074Z",
     "start_time": "2019-12-09T15:25:02.123121Z"
    }
   },
   "outputs": [],
   "source": [
    "serPort = control(logger, jump_table)  # This is the interface object\n",
    "ports = control.get_port_names()       # This is a list of objects found attached to serial ports on this computer"
   ]
  },
  {
   "cell_type": "markdown",
   "metadata": {},
   "source": [
    "# Define GUI Components\n",
    "Technically speaking, you really don't need a graphical user interface to do data collection. But it helps tremendously to ensure that connections are properly made and that data received looks good in real-time, rather than waiting until a lengthly data collection session has been completed.\n",
    "\n",
    "The GUI interface includes a \"Main\" tab that can be used to specify which port communicates with your board, along with fields to display recently received sensor values. Also included are tabs for displaying charts for each sensor type. The charts are \"smart\" and include the ability to connect/disconnect, turn data logging on/off, zoom in both X and Y dimensions and do separate dumps of sub-segments of the input waveforms.\n",
    "\n",
    "## Serial Port Dropdown\n",
    "You can determine what port your board is connected to by bringing up the Windows Device Manager Control Panel, expanding \"Ports\" and looking for one which includes \"JLink CDC UART Port\" in the description.  You should make sure that you select the same port using the sp_dropdown control defined here.  Note that port assignments tend to be somewhat static over time, so you could change \"COM6\" in the definition below to the port used by your board.  Then uncomment that line to have this selected as your default port.  The downside of doing this is that you will encounter an error in the future when you invariably get assigned to a different COM port."
   ]
  },
  {
   "cell_type": "code",
   "execution_count": 10,
   "metadata": {
    "ExecuteTime": {
     "end_time": "2019-12-09T15:25:02.218062Z",
     "start_time": "2019-12-09T15:25:02.205069Z"
    }
   },
   "outputs": [],
   "source": [
    "sp_dropdown = widgets.Dropdown(\n",
    "    options=ports,\n",
    "    description='Ports:',\n",
    "    disabled=False\n",
    "    #,value=\"COM6\",  # temporary hack to speed up development (actual quadcopter is always attached to this port)\n",
    ") # note we are not displaying the widget yet"
   ]
  },
  {
   "cell_type": "markdown",
   "metadata": {},
   "source": [
    "## Comms & Plot Control Functions\n",
    "The serial port operates in a separate thread.  That thread is started/stopped via the toggle_serial_port() function callback to the toggle button that follows below.\n",
    "### Button Callback Code"
   ]
  },
  {
   "cell_type": "code",
   "execution_count": 11,
   "metadata": {
    "ExecuteTime": {
     "end_time": "2019-12-09T15:25:02.273027Z",
     "start_time": "2019-12-09T15:25:02.250041Z"
    }
   },
   "outputs": [],
   "source": [
    "def stop_data():\n",
    "    global stop_gui_updates, toggle1, serPort, logger\n",
    "    # Disable serial port\n",
    "    with serPort.read_lock: # lock prevents a race condition that can occur due to async stop & read functions\n",
    "        stop_gui_updates = True;\n",
    "        logger.debug(\"STOP REQUEST ACKNOWLEDGED\")\n",
    "        serPort.stop() # This should stop the currently executing thread\n",
    "        serPort.close()\n",
    "        toggle1.description=\"Enable Serial Port\"\n",
    "        logger.debug(\"Serial port has been closed\")\n",
    "        serPort.print_stats()\n",
    "\n",
    "def toggle_serial_port(change):\n",
    "    # Callback for serial port enable/disable button\n",
    "    global logger, serPort, stop_gui_updates\n",
    "    newState = change['new']\n",
    "    if newState:\n",
    "        # Enable serial port\n",
    "        logger.debug(\"Button callback: Opening serial port\")\n",
    "        sts = serPort.open(sp_dropdown.value)\n",
    "        if sts:\n",
    "            logger.debug(\"Serial port successfully openeed\")\n",
    "            stop_gui_updates = False;\n",
    "            toggle1.description=\"Disable Serial Port\"\n",
    "            logger.debug(\"Starting separate thread for serial port\")\n",
    "            t1 = threading.Thread(name=\"Control\", target=object_read, kwargs=dict(object=serPort, debug=True, num_packets=0))\n",
    "            t1.setDaemon(True)\n",
    "            t1.start()\n",
    "            logger.debug(\"Starting second thread for GUI updates\")\n",
    "            t2 = threading.Thread(name=\"GuiUpdate\", target=update_gui, kwargs=dict(serPort=serPort))\n",
    "            t2.setDaemon(True)\n",
    "            t2.start()\n",
    "            logger.debug(\"Serial port opened and secondary thread started.\")            \n",
    "        else:\n",
    "            logger.error(\"ERROR!  Could not open \", sp_dropdown.value)\n",
    "    else:\n",
    "        stop_data()\n",
    "    return()"
   ]
  },
  {
   "cell_type": "markdown",
   "metadata": {},
   "source": [
    "### The Actual Serial Port Enable/Disable Button"
   ]
  },
  {
   "cell_type": "code",
   "execution_count": 12,
   "metadata": {
    "ExecuteTime": {
     "end_time": "2019-12-09T15:25:02.299010Z",
     "start_time": "2019-12-09T15:25:02.277024Z"
    }
   },
   "outputs": [],
   "source": [
    "toggle1=widgets.ToggleButton(\n",
    "    value=False,\n",
    "    description='Enable Serial Port',\n",
    "    disabled=False,\n",
    "    button_style='', # 'success', 'info', 'warning', 'danger' or ''\n",
    "    tooltip='Click this button to start/stop serial data port logging',\n",
    "    icon=''\n",
    ") # note we are not displaying the widget yet\n",
    "\n",
    "toggle1.observe(toggle_serial_port, 'value') # This ties in the callback f"
   ]
  },
  {
   "cell_type": "markdown",
   "metadata": {},
   "source": [
    "## Plot freeze/unfreeze control\n",
    "The plot freeze control can suspend plot updates without effecting data streaming operations."
   ]
  },
  {
   "cell_type": "code",
   "execution_count": 13,
   "metadata": {
    "ExecuteTime": {
     "end_time": "2019-12-09T15:25:02.299010Z",
     "start_time": "2019-12-09T15:25:02.277024Z"
    }
   },
   "outputs": [],
   "source": [
    "def toggle_plot_freeze(change):\n",
    "    # Callback for serial port enable/disable button\n",
    "    global skip_plot_updates\n",
    "    newState = change['new']\n",
    "    if newState:\n",
    "        skip_plot_updates = False\n",
    "        toggle2.description=\"Freeze Plots\"\n",
    "    else:\n",
    "        skip_plot_updates = True;\n",
    "        toggle2.description=\"Re-enable Plots\"\n",
    "    return()\n",
    "\n",
    "toggle2=widgets.ToggleButton(\n",
    "    value=True,\n",
    "    description='Freeze Plot',\n",
    "    disabled=False,\n",
    "    button_style='', # 'success', 'info', 'warning', 'danger' or ''\n",
    "    tooltip='Click this button to freeze/start plots without affecting sensor communications',\n",
    "    icon=''\n",
    ") # note we are not displaying the widget yet\n",
    "\n",
    "toggle2.observe(toggle_plot_freeze, 'value') # This ties in the callback f"
   ]
  },
  {
   "cell_type": "markdown",
   "metadata": {},
   "source": [
    "## Data Logger\n",
    "The act of recording sensor data to .csv files is encapsulated within the LoggingController class. Notice that this class incorporates both GUI and functional components of the data logger. It looks like an ipywidgets HBOX that contains all the functionality needed for specifying what output file to write and when to write it.\n",
    "\n",
    "\"Public\" methods are the constructor, log() and loggerStartStop() functions. One of the GUI sub-components here is a file selection widget derived from the 3rd party ipyfilechooser Python library.\n",
    "\n",
    "Data logs are in .csv format and include the following columns of data:\n",
    "\n",
    "sample number\n",
    "X-axis acceleration in g's\n",
    "Y-axis acceleration in g's\n",
    "Z-axis acceleration in g's\n",
    "X-axis magnitometer reading in microTeslas\n",
    "Y-axis magnitometer reading in microTeslas\n",
    "Z-axis magnitometer reading in microTeslas\n",
    "X-axis gyro reading in radians per second\n",
    "Y-axis gyro reading in radians per second\n",
    "Z-axis gyro reading in radians per second"
   ]
  },
  {
   "cell_type": "code",
   "execution_count": 14,
   "metadata": {
    "ExecuteTime": {
     "end_time": "2019-12-09T15:25:02.299010Z",
     "start_time": "2019-12-09T15:25:02.277024Z"
    }
   },
   "outputs": [],
   "source": [
    "logging_enabled = False  # Set to True to enable logging\n",
    "\n",
    "class LoggingController(widgets.HBox):\n",
    "    def __init__(self):\n",
    "        self.lf = None\n",
    "        self.logging_enabled = False;\n",
    "        self.logIndex=0\n",
    "        self.toggle=widgets.ToggleButton(\n",
    "            value=False,\n",
    "            description='Start Logging',\n",
    "            disabled=False,\n",
    "            button_style='', # 'success', 'info', 'warning', 'danger' or ''\n",
    "            tooltip='Click this button to turn sensor logging on and off',\n",
    "            icon=''\n",
    "        ) # note we are not displaying the widget yet\n",
    "        \n",
    "        # Create new FileChooser:\n",
    "        # Path: current directory\n",
    "        # File: log.csv\n",
    "        # Title: <b>Logger Output File</b>\n",
    "        # Show hidden files: no\n",
    "        # Use the default path and filename as selection: yes\n",
    "        self.file_dialog = FileChooser(\n",
    "            os.getcwd(),\n",
    "            filename='log.csv',\n",
    "            title='<b>Logger Output File</b>',\n",
    "            show_hidden=False,\n",
    "            select_default=True\n",
    "        )\n",
    "        self.toggle.observe(self.loggerStartStop, 'value') # This ties in the callback f\n",
    "        \n",
    "        super().__init__(\n",
    "            children = [self.toggle, self.file_dialog]\n",
    "        )\n",
    "    def logXYZ(self, accelX, accelY, accelZ, magX, magY, magZ, gyroX, gyroY, gyroZ):\n",
    "        if not self.lf==None:\n",
    "            print('{0}, {1:6.3f}, {2:6.3f}, {3:6.3f}, {4:6.3f}, {5:6.3f}, {6:6.3f}, {7:6.3f}, {8:6.3f}, {9:6.3f}'\\\n",
    "                .format(self.logIndex, accelX, accelY, accelZ, magX, magY, magZ, gyroX, gyroY, gyroZ), file=self.lf)\n",
    "            self.logIndex += 1\n",
    "            \n",
    "    def loggerStartStop(self, change):\n",
    "        # Callback for logging start/stop button\n",
    "        newState = change['new']\n",
    "        if newState:\n",
    "            try:\n",
    "                self.lf = open(self.file_dialog.selected, 'wt')\n",
    "                print('Index, accelX, accelY, accelZ, magX, magY, magZ, gyroX, gyroY, gyroZ', file=self.lf)\n",
    "                self.logging_enabled = True\n",
    "                self.toggle.description=\"Stop Logging\"\n",
    "            except Exception as ex:\n",
    "                logger.error(\"Could not open logger output file.  Check to see if it is open elsewhere. \", str(ex))\n",
    "        else:\n",
    "            if not self.lf==None:\n",
    "                self.lf.close()\n",
    "                self.lf = None\n",
    "                self.logIndex = 0\n",
    "            self.logging_enabled=False\n",
    "            self.toggle.description=\"Start Logging\"\n",
    "        return()\n",
    "\n",
    "loggingController = LoggingController()"
   ]
  },
  {
   "cell_type": "markdown",
   "metadata": {},
   "source": [
    "## Button and Callback for Clearing Console\n",
    "Clearing past messages from the console is trivially implemented with this button and callback."
   ]
  },
  {
   "cell_type": "code",
   "execution_count": 15,
   "metadata": {
    "ExecuteTime": {
     "end_time": "2019-12-09T15:25:02.326993Z",
     "start_time": "2019-12-09T15:25:02.304008Z"
    }
   },
   "outputs": [],
   "source": [
    "def on_button1_clicked(b):\n",
    "    handler.clear()  \n",
    "\n",
    "button1 = widgets.Button(\n",
    "    description='Clear Console',\n",
    "    disabled=False,\n",
    "    button_style='', # 'success', 'info', 'warning', 'danger' or ''\n",
    "    tooltip='Click me',\n",
    "    icon=''\n",
    ")\n",
    "button1.on_click(on_button1_clicked)"
   ]
  },
  {
   "cell_type": "markdown",
   "metadata": {},
   "source": [
    "## Accel/Mag/Gyro/Quaternion Values Table\n",
    "The \"Main\" tab of the GUI contains a table that displays recently received sensor values for the accelerometer, magnetometer and gyroscope.  That table is defined using an ipywidgets GridspecLayout function.\n",
    "\n",
    "### Table Definition"
   ]
  },
  {
   "cell_type": "code",
   "execution_count": 16,
   "metadata": {
    "ExecuteTime": {
     "end_time": "2019-12-09T15:25:02.726746Z",
     "start_time": "2019-12-09T15:25:02.330992Z"
    }
   },
   "outputs": [],
   "source": [
    "from ipywidgets import GridspecLayout\n",
    "colNames = ['X/q0', 'Y/q1', 'Z/q2', 'VM/q3']\n",
    "rowNames = ['Accel', 'Mag', 'Gyro', 'quaternion']\n",
    "def table(colNames, rowNamees):\n",
    "    grid = GridspecLayout(5, 5, grid_gap='0px', width='100%')\n",
    "    rowNums = range(1,len(rowNames)+1)\n",
    "    colNums = range(1,len(colNames)+1)\n",
    "    for i in rowNums:\n",
    "        for j in colNums:\n",
    "            grid[i, j] = widgets.FloatText(value=0.0, layout=widgets.Layout(width='110px', height='auto'))\n",
    "    for idx, colName in zip(colNums, ['X/q0', 'Y/q1', 'Z/q2', 'VM/q3']):\n",
    "        grid[0, idx] = widgets.Label(value=colName, layout=widgets.Layout(width='110px', height='auto'))\n",
    "    for idx, rowName in zip(rowNums, [\"Accel (g's)\", \"Mag (uT's)\", \"Gyro (dps)\", 'quaternion']):\n",
    "        grid[idx, 0] = widgets.Label(value=rowName, layout=widgets.Layout(width='110px', height='auto'))\n",
    "    grid[0,0] = widgets.Text(value=\"0 / 0.0\", layout=widgets.Layout(width='110px', height='auto'))\n",
    "    return(grid)\n",
    "sensor_grid=table(colNames, rowNames)\n",
    "#display(sensor_grid)  # Uncomment for debug"
   ]
  },
  {
   "cell_type": "markdown",
   "metadata": {},
   "source": [
    "### Table Update Functions"
   ]
  },
  {
   "cell_type": "code",
   "execution_count": 17,
   "metadata": {
    "ExecuteTime": {
     "end_time": "2019-12-09T15:25:02.763722Z",
     "start_time": "2019-12-09T15:25:02.729744Z"
    }
   },
   "outputs": [],
   "source": [
    "def update_sensor_grid_triaxial_row(row, x,y,z):\n",
    "    global sensor_grid\n",
    "    sensor_grid[row,1].value=x\n",
    "    sensor_grid[row,2].value=y\n",
    "    sensor_grid[row,3].value=z\n",
    "    sensor_grid[row,4].value=math.sqrt(x*x+y*y+z*z)\n",
    "def update_accel_row(x,y,z):\n",
    "    update_sensor_grid_triaxial_row(1,x,y,z)\n",
    "def update_mag_row(x,y,z):\n",
    "    update_sensor_grid_triaxial_row(2,x,y,z)\n",
    "def update_gyro_row(x,y,z):\n",
    "    update_sensor_grid_triaxial_row(3,x,y,z)\n",
    "def update_quat_row(q0, q1, q2, q3):\n",
    "    global sensor_grid\n",
    "    sensor_grid[4,1].value=q0\n",
    "    sensor_grid[4,2].value=q1\n",
    "    sensor_grid[4,3].value=q2\n",
    "    sensor_grid[4,4].value=q3\n",
    "update_counter=TimeKeeper()\n",
    "def update_counter_cell():\n",
    "    global update_counter\n",
    "    (packet_count, current_rate, average_rate) = update_counter.snapshot()\n",
    "    s = '%d / %6.3f' % (packet_count, current_rate)\n",
    "    sensor_grid[0,0].value=s\n",
    "def increment_counter():\n",
    "    global update_counter\n",
    "    logger.debug(\"updating counter\")\n",
    "    update_counter.incrementPacket()\n",
    "gui_updaters.append(update_counter_cell)"
   ]
  },
  {
   "cell_type": "markdown",
   "metadata": {},
   "source": [
    "## Assemble the contents of what will become the main tab\n",
    "The graphical user interface utilizes a tabbed interface.  Individual tabs contents are defined and then assembled below.  We have a central logging console immediately below the tabbed interface, so that it is visible regardless of which tab is selected.  This console is written to using the standard Python logging library."
   ]
  },
  {
   "cell_type": "code",
   "execution_count": 18,
   "metadata": {
    "ExecuteTime": {
     "end_time": "2019-12-09T15:25:02.878652Z",
     "start_time": "2019-12-09T15:25:02.767720Z"
    }
   },
   "outputs": [],
   "source": [
    "q_layout = widgets.Layout(width='110px')\n",
    "style = {'description_width': 'initial'}\n",
    "box_layout = widgets.Layout(align_items='center')\n",
    "main_right_row1 = widgets.HBox([sp_dropdown, toggle1, button1])\n",
    "main_right_row2 = widgets.HBox([sensor_grid])\n",
    "main_right_panel = widgets.VBox([main_right_row1, main_right_row2], layout=box_layout)\n",
    "main = widgets.HBox([Preview(copter), main_right_panel])"
   ]
  },
  {
   "cell_type": "markdown",
   "metadata": {},
   "source": [
    "## Plot Implementation\n",
    "### Circular Buffer\n",
    "New data points are written directly from the serial port to very efficient circular buffers.  These are designed so that the buffers do not need to be copied for every new sample coming in.  Only when the plot is updated are those more time intensive tasks done.\n",
    "\n",
    "A circular buffer class is defined to facilitate this. \n",
    "\n",
    "The implication of the above is that the length of the plots is fixed in time to a specific window into the past.  This keeps the plotting functions operating efficiently.  If you want the full history of data, you should use the data logger to write data to the file system as it arrives, and then post-process the resulting .csv data after the logging session is complete."
   ]
  },
  {
   "cell_type": "code",
   "execution_count": 19,
   "metadata": {},
   "outputs": [],
   "source": [
    "class plot_buffer():\n",
    "    def __init__(self, size):\n",
    "        self.b = np.zeros(size, dtype=np.float32)\n",
    "        self.next = 0\n",
    "        self.size=size\n",
    "        self.full = False;\n",
    "    def push(self, value):\n",
    "        self.b[self.next]=value\n",
    "        self.next += 1\n",
    "        if self.next>=self.size:\n",
    "            self.full = True\n",
    "            self.next = 0\n",
    "    def unwrapped(self):\n",
    "        if (not self.full):\n",
    "            return(self.b)\n",
    "        else:\n",
    "            return(np.concatenate((self.b[self.next:], self.b[0:self.next-1])))    "
   ]
  },
  {
   "cell_type": "markdown",
   "metadata": {},
   "source": [
    "### Tri-Axial Plot Implementation\n",
    "The xyz_plot class is designed to plot (X, Y & Z) plus the vector magnitude.  It includes a number of GUI controls plus the actual plots.  We use the bqplot library because it offers some very nice interactive plot features built right into the plot library itself.  These include pan/zoom and brush selection, plus the ability to update the plot points in time.\n",
    "\n",
    "This implementation plots values versus SAMPLE INDEX into the past.  This is not exactly the same as plotting versus timestamps.  However, because the FRDM-K22F DOES use a hard real-time for control of sampling intervals, it is functionally the same.   Using sample indices for the X-axis is a simplification that is necessary in order for us to use circular input buffers, which in turn is necessary to keep the plotting functions fast enough to keep up with the input data streams."
   ]
  },
  {
   "cell_type": "code",
   "execution_count": 20,
   "metadata": {
    "ExecuteTime": {
     "end_time": "2019-12-09T15:25:03.125499Z",
     "start_time": "2019-12-09T15:25:02.881650Z"
    }
   },
   "outputs": [],
   "source": [
    "class xyz_plot():\n",
    "    global logger\n",
    "    def plotCallback(self, change):\n",
    "        pass\n",
    "    \n",
    "    def __init__(self, maxLen, title, xAxisLabel, yAxisLabel):\n",
    "        self.title = title\n",
    "        self.lock = threading.Lock()\n",
    "        self.ts = bq.LinearScale()\n",
    "        self.xs = bq.LinearScale()\n",
    "        self.ys = bq.LinearScale()\n",
    "        self.zs = bq.LinearScale()\n",
    "        self.vms = bq.LinearScale()\n",
    "        self.maxLen = maxLen\n",
    "        self.xData  = plot_buffer(maxLen)\n",
    "        self.yData  = plot_buffer(maxLen)\n",
    "        self.zData  = plot_buffer(maxLen)\n",
    "        self.vmData = plot_buffer(maxLen)\n",
    "        self.tData = np.linspace(-maxLen,0,maxLen)       \n",
    "        self.xLine = bq.Lines(x=self.tData, y=[self.xData.b], scales={'x':self.ts, 'y':self.ys}, labels=['X'], colors=['red'], display_legend=True)        \n",
    "        self.yLine = bq.Lines(x=self.tData, y=[self.yData.b], scales={'x':self.ts, 'y':self.ys}, labels=['Y'], colors=['blue'], display_legend=True)        \n",
    "        self.zLine = bq.Lines(x=self.tData, y=[self.zData.b], scales={'x':self.ts, 'y':self.ys}, labels=['Z'], colors=['black'], display_legend=True)\n",
    "        lw = 0.7\n",
    "        self.xLine.stroke_width=lw      \n",
    "        self.yLine.stroke_width=lw\n",
    "        self.zLine.stroke_width=lw  \n",
    "        def_tt = bq.Tooltip(fields=['x', 'y'], formats=['2.3f', '2.2f'], labels=['Time', 'VM'])\n",
    "        self.vmLine = bq.Lines(x=self.tData, y=[self.vmData.b],  tooltip=def_tt, unhovered_style={'opacity': 0.5}, \\\n",
    "            scales={'x':self.ts, 'y':self.ys}, labels=['VM'], display_legend=True)\n",
    "        self.vmLine.colors=['DarkOrange']\n",
    "        self.vmLine.fill = 'bottom'\n",
    "        self.vmLine.fill_opacities = [0.10]\n",
    "        self.vmLine.stroke_width=1\n",
    "        self.vmLine.marker = 'circle'\n",
    "        \n",
    "        self.ax_x = bq.Axis(scale=self.ts, label=xAxisLabel)\n",
    "        self.ax_y = bq.Axis(scale=self.ys, orientation='vertical', label=yAxisLabel)\n",
    "        self.figure = bq.Figure(marks=[self.xLine, self.yLine, self.zLine, self.vmLine], \\\n",
    "                                axes=[self.ax_x, self.ax_y], title=title)\n",
    "        \n",
    "        panzoom = bq.PanZoom(scales={'y': [self.ys]})\n",
    "        intervalSelector = bq.interacts.BrushIntervalSelector(scale=self.ts, marks=[self.xLine, self.yLine, self.zLine, self.vmLine])\n",
    "        intervalSelector.observe(self.plotCallback, names=['selected'])\n",
    "        \n",
    "        from collections import OrderedDict\n",
    "        selection_interacts = widgets.ToggleButtons(options=OrderedDict([('PanZoom', panzoom), \\\n",
    "                    ('BrushIntervalSelector', intervalSelector), ('VM Tooltips', None)]))\n",
    "        link((selection_interacts, 'value'), (self.figure, 'interaction'))\n",
    "        self.figure.layout.height = '400px'\n",
    "        self.figure.layout.width = '70%'\n",
    "        self.visibility_controls = interactive(self.set_visible, x=True, y=True, z=True, vm=False)\n",
    "\n",
    "        plotButton = widgets.Button(\n",
    "            description='Download Plot',\n",
    "            disabled=False,\n",
    "            button_style='', # 'success', 'info', 'warning', 'danger' or ''\n",
    "            tooltip='Will dump current plot into a file on your computer',\n",
    "            icon=''\n",
    "        )\n",
    "        plotButton.on_click(self.on_plotButton_clicked)\n",
    "\n",
    "        self.widget = widgets.HBox([self.figure, widgets.VBox( \\\n",
    "                [widgets.Label(\"Visibility Controls\"), self.visibility_controls, \\\n",
    "                widgets.Label(\"Plot Interactions\"), selection_interacts, \\\n",
    "                widgets.Label(\"Other Functions\"), plotButton, \\\n",
    "                ])])\n",
    "        \n",
    "    def on_plotButton_clicked(self, b):\n",
    "        fn = self.title+'.png'\n",
    "        self.figure.save_png(fn)\n",
    "    \n",
    "    def set_visible(self, x,y,z,vm):\n",
    "        self.xLine.visible = x\n",
    "        self.xLine.display_legend = x\n",
    "        self.yLine.visible = y\n",
    "        self.yLine.display_legend = y\n",
    "        self.zLine.visible = z\n",
    "        self.zLine.display_legend = z\n",
    "        self.vmLine.visible = vm\n",
    "        self.vmLine.display_legend = vm\n",
    "    def push(self,x,y,z):\n",
    "        with self.lock:\n",
    "            self.xData.push(x)\n",
    "            self.yData.push(y)\n",
    "            self.zData.push(z)\n",
    "            self.vmData.push(np.sqrt(x*x + y*y + z*z))\n",
    "    def update(self):\n",
    "        with self.lock:\n",
    "            x = self.xData.unwrapped()\n",
    "            self.xLine.y = []\n",
    "            self.xLine.y = x\n",
    "            \n",
    "            y = self.yData.unwrapped()\n",
    "            self.yLine.y = []\n",
    "            self.yLine.y = y\n",
    "            \n",
    "            z = self.zData.unwrapped()\n",
    "            self.zLine.y = []\n",
    "            self.zLine.y = z\n",
    "            \n",
    "            vm = self.vmData.unwrapped()\n",
    "            self.vmLine.y = []\n",
    "            self.vmLine.y = vm\n",
    "\n",
    "numPlotPoints = 256\n",
    "accelPlot = xyz_plot(numPlotPoints, 'Acceleration', 'Time (sample intervals)', 'Acceleration (g\\'s)')\n",
    "magPlot = xyz_plot(numPlotPoints, 'Magnetic_Field', 'Time (sample intervals)', 'Magnetic Field (uT\\'s)')\n",
    "gyroPlot = xyz_plot(numPlotPoints, 'Angular_Rotation', 'Time (sample intervals)', 'Rotation (dps)')\n",
    "\n",
    "def update_plot():\n",
    "    global accelPlot, magPlot, gyroPlot, skip_plot_updates\n",
    "    if not skip_plot_updates:\n",
    "        accelPlot.update()\n",
    "        magPlot.update()\n",
    "        gyroPlot.update()\n",
    "    return"
   ]
  },
  {
   "cell_type": "markdown",
   "metadata": {},
   "source": [
    "## Tabbed Interface\n",
    "Here's where we pull together the various functions into the tabbed interface.  The \"gui\" variable represents the top level of the graphical hierarchy."
   ]
  },
  {
   "cell_type": "code",
   "execution_count": 21,
   "metadata": {
    "ExecuteTime": {
     "end_time": "2019-12-09T15:25:03.204450Z",
     "start_time": "2019-12-09T15:25:03.144486Z"
    }
   },
   "outputs": [],
   "source": [
    "tab_titles = ['Main', 'Accelerometer', 'Magnetometer', 'Gyroscope']\n",
    "tab = widgets.Tab()\n",
    "for i in range(len(tab_titles)):\n",
    "    tab.set_title(i, tab_titles[i])\n",
    "commonPlotControls = widgets.VBox([widgets.HBox([toggle1, toggle2]), loggingController])\n",
    "tab.children = [main, \\\n",
    "               widgets.VBox([accelPlot.widget, commonPlotControls], layout={'border':'1px solid black'}), \\\n",
    "               widgets.VBox([magPlot.widget, commonPlotControls], layout={'border':'1px solid black'}), \\\n",
    "               widgets.VBox([gyroPlot.widget, commonPlotControls], layout={'border':'1px solid black'})]\n",
    "layout = {\n",
    "    'width': '100%',\n",
    "    'border': '1px solid black',\n",
    "}\n",
    "gui = widgets.VBox([tab, handler.out], layout=layout)"
   ]
  },
  {
   "cell_type": "markdown",
   "metadata": {},
   "source": [
    "# Utility functions\n",
    "These are a few general purpose utility functions used elsewhere in the code."
   ]
  },
  {
   "cell_type": "code",
   "execution_count": 22,
   "metadata": {
    "ExecuteTime": {
     "end_time": "2019-12-09T15:25:03.233433Z",
     "start_time": "2019-12-09T15:25:03.227437Z"
    }
   },
   "outputs": [],
   "source": [
    "# from: https://www.geeksforgeeks.org/python-program-to-convert-a-tuple-to-a-string/\n",
    "# Python3 code to convert tuple  \n",
    "# into string \n",
    "def convertTuple(tup): \n",
    "    str =  ''.join(tup) \n",
    "    return str\n",
    "\n",
    "def check_expected_float(e, a, tol):\n",
    "    global logger\n",
    "    if (a<(e-tol)) or (a>(e+tol)):\n",
    "        logger.error(\"Expected %s = %d, got %d\", e, a, t)\n",
    "        return False;\n",
    "    else:\n",
    "        return True;\n",
    "\n",
    "def check_expected_int(e, a, t):\n",
    "    global logger\n",
    "    if e!=a:\n",
    "        logger.error(\"Expected %s = %f, got %f\", e, a, t)\n",
    "        return False;\n",
    "    else:\n",
    "        return True;"
   ]
  },
  {
   "cell_type": "markdown",
   "metadata": {},
   "source": [
    "# Serial port and GUI interface code\n",
    "\n",
    "The embedded implementation sends two different packet types for consumption by this logger. The first is identical to the standard packet type 1 found in the NXP Sensor Fusion Library.  The second packet type (type 14) is a custom self-test designed to validate the embedded board to python interface.\n",
    "\n",
    "## Process packet type 1"
   ]
  },
  {
   "cell_type": "code",
   "execution_count": 23,
   "metadata": {
    "ExecuteTime": {
     "end_time": "2019-12-09T15:25:03.256417Z",
     "start_time": "2019-12-09T15:25:03.246423Z"
    }
   },
   "outputs": [],
   "source": [
    "packet1_template = Struct('<13h2B')\n",
    "def read_packet1(packet):\n",
    "    global logger\n",
    "    #logger.log(5, \"Starting read_packet1\")\n",
    "    #logger.log(5, \"packet to be processed = %s\", binascii.hexlify(bytearray(packet)))\n",
    "    try:\n",
    "        quat_sf = 30000\n",
    "        global packet_data\n",
    "        packet_data[0] = packet1_template.unpack_from(packet, 6)\n",
    "        update_sensors()\n",
    "        increment_counter()  # update our packet counter\n",
    "    except:\n",
    "        pl = len(packet)\n",
    "        logger.error(\"Exception in function read_packet1(%s).  Packet length=%d\", binascii.hexlify(bytearray(packet) ), pl)\n",
    "jump_table[0] = read_packet1"
   ]
  },
  {
   "cell_type": "markdown",
   "metadata": {},
   "source": [
    "## Process packet type 14 (pack/unpack self-test)"
   ]
  },
  {
   "cell_type": "code",
   "execution_count": 24,
   "metadata": {
    "ExecuteTime": {
     "end_time": "2019-12-09T15:25:03.289396Z",
     "start_time": "2019-12-09T15:25:03.262414Z"
    }
   },
   "outputs": [],
   "source": [
    "packet14_template = Struct('<6B3hH2lL3f')\n",
    "packet_14_test_complete = False # only need to run this once\n",
    "\n",
    "def read_packet14(packet):\n",
    "    global logger, serPort, handler, packet_14_test_complete, update_counter, update_counter_display\n",
    "    if packet_14_test_complete:\n",
    "        return()\n",
    "    packet_14_test_complete = True\n",
    "    #logger.info(\"Starting read_packet14\")\n",
    "    #logger.info(\"packet to be processed = %s\", binascii.hexlify(bytearray(packet)))\n",
    "    try:\n",
    "        packet_data[13] = packet14_template.unpack_from(packet, 0)\n",
    "    except:\n",
    "        logger.error(\"Packet14 unpack_from failed\")\n",
    "        stop_data()\n",
    "    try:\n",
    "        (pt, pn, b1, b2, b3, b4, s1, s2, s3, us, L1, L2, UL, f1, f2, f3) = packet_data[13]\n",
    "    except:\n",
    "        logger.error(\"Packet14 named tuple unpack failed\")\n",
    "        stop_data()\n",
    "    try:\n",
    "        sts = \\\n",
    "        check_expected_int(0x0E, pt, \"byte\") and \\\n",
    "        check_expected_int(0xAA, b1, \"byte\") and \\\n",
    "        check_expected_int(0x55, b2, \"byte\") and \\\n",
    "        check_expected_int(0x0f, b3, \"byte\") and \\\n",
    "        check_expected_int(0xf0, b4, \"byte\") and \\\n",
    "        check_expected_int(1, s1, \"short\") and \\\n",
    "        check_expected_int(-1, s2, \"short\") and \\\n",
    "        check_expected_int(256, s3, \"short\") and \\\n",
    "        check_expected_int(62960, us, \"unsigned short\") and \\\n",
    "        check_expected_int(1, L1, \"long\") and \\\n",
    "        check_expected_int(-1, L2, \"long\") and \\\n",
    "        check_expected_int(305419896, UL, \"unsigned long\") and \\\n",
    "        check_expected_float(1, f1, .00001) and \\\n",
    "        check_expected_float(-1, f2, .00001) and \\\n",
    "        check_expected_float(-1.123456, f3, .00001)\n",
    "        if sts:\n",
    "            logger.info(\"Packet14 check completed OK\")\n",
    "        else:\n",
    "            logger.error(\"Packet14 check failed.  Please inspect preceeding messages\")\n",
    "    except:\n",
    "        pl = len(packet)\n",
    "        logger.error(\"Exception in function read_packet14(%s).  Packet length=%d\", binascii.hexlify(bytearray(packet) ), pl)\n",
    "    logger.log(5,\"Completing read_packet14\")\n",
    "jump_table[13] = read_packet14"
   ]
  },
  {
   "cell_type": "markdown",
   "metadata": {},
   "source": [
    "## Function for updating GUI sensors values, plots, etc.\n",
    "\n",
    "The update_sensors() packet is called by the read_packet1() function shown above.  It's job is to push new data to both plot and data logger consumers.\n",
    "\n",
    "The update_sensors_display() is called periodically (in a separate thread from the serial communications) to update the graphic displays."
   ]
  },
  {
   "cell_type": "code",
   "execution_count": 25,
   "metadata": {
    "ExecuteTime": {
     "end_time": "2019-12-09T15:25:03.312382Z",
     "start_time": "2019-12-09T15:25:03.292395Z"
    }
   },
   "outputs": [],
   "source": [
    "def update_sensors():\n",
    "    global packet_data, logger, q0_echo, q1_echo, q2_echo, q3_echo, q_mag\n",
    "    #logger.log(5, \"entering update_copter\")\n",
    "    if packet_data[0] == None:\n",
    "        pass\n",
    "    else:\n",
    "        quat_sf = 30000\n",
    "        accel_sf = .00012207 # 122.07 ug  per LSB\n",
    "        mag_sf = 0.1         #   0.   uT  per LSB\n",
    "        gyro_sf = 0.05       #   0.05 dps per LSB\n",
    "        (accX, accY, accZ, magX, magY, magZ, gyroX, gyroY, gyroZ, q0, q1, q2, q3, flags, boardIDs) = packet_data[0]\n",
    "        accX = accel_sf * accX\n",
    "        accY = accel_sf * accY\n",
    "        accZ = accel_sf * accZ\n",
    "        magX = mag_sf * magX\n",
    "        mayY = mag_sf * magY\n",
    "        magZ = mag_sf * magZ\n",
    "        gyroX = gyro_sf * gyroX\n",
    "        gyroY = gyro_sf * gyroY\n",
    "        gyroZ = gyro_sf * gyroZ\n",
    "        accelPlot.push(accX, accY, accZ)\n",
    "        magPlot.push(magX, magY, magZ)\n",
    "        gyroPlot.push(gyroX, gyroY, gyroZ)\n",
    "        loggingController.logXYZ(accX, accY, accZ, magX, magY, magZ, gyroX, gyroY, gyroZ)\n",
    "\n",
    "        \n",
    "def update_sensors_display():\n",
    "    global packet_data, logger, q0_echo, q1_echo, q2_echo, q3_echo, q_mag, accelPlot\n",
    "    #logger.log(5, \"entering update_copter\")\n",
    "    if packet_data[0] == None:\n",
    "        pass\n",
    "    else:\n",
    "        quat_sf = 30000\n",
    "        accel_sf = .00012207 # 122.07 ug  per LSB\n",
    "        mag_sf = 0.1         #   0.   uT  per LSB\n",
    "        gyro_sf = 0.05       #   0.05 dps per LSB\n",
    "        (accX, accY, accZ, magX, magY, magZ, gyroX, gyroY, gyroZ, q0, q1, q2, q3, flags, boardIDs) = packet_data[0]\n",
    "        q0 = q0/quat_sf\n",
    "        q1 = q1/quat_sf\n",
    "        q2 = q2/quat_sf\n",
    "        q3 = q3/quat_sf\n",
    "        accX = accel_sf * accX\n",
    "        accY = accel_sf * accY\n",
    "        accZ = accel_sf * accZ\n",
    "        magX = mag_sf * magX\n",
    "        mayY = mag_sf * magY\n",
    "        magZ = mag_sf * magZ\n",
    "        gyroX = gyro_sf * gyroX\n",
    "        gyroY = gyro_sf * gyroY\n",
    "        gyroZ = gyro_sf * gyroZ\n",
    "        update_copter_orientation_by_q_components(q0, q1, q2, q3)\n",
    "        update_accel_row(accX, accY, accZ)\n",
    "        update_mag_row(magX, magY, magZ)\n",
    "        update_gyro_row(gyroX, gyroY, gyroZ)\n",
    "        update_quat_row(q0, q1, q2, q3)\n",
    "\n",
    "gui_updaters.append(update_sensors_display)\n",
    "gui_updaters.append(update_plot)\n"
   ]
  },
  {
   "cell_type": "markdown",
   "metadata": {},
   "source": [
    "# Display the GUI\n",
    "And finally, let's display the final application. "
   ]
  },
  {
   "cell_type": "code",
   "execution_count": 26,
   "metadata": {
    "ExecuteTime": {
     "end_time": "2019-12-09T15:25:03.443302Z",
     "start_time": "2019-12-09T15:25:03.435307Z"
    },
    "scrolled": false
   },
   "outputs": [
    {
     "data": {
      "application/vnd.jupyter.widget-view+json": {
       "model_id": "e254ff3f53804584a087afaf607087b3",
       "version_major": 2,
       "version_minor": 0
      },
      "text/plain": [
       "VBox(children=(Tab(children=(HBox(children=(Preview(child=Mesh(castShadow=True, geometry=BufferGeometry(attrib…"
      ]
     },
     "metadata": {},
     "output_type": "display_data"
    }
   ],
   "source": [
    "display(gui)"
   ]
  }
 ],
 "metadata": {
  "hide_input": false,
  "kernelspec": {
   "display_name": "Python 3",
   "language": "python",
   "name": "python3"
  },
  "language_info": {
   "codemirror_mode": {
    "name": "ipython",
    "version": 3
   },
   "file_extension": ".py",
   "mimetype": "text/x-python",
   "name": "python",
   "nbconvert_exporter": "python",
   "pygments_lexer": "ipython3",
   "version": "3.7.6"
  },
  "toc": {
   "base_numbering": 1,
   "nav_menu": {},
   "number_sections": true,
   "sideBar": true,
   "skip_h1_title": false,
   "title_cell": "Table of Contents",
   "title_sidebar": "Contents",
   "toc_cell": false,
   "toc_position": {
    "height": "550.667px",
    "left": "46px",
    "top": "109.778px",
    "width": "341.295px"
   },
   "toc_section_display": true,
   "toc_window_display": true
  },
  "varInspector": {
   "cols": {
    "lenName": 16,
    "lenType": 16,
    "lenVar": 40
   },
   "kernels_config": {
    "python": {
     "delete_cmd_postfix": "",
     "delete_cmd_prefix": "del ",
     "library": "var_list.py",
     "varRefreshCmd": "print(var_dic_list())"
    },
    "r": {
     "delete_cmd_postfix": ") ",
     "delete_cmd_prefix": "rm(",
     "library": "var_list.r",
     "varRefreshCmd": "cat(var_dic_list()) "
    }
   },
   "position": {
    "height": "514.542px",
    "left": "764.361px",
    "right": "20px",
    "top": "96px",
    "width": "800px"
   },
   "types_to_exclude": [
    "module",
    "function",
    "builtin_function_or_method",
    "instance",
    "_Feature"
   ],
   "window_display": false
  }
 },
 "nbformat": 4,
 "nbformat_minor": 2
}
