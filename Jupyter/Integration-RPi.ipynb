{
 "cells": [
  {
   "cell_type": "markdown",
   "metadata": {
    "code_folding": [],
    "hide_input": true
   },
   "source": [
    "# Raspberry Pi Data Logger Interface via Jupyter/Python<a class=\"tocSkip\">"
   ]
  },
  {
   "cell_type": "markdown",
   "metadata": {
    "hide_input": false
   },
   "source": [
    "&copy; 2020 by Michael Stanley (Mike.Stanley@ieee.org)<BR>\n",
    "Last revised: 29 August 2020\n",
    "\n",
    "# Introduction\n",
    "This notebook uses a number of Python libraries to implement a simple interface for capturing sensor information\n",
    "from a Raspberry Pi.    Graphics are provided using the bqplot library, and GUI widgets are created\n",
    "using the standard ipywidgets library.  Communication to the Pi is via a simple streaming socket interface.\n",
    "    \n",
    "This notebook is intended both as proof of concept and as a teaching aide.  It is NOT intended for production use in collecting sensor data.  In that case, a non-Jupyter implemention makes more sense.  Please use the notebook in the spirit in which it is intended.\n",
    "    \n",
    "This draft of the Notebook is intended to work in conjunction with a standard Raspberry Pi (RPi 3 Model B used for development) coupled with an RPi Sense Hat.\n",
    "![Raspberry Pi Sense Hat](../Images/SenseHat.png)  \n",
    "![Raspberry Pi Model 3B](../Images/RPi.png)\n",
    "# External code Imports\n",
    "## Import from standard and 3rd party libraries"
   ]
  },
  {
   "cell_type": "code",
   "execution_count": 1,
   "metadata": {
    "ExecuteTime": {
     "end_time": "2019-12-09T15:25:01.576460Z",
     "start_time": "2019-12-09T15:25:01.569463Z"
    },
    "hide_input": false
   },
   "outputs": [],
   "source": [
    "import ipywidgets as widgets        # Standard widget library for GUI construction \n",
    "from ipywidgets import interact, interactive, fixed, interact_manual\n",
    "from pythreejs import pi, Preview   # Graphics library (used for 3D display)\n",
    "import binascii                     # convert binary data to printable form\n",
    "import threading                    # support for multithreading\n",
    "import numpy as np                  # mathematical library\n",
    "import time                         # used for the sleep function\n",
    "import math                         # standard math functions\n",
    "#import yappi                       # you can optionally use yappi to profile parts of the code\n",
    "import bqplot as bq                 # bqplot provides an object oriented plotting function with many capabilities\n",
    "import collections                  # used to create dictionaries\n",
    "from traitlets import link          # used for linking plot selection interaction functions\n",
    "from IPython.display import clear_output, display  # used to implement GUI functions\n",
    "from ipyfilechooser import FileChooser             # 3rd party code used to implement a file selection function\n",
    "import os                           # primarily used to get the current working directory on the PC\n",
    "import socket                       # Used for communications with the Raspberry Pi\n",
    "import json                         # Data is sent via JSON packets, which are easily decoded here"
   ]
  },
  {
   "cell_type": "markdown",
   "metadata": {
    "hide_input": false
   },
   "source": [
    "## Import other modules of this application\n",
    "Some libraries are built as reusable modules that can be imported into multiple Jupyter Notebooks"
   ]
  },
  {
   "cell_type": "code",
   "execution_count": 2,
   "metadata": {
    "ExecuteTime": {
     "end_time": "2019-12-09T15:25:01.589451Z",
     "start_time": "2019-12-09T15:25:01.584457Z"
    }
   },
   "outputs": [],
   "source": [
    "from OutputWidgetHandler import *           # ipywidgets adaptation for use with standard python logging functions"
   ]
  },
  {
   "cell_type": "markdown",
   "metadata": {
    "ExecuteTime": {
     "end_time": "2019-12-09T15:25:01.638421Z",
     "start_time": "2019-12-09T15:25:01.624430Z"
    },
    "code_folding": [],
    "heading_collapsed": true
   },
   "source": [
    "# Central Status Logging Facility\n",
    "\n",
    "Because we have multiple GUI objects as well as multiple threads, a standard mechansim is required to send \n",
    "messages to the user. This is provided using the logger object.  Reference OutputWidgetHandler.py in this same \n",
    "directory for details of the implementation.\n",
    "\n",
    "Example logger calls include:\n",
    "*    logger.debug(\"Test Debug Message\")\n",
    "*    logger.info(\"Test Info Message\")\n",
    "*    logger.warning(\"Test Warning Message\")\n",
    "*    logger.error(\"Test Error Message\")\n",
    "*    logger.critical(\"Test Critical Message\")\n",
    "\n",
    "Logger messaged are automatically sent to the GUI console window.  That window can be cleared by clicking the \"Clear Console\" button on the \"Main\" tab of the GUI.\n",
    "\n",
    "## Setup the logger"
   ]
  },
  {
   "cell_type": "code",
   "execution_count": 3,
   "metadata": {
    "ExecuteTime": {
     "end_time": "2019-12-09T15:25:01.619435Z",
     "start_time": "2019-12-09T15:25:01.606442Z"
    },
    "hidden": true
   },
   "outputs": [],
   "source": [
    "logger = logging.getLogger(__name__)\n",
    "handler = OutputWidgetHandler()\n",
    "handler.setFormatter(logging.Formatter('%(asctime)s - %(threadName)-10s %(message)s'))\n",
    "logger.addHandler(handler)\n",
    "logger.setLevel(logging.INFO)\n",
    "#logger.setLevel(4)"
   ]
  },
  {
   "cell_type": "markdown",
   "metadata": {},
   "source": [
    "# Custom class for tracking data rates\n",
    "The TimeKeeper class was designed to keep track of the number of packets sent over time and the instantaneous and average data rates over time.  The current Raspberry Pi embedded code does NOT use a hard real-time clock to ensure data rates.  We send data as quickly as possible.  So this class can be used to compute effective rates."
   ]
  },
  {
   "cell_type": "code",
   "execution_count": 4,
   "metadata": {
    "ExecuteTime": {
     "end_time": "2019-12-09T15:25:02.097137Z",
     "start_time": "2019-12-09T15:25:02.077150Z"
    }
   },
   "outputs": [],
   "source": [
    "import time\n",
    "import threading\n",
    "class TimeKeeper():\n",
    "    def __init__(self):\n",
    "        self.lock = threading.Lock()\n",
    "        self.reset()\n",
    "    def reset(self):\n",
    "        with self.lock:\n",
    "            self.current_rate=0\n",
    "            self.average_rate=0\n",
    "            self.packet_counter=0\n",
    "            self.last_packet_counter=0\n",
    "            self.last_time=time.time()\n",
    "            self.start_time=self.last_time\n",
    "    def incrementPacket(self):\n",
    "        with self.lock:\n",
    "            self.packet_counter += 1\n",
    "    def snapshot(self):\n",
    "        with self.lock:\n",
    "            newTime = time.time()\n",
    "            deltaTime = newTime - self.last_time\n",
    "            self.last_time = newTime\n",
    "            deltaPackets = self.packet_counter - self.last_packet_counter\n",
    "            self.last_packet_counter = self.packet_counter\n",
    "            if (deltaTime>0):\n",
    "                self.current_rate = deltaPackets/deltaTime\n",
    "            deltaTime = newTime - self.start_time\n",
    "            if (deltaTime>0):\n",
    "                self.average_rate = self.packet_counter/deltaTime\n",
    "            return (self.packet_counter, self.current_rate, self.average_rate)"
   ]
  },
  {
   "cell_type": "markdown",
   "metadata": {},
   "source": [
    "# Update GUI Function Called During Serial Streaming\n",
    "Data streams to/from the Raspberry Pi and updates to the GUI are done in two separate background tasks.  In this way, GUI update rates can be separately throttled so that GUI updates (which are slow) do not starve the serial stream of CPU cycles.  This is a fairly standard way of managing tradeoffs in these types of application.\n",
    "We keep a list of functions called \"gui_updaters\" which are periodically called to update various portions of the GUI.  This allows us to keep individual GUI update functions simple, but still executed in a controlled fashion."
   ]
  },
  {
   "cell_type": "code",
   "execution_count": 5,
   "metadata": {
    "ExecuteTime": {
     "end_time": "2019-12-09T15:25:02.118124Z",
     "start_time": "2019-12-09T15:25:02.101133Z"
    }
   },
   "outputs": [],
   "source": [
    "gui_updaters = []     # List of functions to be called periodically to update the GUI\n",
    "                      # This list will be added to in the code that follows  \n",
    "stop_gui_updates = False  # Set to True to stop the GUI updates (normally done when the serial port is inactive)\n",
    "skip_plot_updates = False  # Set to True to skip plot updates BUT NOT DISABLE serial port or GUI update thread\n",
    "gui_update_interval = 0.5  # Experimentally, a half second update interval seems to work best\n",
    "def update_gui(socketClient):\n",
    "    global logger, gui_update_interval, stop_gui_updates, gui_updaters\n",
    "    try:\n",
    "        while not stop_gui_updates:\n",
    "            with socketClient.lock:\n",
    "                for item in gui_updaters:\n",
    "                    item()\n",
    "            time.sleep(gui_update_interval)\n",
    "        logger.info(\"Exiting update_gui() loop\")\n",
    "    except Exception as ex:\n",
    "        logger.error(\"Exception in function update_gui(): \", str(ex))"
   ]
  },
  {
   "cell_type": "markdown",
   "metadata": {},
   "source": [
    "# Socket Client\n",
    "Python has a very nice (and simple) socket library available via the \"socket\" module.  We have used that to create a simple streaming interface for communicating with the Raspberry Pi.  We assign a fixed IP address to the Pi using the fixed IP address feature of a wireless router.  This is a standard feature available on modern routers.\n",
    "The communications process is:\n",
    "* Upon startup, the Raspberry Pi connects to the wireless network and is assigned a (fixed) IP address\n",
    "* The Pi will output this address to the LED panel on the Sensor hat\n",
    "* That same address should be assigned to the ipAddress text field defined later in this notebook.\n",
    "* Clicking the \"Connect to Raspberry Pi\" button will initiate a socket\n",
    "* The Pi sends a connection confirmation\n",
    "* The Pi sends a continuous stream of sensor packets (in JSON format) until the connection is terminated either by this Notebook or the Pi itself.\n",
    "* Packets are decoded using the \"read_packet\" function, and GUI updates done accordingly.\n",
    "\n",
    "The only \"public\" interfaces for this client are the constructor, connect() and stop()."
   ]
  },
  {
   "cell_type": "code",
   "execution_count": 6,
   "metadata": {
    "ExecuteTime": {
     "end_time": "2019-12-09T15:25:02.199074Z",
     "start_time": "2019-12-09T15:25:02.123121Z"
    }
   },
   "outputs": [],
   "source": [
    "class SocketClient():\n",
    "    global logger\n",
    "    def __init__(self, headersize=10, typesize=3):\n",
    "        self.headersize=headersize\n",
    "        self.typesize=typesize\n",
    "        self.port = 5556              # Must match port number used on code running on the Raspberry PI\n",
    "        self.lock = threading.Lock()  # used for coordination between threads\n",
    "        self.connection_ok = False\n",
    "\n",
    "    def open(self, board_address = '192.168.0.253'):\n",
    "        try:\n",
    "            self.host = board_address\n",
    "            self.s = socket.socket(socket.AF_INET, socket.SOCK_STREAM) \n",
    "            self.s.connect((self.host, self.port)) \n",
    "            self.connection_ok = True        \n",
    "            self.thread = threading.Thread(name=\"Reading\", target=self.connect)\n",
    "            self.thread.setDaemon(True)\n",
    "            self.thread.start() # Kick off the separate thread running the connect function below\n",
    "        except Exception as ex:\n",
    "            self.connection_ok=False\n",
    "        return(self.connection_ok)\n",
    "    \n",
    "    def process_packet(self, msg, new_msg, full_msg):\n",
    "        if new_msg:\n",
    "            self.packet_type = int(msg[:self.typesize])\n",
    "            self.msgLen = int(msg[self.typesize:self.headersize+self.typesize])\n",
    "            new_msg=False\n",
    "        full_msg += msg.decode(\"utf-8\")\n",
    "        payload_length = len(full_msg)-self.headersize-self.typesize\n",
    "        if payload_length >= self.msgLen:\n",
    "            payloadStr = full_msg[self.headersize+self.typesize:self.headersize+self.typesize+self.msgLen]\n",
    "            if (self.packet_type==2):\n",
    "                self.numPackets+=1\n",
    "                #print('Packet type 2 received: {0} '.format(payloadStr))\n",
    "                packet = json.loads(payloadStr)\n",
    "                #print('Packet {0} received'.format(numPackets))\n",
    "                #print('Packet type 2 received: {0} '.format(str(packet)))\n",
    "                read_packet(packet)\n",
    "            else:\n",
    "                logger.info(\"Message received: {0}\".format(payloadStr))\n",
    "        if payload_length == self.msgLen:\n",
    "            new_msg=True\n",
    "            full_msg=''\n",
    "        elif payload_length > msgLen:\n",
    "            logger.Info(\"Message length exceeded expected: {0}. Processing further...\".format(full_msg[self.headersize:]))\n",
    "            msg = full_msg[self.headersize+self.typesize+self.msgLen:]\n",
    "            new_msg=True\n",
    "            full_msg=''\n",
    "            new_msg, full_msg = self.process_packet(msg, new_msg, full_msg)\n",
    "        return(new_msg, full_msg)\n",
    "\n",
    "    def connect(self):\n",
    "        full_msg=''\n",
    "        new_msg = True\n",
    "        self.numPackets=0\n",
    "        while self.connection_ok==True:\n",
    "            try:\n",
    "                msg = self.s.recv(1024)\n",
    "                new_msg, full_msg = self.process_packet(msg, new_msg, full_msg)\n",
    "            except Exception as ex:\n",
    "                connection_ok = False\n",
    "            time.sleep(0.001)\n",
    "        self.s.close()\n",
    "        logger.info('Connection closed')\n",
    "    def stop(self):\n",
    "        self.connection_ok=False\n",
    "        \n",
    "socketClient = SocketClient()"
   ]
  },
  {
   "cell_type": "markdown",
   "metadata": {},
   "source": [
    "# GUI Component Definitions\n",
    "Technically speaking, you really don't need a graphical user interface to do data collection.  But it helps tremendously to ensure that connections are properly made and that data received looks good in real-time, rather than waiting until a lengthly data collection session has been completed.\n",
    "\n",
    "The GUI interface includes a \"Main\" tab that can be used to specify non-default IP addresses for the Raspberry PI, fields to display recently received sensor values.  Also included are tabs for displaying charts for each sensor type.  The charts are \"smart\" and include the ability to connect/disconnect, turn data logging on/off, zoom in both X and Y dimensions and do separate dumps of subsegments of the input waveforms."
   ]
  },
  {
   "cell_type": "markdown",
   "metadata": {},
   "source": [
    "## Communications & Plot Control Functions\n",
    "The serial port operates in a separate thread managed by the SocketClient class defined above.  That thread is started/stopped via the toggle_serial_port() function callback to the toggle1 button that follows below.  Notice how the toggle1 button description is changed depending upon the mode of operation."
   ]
  },
  {
   "cell_type": "code",
   "execution_count": 7,
   "metadata": {
    "ExecuteTime": {
     "end_time": "2019-12-09T15:25:02.273027Z",
     "start_time": "2019-12-09T15:25:02.250041Z"
    }
   },
   "outputs": [],
   "source": [
    "def stop_data():\n",
    "    global stop_gui_updates, toggle1, socketClient, logger\n",
    "    # Disable serial port\n",
    "    with socketClient.lock: # lock prevents a race condition that can occur due to async stop & read functions\n",
    "        stop_gui_updates = True;\n",
    "        logger.debug(\"STOP REQUEST ACKNOWLEDGED\")\n",
    "        socketClient.stop()\n",
    "        toggle1.description=\"Connect to Raspberry Pi\"\n",
    "        logger.debug(\"Board connection has been closed\")\n",
    "\n",
    "def toggle_serial_port(change):\n",
    "    # Callback for serial port enable/disable button\n",
    "    global logger, socketClient, ipAddress, stop_gui_updates\n",
    "    newState = change['new']\n",
    "    if newState:\n",
    "        # Enable serial port\n",
    "        logger.debug(\"Button callback: Opening connection to board\")\n",
    "        sts = socketClient.open(board_address = ipAddress.value)\n",
    "        if sts:\n",
    "            logger.debug(\"Socket to board successfully opened\")\n",
    "            stop_gui_updates = False;\n",
    "            toggle1.description=\"Close connection\"\n",
    "            logger.debug(\"Starting second thread for GUI updates\")\n",
    "            t2 = threading.Thread(name=\"GuiUpdate\", target=update_gui, kwargs=dict(socketClient=socketClient))\n",
    "            t2.setDaemon(True)\n",
    "            t2.start()\n",
    "            logger.debug(\"GUI update thread started.\")            \n",
    "        else:\n",
    "            logger.error(\"ERROR!  Could not open connection to board\")\n",
    "    else:\n",
    "        stop_data()\n",
    "    return()"
   ]
  },
  {
   "cell_type": "markdown",
   "metadata": {},
   "source": [
    "## Port Enable/Disable\n",
    "Here is the actual toggle1 button used to enable/disable the connection to the serial board.  Note how the callback above is tied to the button using it's observe method."
   ]
  },
  {
   "cell_type": "code",
   "execution_count": 8,
   "metadata": {
    "ExecuteTime": {
     "end_time": "2019-12-09T15:25:02.299010Z",
     "start_time": "2019-12-09T15:25:02.277024Z"
    }
   },
   "outputs": [],
   "source": [
    "toggle1=widgets.ToggleButton(\n",
    "    value=False,\n",
    "    description='Connect to Raspberry Pi',\n",
    "    disabled=False,\n",
    "    button_style='', # 'success', 'info', 'warning', 'danger' or ''\n",
    "    tooltip='Click this button to start/stop receiving data from your Raspberry Pi',\n",
    "    icon='',\n",
    "    layout=widgets.Layout(width='200px', height='auto')\n",
    ") # note we are not displaying the widget yet\n",
    "\n",
    "toggle1.observe(toggle_serial_port, 'value') # This ties in the callback function"
   ]
  },
  {
   "cell_type": "markdown",
   "metadata": {},
   "source": [
    "## 7.3 Field used to specify IP address for the Raspberry Pi\n",
    "Note that the value field should be changed to default address of your Pi board.  But if you forget, you can overwrite the value in the GUI prior to opening the socket location."
   ]
  },
  {
   "cell_type": "code",
   "execution_count": 9,
   "metadata": {},
   "outputs": [
    {
     "data": {
      "application/vnd.jupyter.widget-view+json": {
       "model_id": "912fc7519352414ea8b3d6e51834b595",
       "version_major": 2,
       "version_minor": 0
      },
      "text/plain": [
       "Text(value='192.168.0.253', description='IP Address:')"
      ]
     },
     "metadata": {},
     "output_type": "display_data"
    }
   ],
   "source": [
    "ipAddress = widgets.Text(\n",
    "    value='192.168.0.253',  # This should match the IP address assigned to your Raspberry Pi\n",
    "    description='IP Address:',\n",
    "    disabled=False   \n",
    ")\n",
    "#display(ipAddress)"
   ]
  },
  {
   "cell_type": "markdown",
   "metadata": {},
   "source": [
    "## Plot freeze/unfreeze control\n",
    "The plot freeze control can suspend plot updates without effecting data streaming operations."
   ]
  },
  {
   "cell_type": "code",
   "execution_count": 10,
   "metadata": {
    "ExecuteTime": {
     "end_time": "2019-12-09T15:25:02.299010Z",
     "start_time": "2019-12-09T15:25:02.277024Z"
    }
   },
   "outputs": [],
   "source": [
    "def toggle_plot_freeze(change):\n",
    "    # Callback for serial port enable/disable button\n",
    "    global skip_plot_updates\n",
    "    newState = change['new']\n",
    "    if newState:\n",
    "        skip_plot_updates = False\n",
    "        toggle2.description=\"Freeze Plots\"\n",
    "    else:\n",
    "        skip_plot_updates = True;\n",
    "        toggle2.description=\"Re-enable Plots\"\n",
    "    return()\n",
    "\n",
    "toggle2=widgets.ToggleButton(\n",
    "    value=True,\n",
    "    description='Freeze Plot',\n",
    "    disabled=False,\n",
    "    button_style='', # 'success', 'info', 'warning', 'danger' or ''\n",
    "    tooltip='Click this button to freeze/start plots without affecting sensor communications',\n",
    "    icon=''\n",
    ") # note we are not displaying the widget yet\n",
    "\n",
    "toggle2.observe(toggle_plot_freeze, 'value') # This ties in the callback f"
   ]
  },
  {
   "cell_type": "markdown",
   "metadata": {},
   "source": [
    "## Data Logger\n",
    "The act of recording sensor data to .csv files is encapsulated within the LoggingController class.  Notice that this class incorporates both GUI and functional components of the data logger.  It looks like an ipywidgets HBOX that contains all the functionality needed for specifying what output file to write and when to write it.\n",
    "\n",
    "\"Public\" methods are the constructor, log() and loggerStartStop() functions.  One of the GUI sub-components here is a file selection widget derived from the 3rd party ipyfilechooser Python library.\n",
    "\n",
    "Data logs are in .csv format and include the following columns of data:\n",
    "* sample number\n",
    "* sample time\n",
    "* X-axis acceleration in g's\n",
    "* Y-axis acceleration in g's\n",
    "* Z-axis acceleration in g's\n",
    "* X-axis magnitometer reading in microTeslas\n",
    "* Y-axis magnitometer reading in microTeslas\n",
    "* Z-axis magnitometer reading in microTeslas\n",
    "* X-axis gyro reading in radians per second\n",
    "* Y-axis gyro reading in radians per second\n",
    "* Z-axis gyro reading in radians per second\n",
    "* Temperature in Celcius\n",
    "* Relative Humidity (rH) in %\n",
    "* Pressure in inches of Mercury (the Raspberry PI Sense Hat returns pressure in Millibars, but the server on the Pi converts it to inches of Mercury before transmission.\n",
    "\n",
    "See https://pythonhosted.org/sense-hat/api/ for additional details of the Sense Hat API."
   ]
  },
  {
   "cell_type": "code",
   "execution_count": 11,
   "metadata": {
    "ExecuteTime": {
     "end_time": "2019-12-09T15:25:02.299010Z",
     "start_time": "2019-12-09T15:25:02.277024Z"
    }
   },
   "outputs": [],
   "source": [
    "logging_enabled = False  # Set to True to enable logging\n",
    "\n",
    "class LoggingController(widgets.HBox):\n",
    "    def __init__(self):\n",
    "        self.lf = None\n",
    "        self.logging_enabled = False;\n",
    "        self.logIndex=0\n",
    "        self.toggle=widgets.ToggleButton(\n",
    "            value=False,\n",
    "            description='Start Logging',\n",
    "            disabled=False,\n",
    "            button_style='', # 'success', 'info', 'warning', 'danger' or ''\n",
    "            tooltip='Click this button to turn sensor logging on and off',\n",
    "            icon=''\n",
    "        ) # note we are not displaying the widget yet\n",
    "        \n",
    "        # Create new FileChooser:\n",
    "        # Path: current directory\n",
    "        # File: log.csv\n",
    "        # Title: <b>Logger Output File</b>\n",
    "        # Show hidden files: no\n",
    "        # Use the default path and filename as selection: yes\n",
    "        self.file_dialog = FileChooser(\n",
    "            os.getcwd(),\n",
    "            filename='log.csv',\n",
    "            title='<b>Logger Output File</b>',\n",
    "            show_hidden=False,\n",
    "            select_default=True\n",
    "        )\n",
    "        \n",
    "        self.toggle.observe(self.loggerStartStop, 'value') # This ties in the callback f\n",
    "        \n",
    "        super().__init__(\n",
    "            children = [self.toggle, self.file_dialog]\n",
    "        )\n",
    "\n",
    "    def log(self, packetTime, accelX, accelY, accelZ, magX, magY, magZ, gyroX, gyroY, gyroZ, temp, pressure, rH):\n",
    "        if not self.lf==None:\n",
    "            print('{0},  {1:10.4f}, {2:6.3f}, {3:6.3f}, {4:6.3f}, {5:6.3f}, {6:6.3f}, {7:6.3f}, {8:6.3f}, {9:6.3f}, {10:6.3f}, {11:6.3f}, {12:6.3f}, {13:6.3f}'\\\n",
    "                .format(self.logIndex, packetTime, accelX, accelY, accelZ, magX, magY, magZ, gyroX, gyroY, gyroZ, temp, rH, pressure), file=self.lf)\n",
    "            self.logIndex += 1\n",
    "   \n",
    "    def loggerStartStop(self, change):\n",
    "        # Callback for logging start/stop button\n",
    "        newState = change['new']\n",
    "        if newState:\n",
    "            try:\n",
    "                self.lf = open(self.file_dialog.selected, 'wt')\n",
    "                print('Index, Time, accelX, accelY, accelZ, magX, magY, magZ, gyroX, gyroY, gyroZ, temp, rH, pressure', file=self.lf)\n",
    "                self.logging_enabled = True\n",
    "                self.toggle.description=\"Stop Logging\"\n",
    "            except Exception as ex:\n",
    "                logger.error(\"Could not open logger output file.  Check to see if it is open elsewhere. \", str(ex))\n",
    "        else:\n",
    "            if not self.lf==None:\n",
    "                self.lf.close()\n",
    "                self.lf = None\n",
    "                self.logIndex = 0\n",
    "            self.logging_enabled=False\n",
    "            self.toggle.description=\"Start Logging\"\n",
    "        return()\n",
    "\n",
    "loggingController = LoggingController()"
   ]
  },
  {
   "cell_type": "markdown",
   "metadata": {},
   "source": [
    "## Button and Callback for Clearing Console\n",
    "Clearing past messages from the console is trivially implemented with this button and callback."
   ]
  },
  {
   "cell_type": "code",
   "execution_count": 12,
   "metadata": {
    "ExecuteTime": {
     "end_time": "2019-12-09T15:25:02.326993Z",
     "start_time": "2019-12-09T15:25:02.304008Z"
    }
   },
   "outputs": [],
   "source": [
    "def on_button1_clicked(b):\n",
    "    handler.clear()  \n",
    "\n",
    "button1 = widgets.Button(\n",
    "    description='Clear Console',\n",
    "    disabled=False,\n",
    "    button_style='', # 'success', 'info', 'warning', 'danger' or ''\n",
    "    tooltip='Click me',\n",
    "    icon=''\n",
    ")\n",
    "button1.on_click(on_button1_clicked)"
   ]
  },
  {
   "cell_type": "markdown",
   "metadata": {},
   "source": [
    "## Accel/Mag/Gyro/Quaternion Values Table\n",
    "The \"Main\" tab of the GUI contains a table that displays recently received sensor values for the accelerometer, magnetometer and gyroscope.  That table is defined using an ipywidgets GridspecLayout function.\n",
    "\n",
    "### Table Definition"
   ]
  },
  {
   "cell_type": "code",
   "execution_count": 13,
   "metadata": {
    "ExecuteTime": {
     "end_time": "2019-12-09T15:25:02.726746Z",
     "start_time": "2019-12-09T15:25:02.330992Z"
    }
   },
   "outputs": [],
   "source": [
    "from ipywidgets import GridspecLayout\n",
    "colNames = ['X', 'Y', 'Z', 'VM']\n",
    "rowNames = [\"Accel (g's)\", \"Mag (uT's)\", \"Gyro (dps)\"]\n",
    "def table1(colNames, rowNames):\n",
    "    grid = GridspecLayout(4, 5, grid_gap='0px', width='75%')\n",
    "    rowNums = range(1,len(rowNames)+1)\n",
    "    colNums = range(1,len(colNames)+1)\n",
    "    for i in rowNums:\n",
    "        for j in colNums:\n",
    "            grid[i, j] = widgets.FloatText(value=0.0, layout=widgets.Layout(width='110px', height='auto'))\n",
    "    for idx, colName in zip(colNums, colNames):\n",
    "        grid[0, idx] = widgets.Label(value=colName, layout=widgets.Layout(width='110px', height='auto'))\n",
    "    for idx, rowName in zip(rowNums, rowNames):\n",
    "        grid[idx, 0] = widgets.Label(value=rowName, layout=widgets.Layout(width='110px', height='auto'))\n",
    "    grid[0,0] = widgets.Text(value=\"0 / 0.0\", layout=widgets.Layout(width='110px', height='auto'))\n",
    "    return(grid)\n",
    "sensor_grid1=table1(colNames, rowNames)\n",
    "#display(sensor_grid1)  # Uncomment for debug"
   ]
  },
  {
   "cell_type": "markdown",
   "metadata": {},
   "source": [
    "### Table Update Function"
   ]
  },
  {
   "cell_type": "code",
   "execution_count": 14,
   "metadata": {
    "ExecuteTime": {
     "end_time": "2019-12-09T15:25:02.763722Z",
     "start_time": "2019-12-09T15:25:02.729744Z"
    }
   },
   "outputs": [],
   "source": [
    "def update_sensor_grid_triaxial_row(row, x,y,z):\n",
    "    global sensor_grid1\n",
    "    sensor_grid1[row,1].value=x\n",
    "    sensor_grid1[row,2].value=y\n",
    "    sensor_grid1[row,3].value=z\n",
    "    sensor_grid1[row,4].value=math.sqrt(x*x+y*y+z*z)\n",
    "def update_accel_row(x,y,z):\n",
    "    update_sensor_grid_triaxial_row(1,x,y,z)\n",
    "def update_mag_row(x,y,z):\n",
    "    update_sensor_grid_triaxial_row(2,x,y,z)\n",
    "def update_gyro_row(x,y,z):\n",
    "    update_sensor_grid_triaxial_row(3,x,y,z)\n",
    "    \n",
    "update_counter=TimeKeeper()\n",
    "\n",
    "def update_counter_cell():\n",
    "    global update_counter\n",
    "    (packet_count, current_rate, average_rate) = update_counter.snapshot()\n",
    "    s = '%d / %6.3f' % (packet_count, current_rate)\n",
    "    sensor_grid1[0,0].value=s\n",
    "def increment_counter():\n",
    "    global update_counter\n",
    "    logger.debug(\"updating counter\")\n",
    "    update_counter.incrementPacket()\n",
    "gui_updaters.append(update_counter_cell)"
   ]
  },
  {
   "cell_type": "markdown",
   "metadata": {},
   "source": [
    "## Temperature / Relative Humidity / Pressure Table\n",
    "In addition to the tri-axis sensor table above, the \"Main\" tab of the GUI also contains a table that displays recently received sensor values for the temperature, humidity and relative humidity.  That table is defined using an ipywidgets GridspecLayout function (similar to the one above).  \n",
    "\n",
    "The first column of the table below is empty, and is just used to visually space the two tables.\n",
    "### Table Definition"
   ]
  },
  {
   "cell_type": "code",
   "execution_count": 15,
   "metadata": {
    "ExecuteTime": {
     "end_time": "2019-12-09T15:25:02.726746Z",
     "start_time": "2019-12-09T15:25:02.330992Z"
    }
   },
   "outputs": [],
   "source": [
    "rowNames = [\"Temp (C)\", \"rH (%)\", \"Pressure (in Hg)\"]\n",
    "def table2(rowNames):\n",
    "    grid = GridspecLayout(4, 3, grid_gap='0px', width='30%')\n",
    "    rowNums = range(1,len(rowNames)+1)\n",
    "    colNums = [2]\n",
    "    for i in rowNums:\n",
    "        for j in colNums:\n",
    "            grid[i, j] = widgets.FloatText(value=0.0, layout=widgets.Layout(width='110px', height='auto'))\n",
    "    for idx, rowName in zip(rowNums, rowNames):\n",
    "        grid[idx, 1] = widgets.Label(value=rowName, layout=widgets.Layout(width='110px', height='auto'))\n",
    "    return(grid)\n",
    "sensor_grid2=table2(rowNames)\n",
    "#display(sensor_grid2)  # Uncomment for debug"
   ]
  },
  {
   "cell_type": "markdown",
   "metadata": {},
   "source": [
    "### Table Update Function"
   ]
  },
  {
   "cell_type": "code",
   "execution_count": 16,
   "metadata": {},
   "outputs": [],
   "source": [
    "def update_sensor_trhp(temp, rH, pressure):\n",
    "    global sensor_grid2\n",
    "    sensor_grid2[1,2].value=temp\n",
    "    sensor_grid2[2,2].value=rH\n",
    "    sensor_grid2[3,2].value=pressure"
   ]
  },
  {
   "cell_type": "markdown",
   "metadata": {},
   "source": [
    "## Assemble the contents of what will become the main tab\n",
    "The graphical user interface utilizes a tabbed interface.  Individual tabs contents are defined and then assembled below.  We have a central logging console immediately below the tabbed interface, so that it is visible regardless of which tab is selected.  This console is written to using the standard Python logging library."
   ]
  },
  {
   "cell_type": "code",
   "execution_count": 17,
   "metadata": {
    "ExecuteTime": {
     "end_time": "2019-12-09T15:25:02.878652Z",
     "start_time": "2019-12-09T15:25:02.767720Z"
    }
   },
   "outputs": [],
   "source": [
    "q_layout = widgets.Layout(width='110px')\n",
    "style = {'description_width': 'initial'}\n",
    "box_layout = widgets.Layout(align_items='center')\n",
    "main_right_row1 = widgets.HBox([ipAddress, toggle1, button1])\n",
    "main_right_row2 = widgets.HBox([sensor_grid1, sensor_grid2])\n",
    "main_right_panel = widgets.VBox([main_right_row1, main_right_row2], layout=box_layout)\n",
    "main = widgets.HBox([main_right_panel])\n",
    "#display(main)"
   ]
  },
  {
   "cell_type": "markdown",
   "metadata": {},
   "source": [
    "## Plot Implementations\n",
    "### Circular Buffer\n",
    "New data points are written directly from the serial port to very efficient circular buffers.  These are designed so that the buffers do not need to be copied for every new sample coming in.  Only when the plot is updated are those more time intensive tasks done.  A circular buffer class is defined to facilitate this.  \n",
    "\n",
    "The implication of the above is that the length of the plots is fixed in time to a specific window into the past.  This keeps the plotting functions operating efficiently.  If you want the full history of data, you should use the data logger to write data to the file system as it arrives, and then post-process the resulting .csv data after the logging session is complete."
   ]
  },
  {
   "cell_type": "code",
   "execution_count": 18,
   "metadata": {},
   "outputs": [],
   "source": [
    "class plot_buffer():\n",
    "    def __init__(self, size):\n",
    "        self.b = np.zeros(size, dtype=np.float32)\n",
    "        self.next = 0\n",
    "        self.size=size\n",
    "        self.full = False;\n",
    "    def push(self, value):\n",
    "        self.b[self.next]=value\n",
    "        self.next += 1\n",
    "        if self.next>=self.size:\n",
    "            self.full = True\n",
    "            self.next = 0\n",
    "    def unwrapped(self):\n",
    "        if (not self.full):\n",
    "            return(self.b)\n",
    "        else:\n",
    "            return(np.concatenate((self.b[self.next:], self.b[0:self.next-1])))    "
   ]
  },
  {
   "cell_type": "markdown",
   "metadata": {},
   "source": [
    "There are two very similar plot implementations.  The first version plots a single variable, the second version plots three values (X, Y & Z) plus the vector magnitude.  The first is essentially a stripped down version of the second, they have the same basic interfaces.\n",
    "\n",
    "Both include a number of GUI controls plus the actual plots.  We use the bqplot library because it offers some very nice interactive plot features built right into the plot library itself.  These include pan/zoom and brush selection, plus the ability to update the plot points in time.\n",
    "\n",
    "Both plot implementations plot values versus SAMPLE INDEX into the past.  This is not exactly the same as plotting versus timestamps.  Because the current Raspberry Pi is not using a hard real-time implementation for control of sampling intervals, there can be some variability there.   Using sample indices for the X-axis is a simplification that is necessary in order for us to use circular input buffers, which in turn is necessary to keep the plotting functions fast enough to keep up with the input data streams.\n",
    "\n",
    "### Single Variable Plot Implementation\n",
    "\n",
    "Note that calling the push() method puts newly received data into the circular buffers.  It does NOT update plot graphics.  That is done with the update() method.  Those two are really the only methods that need to be called from outside the class itself."
   ]
  },
  {
   "cell_type": "code",
   "execution_count": 19,
   "metadata": {
    "ExecuteTime": {
     "end_time": "2019-12-09T15:25:03.125499Z",
     "start_time": "2019-12-09T15:25:02.881650Z"
    }
   },
   "outputs": [],
   "source": [
    "class x_plot():\n",
    "    def plotCallback(self, change):\n",
    "        newState = change['new']\n",
    "        if newState:\n",
    "            self.idxrange = change.new\n",
    "            self.minIndex=min(self.idxrange)\n",
    "            self.maxIndex=max(self.idxrange)\n",
    "            self.db_brush.value = '%d to %d' % (self.minIndex, self.maxIndex)\n",
    "    \n",
    "    def __init__(self, maxLen, title, xAxisLabel, yAxisLabel, logger, loggingController):\n",
    "        self.title = title\n",
    "        self.logger = logger\n",
    "        self.loggingController = loggingController\n",
    "        self.db_brush = widgets.HTML(value='[]')\n",
    "        self.lock = threading.Lock()\n",
    "        self.ts = bq.LinearScale()\n",
    "        self.ys = bq.LinearScale()\n",
    "        self.maxLen = maxLen\n",
    "        self.xData  = plot_buffer(maxLen)\n",
    "        self.tData = np.linspace(-maxLen,0,maxLen)       \n",
    "        self.xLine = bq.Lines(x=self.tData, y=[self.xData.b], scales={'x':self.ts, 'y':self.ys}, labels=['X'], colors=['red'], display_legend=True)        \n",
    "        lw = 0.7\n",
    "        self.xLine.stroke_width=lw      \n",
    "        def_tt = bq.Tooltip(fields=['x', 'y'], formats=['2.3f', '2.2f'], labels=['Time', 'X'])\n",
    "        \n",
    "        self.ax_x = bq.Axis(scale=self.ts, label=xAxisLabel)\n",
    "        self.ax_y = bq.Axis(scale=self.ys, orientation='vertical', label=yAxisLabel)\n",
    "        self.figure = bq.Figure(marks=[self.xLine], \\\n",
    "                                axes=[self.ax_x, self.ax_y], title=title)\n",
    "        \n",
    "        panzoomx = bq.PanZoom(scales={'x': [self.ts]})\n",
    "        panzoomy = bq.PanZoom(scales={'y': [self.ys]})\n",
    "        intervalSelector = bq.interacts.BrushIntervalSelector(scale=self.ts, marks=[self.xLine])\n",
    "        self.xLine.observe(self.plotCallback, names=['selected'])\n",
    "        \n",
    "        from collections import OrderedDict\n",
    "        selection_interacts = widgets.ToggleButtons(options=OrderedDict([('PanZoomX', panzoomx), ('PanZoomY', panzoomy),\n",
    "                    ('BrushIntervalSelector', intervalSelector), ('None', None)]))\n",
    "        link((selection_interacts, 'value'), (self.figure, 'interaction'))\n",
    "        self.figure.layout.height = '400px'\n",
    "        self.figure.layout.width = '70%'\n",
    "\n",
    "        plotButton = widgets.Button(\n",
    "            description='Download Plot',\n",
    "            disabled=False,\n",
    "            button_style='', # 'success', 'info', 'warning', 'danger' or ''\n",
    "            tooltip='Will dump current plot into a file on your computer',\n",
    "            icon=''\n",
    "        )\n",
    "        plotButton.on_click(self.on_plotButton_clicked)\n",
    "        \n",
    "        csvDumpButton = widgets.Button(\n",
    "            description='Dump selected to .csv',\n",
    "            disabled=False,\n",
    "            button_style='', # 'success', 'info', 'warning', 'danger' or ''\n",
    "            tooltip='Will dump plot points selected with the Brush Interval Selector to a .csv file',\n",
    "            icon=''\n",
    "        )\n",
    "        csvDumpButton.on_click(self.on_csvDumpButton_clicked)\n",
    "        \n",
    "        self.widget = widgets.HBox([self.figure, widgets.VBox( [ \\\n",
    "                widgets.Label(\"Plot Interactions\"), selection_interacts, self.db_brush, \\\n",
    "                widgets.Label(\"Other Functions\"), plotButton, csvDumpButton \\\n",
    "                ])])\n",
    "        \n",
    "    def on_plotButton_clicked(self, b):\n",
    "        fn = self.title+'.png'\n",
    "        self.figure.save_png(fn)\n",
    "        \n",
    "    def on_csvDumpButton_clicked(self, b):\n",
    "        fn = self.loggingController.file_dialog.selected\n",
    "        if self.minIndex >= self.maxIndex:\n",
    "            self.logger.info('You must select a range using the Brush Interval Selector first')\n",
    "        else:\n",
    "            r = self.maxIndex - self.minIndex\n",
    "            t = np.linspace(0,r,r) #/self.sampleRate  \n",
    "            x = self.xLine.y[self.minIndex:self.maxIndex]\n",
    "            d = np.vstack((t, x)).T\n",
    "            headerLine = 'SampleNum, ' + self.title\n",
    "            np.savetxt(fn, d, delimiter=',', header=headerLine, fmt='%4.3e')\n",
    "            self.logger.info('Saved: %s' % fn)\n",
    "    \n",
    "    def set_visible(self, x):\n",
    "        self.xLine.visible = x\n",
    "        self.xLine.display_legend = x\n",
    "\n",
    "    def push(self,x):\n",
    "        with self.lock:\n",
    "            self.xData.push(x)\n",
    "\n",
    "    def update(self):\n",
    "        with self.lock:\n",
    "            x = self.xData.unwrapped()\n",
    "            self.xLine.y = []\n",
    "            self.xLine.y = x\n",
    "\n",
    "numPlotPoints = 256\n",
    "tempPlot = x_plot(numPlotPoints, 'Temperature', 'Time (sample intervals)', 'Temperature (C)', logger, loggingController)\n",
    "rHPlot = x_plot(numPlotPoints, 'rH', 'Time (sample intervals)', 'rH (%)', logger, loggingController)\n",
    "pressurePlot = x_plot(numPlotPoints, 'Pressure', 'Time (sample intervals)', 'inches Mercury', logger, loggingController)"
   ]
  },
  {
   "cell_type": "markdown",
   "metadata": {},
   "source": [
    "### Tri-Axial Plot Implementation\n",
    "\n",
    "Again, the tri-axial plot implementation is essentially just a superset of the sing variable implementation.  Note the addition of extra visibility controls for X, Y, Z and vector magnitude."
   ]
  },
  {
   "cell_type": "code",
   "execution_count": 20,
   "metadata": {
    "ExecuteTime": {
     "end_time": "2019-12-09T15:25:03.125499Z",
     "start_time": "2019-12-09T15:25:02.881650Z"
    }
   },
   "outputs": [],
   "source": [
    "class xyz_plot():\n",
    "    def plotCallback(self, change):\n",
    "        newState = change['new']\n",
    "        if newState:\n",
    "            self.idxrange = change.new\n",
    "            self.minIndex=min(self.idxrange)\n",
    "            self.maxIndex=max(self.idxrange)\n",
    "            self.db_brush.value = '%d to %d' % (self.minIndex, self.maxIndex)\n",
    "    \n",
    "    def __init__(self, maxLen, title, xAxisLabel, yAxisLabel, logger, loggingController):\n",
    "        self.title = title\n",
    "        self.logger = logger\n",
    "        self.loggingController = loggingController\n",
    "        self.db_brush = widgets.HTML(value='[]')\n",
    "        self.lock = threading.Lock()\n",
    "        self.ts = bq.LinearScale()\n",
    "        self.xs = bq.LinearScale()\n",
    "        self.ys = bq.LinearScale()\n",
    "        self.zs = bq.LinearScale()\n",
    "        self.vms = bq.LinearScale()\n",
    "        self.maxLen = maxLen\n",
    "        self.xData  = plot_buffer(maxLen)\n",
    "        self.yData  = plot_buffer(maxLen)\n",
    "        self.zData  = plot_buffer(maxLen)\n",
    "        self.vmData = plot_buffer(maxLen)\n",
    "        self.tData = np.linspace(-maxLen,0,maxLen)       \n",
    "        self.xLine = bq.Lines(x=self.tData, y=[self.xData.b], scales={'x':self.ts, 'y':self.ys}, labels=['X'], colors=['red'], display_legend=True)        \n",
    "        self.yLine = bq.Lines(x=self.tData, y=[self.yData.b], scales={'x':self.ts, 'y':self.ys}, labels=['Y'], colors=['blue'], display_legend=True)        \n",
    "        self.zLine = bq.Lines(x=self.tData, y=[self.zData.b], scales={'x':self.ts, 'y':self.ys}, labels=['Z'], colors=['black'], display_legend=True)\n",
    "        lw = 0.7\n",
    "        self.xLine.stroke_width=lw      \n",
    "        self.yLine.stroke_width=lw\n",
    "        self.zLine.stroke_width=lw  \n",
    "        def_tt = bq.Tooltip(fields=['x', 'y'], formats=['2.3f', '2.2f'], labels=['Time', 'VM'])\n",
    "        self.vmLine = bq.Lines(x=self.tData, y=[self.vmData.b],  tooltip=def_tt, unhovered_style={'opacity': 0.5}, \\\n",
    "            scales={'x':self.ts, 'y':self.ys}, labels=['VM'], display_legend=True)\n",
    "        self.vmLine.colors=['DarkOrange']\n",
    "        self.vmLine.fill = 'bottom'\n",
    "        self.vmLine.fill_opacities = [0.10]\n",
    "        self.vmLine.stroke_width=1\n",
    "        self.vmLine.marker = 'circle'\n",
    "        \n",
    "        self.ax_x = bq.Axis(scale=self.ts, label=xAxisLabel)\n",
    "        self.ax_y = bq.Axis(scale=self.ys, orientation='vertical', label=yAxisLabel)\n",
    "        self.figure = bq.Figure(marks=[self.xLine, self.yLine, self.zLine, self.vmLine], \\\n",
    "                                axes=[self.ax_x, self.ax_y], title=title)\n",
    "        \n",
    "        panzoomx = bq.PanZoom(scales={'x': [self.ts]})\n",
    "        panzoomy = bq.PanZoom(scales={'y': [self.ys]})\n",
    "        intervalSelector = bq.interacts.BrushIntervalSelector(scale=self.ts, marks=[self.xLine, self.yLine, self.zLine, self.vmLine])\n",
    "        #intervalSelector.observe(self.plotCallback, names=['selected'])\n",
    "        self.xLine.observe(self.plotCallback, names=['selected'])\n",
    "        \n",
    "        from collections import OrderedDict\n",
    "        selection_interacts = widgets.ToggleButtons(options=OrderedDict([('PanZoomX', panzoomx), ('PanZoomY', panzoomy),\n",
    "                    ('BrushIntervalSelector', intervalSelector), ('VM Tooltips', None)]))\n",
    "        link((selection_interacts, 'value'), (self.figure, 'interaction'))\n",
    "        self.figure.layout.height = '400px'\n",
    "        self.figure.layout.width = '70%'\n",
    "        self.visibility_controls = interactive(self.set_visible, x=True, y=True, z=True, vm=False)\n",
    "\n",
    "        plotButton = widgets.Button(\n",
    "            description='Download Plot',\n",
    "            disabled=False,\n",
    "            button_style='', # 'success', 'info', 'warning', 'danger' or ''\n",
    "            tooltip='Will dump current plot into a file on your computer',\n",
    "            icon=''\n",
    "        )\n",
    "        plotButton.on_click(self.on_plotButton_clicked)\n",
    "        \n",
    "        csvDumpButton = widgets.Button(\n",
    "            description='Dump selected to .csv',\n",
    "            disabled=False,\n",
    "            button_style='', # 'success', 'info', 'warning', 'danger' or ''\n",
    "            tooltip='Will dump plot points selected with the Brush Interval Selector to a .csv file',\n",
    "            icon=''\n",
    "        )\n",
    "        csvDumpButton.on_click(self.on_csvDumpButton_clicked)\n",
    "        \n",
    "        self.widget = widgets.HBox([self.figure, widgets.VBox( \\\n",
    "                [widgets.Label(\"Visibility Controls\"), self.visibility_controls, \\\n",
    "                widgets.Label(\"Plot Interactions\"), selection_interacts, self.db_brush, \\\n",
    "                widgets.Label(\"Other Functions\"), plotButton, csvDumpButton \\\n",
    "                ])])\n",
    "        \n",
    "    def on_plotButton_clicked(self, b):\n",
    "        fn = self.title+'.png'\n",
    "        self.figure.save_png(fn)\n",
    "        \n",
    "    def on_csvDumpButton_clicked(self, b):\n",
    "        fn = self.loggingController.file_dialog.selected\n",
    "        if self.minIndex >= self.maxIndex:\n",
    "            self.logger.info('You must select a range using the Brush Interval Selector first')\n",
    "        else:\n",
    "            r = self.maxIndex - self.minIndex\n",
    "            t = np.linspace(0,r,r) #/self.sampleRate  \n",
    "            x = self.xLine.y[self.minIndex:self.maxIndex]\n",
    "            y = self.yLine.y[self.minIndex:self.maxIndex]\n",
    "            z = self.zLine.y[self.minIndex:self.maxIndex]\n",
    "            d = np.vstack((t, x, y, z)).T\n",
    "            np.savetxt(fn, d, delimiter=',', header='SampleNum, X, Y, Z', fmt='%4.3e')\n",
    "            self.logger.info('Saved: %s' % fn)\n",
    "    \n",
    "    def set_visible(self, x,y,z,vm):\n",
    "        self.xLine.visible = x\n",
    "        self.xLine.display_legend = x\n",
    "        self.yLine.visible = y\n",
    "        self.yLine.display_legend = y\n",
    "        self.zLine.visible = z\n",
    "        self.zLine.display_legend = z\n",
    "        self.vmLine.visible = vm\n",
    "        self.vmLine.display_legend = vm\n",
    "    def push(self,x,y,z):\n",
    "        with self.lock:\n",
    "            self.xData.push(x)\n",
    "            self.yData.push(y)\n",
    "            self.zData.push(z)\n",
    "            self.vmData.push(np.sqrt(x*x + y*y + z*z))\n",
    "    def update(self):\n",
    "        with self.lock:\n",
    "            x = self.xData.unwrapped()\n",
    "            self.xLine.y = []\n",
    "            self.xLine.y = x\n",
    "            \n",
    "            y = self.yData.unwrapped()\n",
    "            self.yLine.y = []\n",
    "            self.yLine.y = y\n",
    "            \n",
    "            z = self.zData.unwrapped()\n",
    "            self.zLine.y = []\n",
    "            self.zLine.y = z\n",
    "            \n",
    "            vm = self.vmData.unwrapped()\n",
    "            self.vmLine.y = []\n",
    "            self.vmLine.y = vm\n",
    "\n",
    "numPlotPoints = 256\n",
    "accelPlot = xyz_plot(numPlotPoints, 'Acceleration', 'Time (sample intervals)', 'Acceleration (g\\'s)', logger, loggingController)\n",
    "magPlot = xyz_plot(numPlotPoints, 'Magnetic_Field', 'Time (sample intervals)', 'Magnetic Field (uT\\'s)', logger, loggingController)\n",
    "gyroPlot = xyz_plot(numPlotPoints, 'Angular_Rotation', 'Time (sample intervals)', 'Rotation (dps)', logger, loggingController)\n",
    "\n",
    "def update_plot():\n",
    "    global accelPlot, magPlot, gyroPlot, tempPlot, rHPlot, pressurePlot, tab, skip_plot_updates\n",
    "    if not skip_plot_updates:\n",
    "        if tab.selected_index==1:\n",
    "            accelPlot.update()\n",
    "        elif tab.selected_index==2:\n",
    "            magPlot.update()\n",
    "        elif tab.selected_index==3:\n",
    "            gyroPlot.update()\n",
    "        elif tab.selected_index==4:\n",
    "            tempPlot.update()\n",
    "        elif tab.selected_index==5:\n",
    "            rHPlot.update()\n",
    "        elif tab.selected_index==6:\n",
    "            pressurePlot.update()\n",
    "    return"
   ]
  },
  {
   "cell_type": "markdown",
   "metadata": {},
   "source": [
    "## Tabbed Interface\n",
    "\n",
    "Here's where we pull together the various functions into the tabbed interface.  The \"gui\" variable represents the top level of the graphical hierarchy."
   ]
  },
  {
   "cell_type": "code",
   "execution_count": 21,
   "metadata": {
    "ExecuteTime": {
     "end_time": "2019-12-09T15:25:03.204450Z",
     "start_time": "2019-12-09T15:25:03.144486Z"
    }
   },
   "outputs": [],
   "source": [
    "tab_titles = ['Main', 'Accelerometer', 'Magnetometer', 'Gyroscope', 'Temperature', 'rH', 'Pressure']\n",
    "tab = widgets.Tab()\n",
    "for i in range(len(tab_titles)):\n",
    "    tab.set_title(i, tab_titles[i])\n",
    "commonPlotControls = widgets.VBox([widgets.HBox([toggle1, toggle2]), loggingController])\n",
    "tab.children = [main, \\\n",
    "               widgets.VBox([accelPlot.widget, commonPlotControls], layout={'border':'1px solid black'}), \\\n",
    "               widgets.VBox([magPlot.widget, commonPlotControls], layout={'border':'1px solid black'}), \\\n",
    "               widgets.VBox([gyroPlot.widget, commonPlotControls], layout={'border':'1px solid black'}), \\\n",
    "               widgets.VBox([tempPlot.widget, commonPlotControls], layout={'border':'1px solid black'}), \\\n",
    "               widgets.VBox([rHPlot.widget, commonPlotControls], layout={'border':'1px solid black'}), \\\n",
    "               widgets.VBox([pressurePlot.widget, commonPlotControls], layout={'border':'1px solid black'}) \\\n",
    "               ]\n",
    "layout = {\n",
    "    'width': '100%',\n",
    "    'border': '1px solid black',\n",
    "}\n",
    "gui = widgets.VBox([tab, handler.out], layout=layout)"
   ]
  },
  {
   "cell_type": "markdown",
   "metadata": {},
   "source": [
    "# Socket and GUI interface code\n",
    "Here we have a bit of code to pull together a few of the top level objects.\n",
    "\n",
    "## Process sensor data packet\n",
    "The read_packet() function is called by the SocketClient whenever a new sensor data packet is received.  It transfers data from the ServerClient to the various GUI displays and also updates the packet counter. "
   ]
  },
  {
   "cell_type": "code",
   "execution_count": 22,
   "metadata": {
    "ExecuteTime": {
     "end_time": "2019-12-09T15:25:03.256417Z",
     "start_time": "2019-12-09T15:25:03.246423Z"
    }
   },
   "outputs": [],
   "source": [
    "last_packet = None\n",
    "def read_packet(packet):\n",
    "    global logger\n",
    "    try:\n",
    "        global packet_data\n",
    "        last_packet = packet\n",
    "        update_sensors(packet)\n",
    "        increment_counter()  # update our packet counter\n",
    "    except ex:\n",
    "        #print('Exception in read_packet')\n",
    "        logger.error(\"Exception in function read_packet1: {0}\".format(str(ex)))"
   ]
  },
  {
   "cell_type": "markdown",
   "metadata": {},
   "source": [
    "## update_sensors() & update_sensors_display()\n",
    "update_sensors() pushes new data points into the plot objects and also records a new line in the logger output file (if logging is enabled).\n",
    "\n",
    "update_sensors_display() is called periodically to actually update the GUI visual outputs."
   ]
  },
  {
   "cell_type": "code",
   "execution_count": 23,
   "metadata": {
    "ExecuteTime": {
     "end_time": "2019-12-09T15:25:03.312382Z",
     "start_time": "2019-12-09T15:25:03.292395Z"
    }
   },
   "outputs": [],
   "source": [
    "def update_sensors(packet):\n",
    "    global last_packet, logger, loggingController\n",
    "    last_packet=packet\n",
    "    try:\n",
    "        packetTime = packet['time']\n",
    "        accX = packet['accelX']\n",
    "        accY = packet['accelY']\n",
    "        accZ = packet['accelZ']\n",
    "        magX = packet['magX']\n",
    "        magY = packet['magY']\n",
    "        magZ = packet['magZ']\n",
    "        gyroX = packet['gyroX']\n",
    "        gyroY = packet['gyroY']\n",
    "        gyroZ = packet['gyroZ']\n",
    "        temp = packet['temp']\n",
    "        pressure = packet['pressure']\n",
    "        rH = packet['rH']\n",
    "        accelPlot.push(accX, accY, accZ)\n",
    "        magPlot.push(magX, magY, magZ)\n",
    "        gyroPlot.push(gyroX, gyroY, gyroZ)\n",
    "        tempPlot.push(temp)\n",
    "        rHPlot.push(rH)\n",
    "        pressurePlot.push(pressure)\n",
    "        loggingController.log(packetTime, accX, accY, accZ, magX, magY, magZ, gyroX, gyroY, gyroZ, temp, pressure, rH)\n",
    "    except ex:\n",
    "        logger.error(\"Exception in function update_sensors: {0}\".format(str(ex))) \n",
    "        \n",
    "def update_sensors_display():\n",
    "    global last_packet\n",
    "    packet = last_packet\n",
    "    if not packet == None:\n",
    "        accX = packet['accelX']\n",
    "        accY = packet['accelY']\n",
    "        accZ = packet['accelZ']\n",
    "        magX = packet['magX']\n",
    "        magY = packet['magY']\n",
    "        magZ = packet['magZ']\n",
    "        gyroX = packet['gyroX']\n",
    "        gyroY = packet['gyroY']\n",
    "        gyroZ = packet['gyroZ']\n",
    "        temp = packet['temp']\n",
    "        pressure = packet['pressure']\n",
    "        rH = packet['rH']\n",
    "        update_accel_row(accX, accY, accZ)\n",
    "        update_mag_row(magX, magY, magZ)\n",
    "        update_gyro_row(gyroX, gyroY, gyroZ)\n",
    "        #print('pressure={0}'.format(pressure))\n",
    "        #print('rh={0}'.format(rH))\n",
    "        #print('temp={0}'.format(temp))\n",
    "        update_sensor_trhp(temp, rH, pressure)\n",
    "\n",
    "gui_updaters.append(update_sensors_display)\n",
    "gui_updaters.append(update_plot)\n"
   ]
  },
  {
   "cell_type": "markdown",
   "metadata": {},
   "source": [
    "# Display the Raspberry Pi Data Collection GUI\n",
    "And finally, let's display the final application.  Please note that it may take a number of seconds after pressing the \"Connect to Raspberry Pi\" button before the connection is established and acknowledged.  Since that is a toggle button, it pays to be patient.  Note that the RPi LED display will cease displaying its IP address and will instead alternate between all green and white once data is being streamed.  Clicking the button a second time will terminate the connection."
   ]
  },
  {
   "cell_type": "code",
   "execution_count": 24,
   "metadata": {
    "ExecuteTime": {
     "end_time": "2019-12-09T15:25:03.443302Z",
     "start_time": "2019-12-09T15:25:03.435307Z"
    },
    "scrolled": false
   },
   "outputs": [
    {
     "data": {
      "application/vnd.jupyter.widget-view+json": {
       "model_id": "92314a73cb284a26bda735b96802c703",
       "version_major": 2,
       "version_minor": 0
      },
      "text/plain": [
       "VBox(children=(Tab(children=(HBox(children=(VBox(children=(HBox(children=(Text(value='192.168.0.253', descript…"
      ]
     },
     "metadata": {},
     "output_type": "display_data"
    }
   ],
   "source": [
    "display(gui)"
   ]
  }
 ],
 "metadata": {
  "hide_input": false,
  "kernelspec": {
   "display_name": "Python 3",
   "language": "python",
   "name": "python3"
  },
  "language_info": {
   "codemirror_mode": {
    "name": "ipython",
    "version": 3
   },
   "file_extension": ".py",
   "mimetype": "text/x-python",
   "name": "python",
   "nbconvert_exporter": "python",
   "pygments_lexer": "ipython3",
   "version": "3.7.6"
  },
  "toc": {
   "base_numbering": 1,
   "nav_menu": {},
   "number_sections": true,
   "sideBar": true,
   "skip_h1_title": false,
   "title_cell": "Table of Contents",
   "title_sidebar": "Contents",
   "toc_cell": false,
   "toc_position": {
    "height": "550.667px",
    "left": "46px",
    "top": "109.778px",
    "width": "341.288px"
   },
   "toc_section_display": true,
   "toc_window_display": true
  },
  "varInspector": {
   "cols": {
    "lenName": 16,
    "lenType": 16,
    "lenVar": 40
   },
   "kernels_config": {
    "python": {
     "delete_cmd_postfix": "",
     "delete_cmd_prefix": "del ",
     "library": "var_list.py",
     "varRefreshCmd": "print(var_dic_list())"
    },
    "r": {
     "delete_cmd_postfix": ") ",
     "delete_cmd_prefix": "rm(",
     "library": "var_list.r",
     "varRefreshCmd": "cat(var_dic_list()) "
    }
   },
   "position": {
    "height": "514.542px",
    "left": "764.361px",
    "right": "20px",
    "top": "96px",
    "width": "800px"
   },
   "types_to_exclude": [
    "module",
    "function",
    "builtin_function_or_method",
    "instance",
    "_Feature"
   ],
   "window_display": false
  }
 },
 "nbformat": 4,
 "nbformat_minor": 2
}
