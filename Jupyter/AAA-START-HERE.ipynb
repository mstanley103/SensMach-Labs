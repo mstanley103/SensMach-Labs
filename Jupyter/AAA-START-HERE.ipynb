{
 "cells": [
  {
   "cell_type": "markdown",
   "metadata": {},
   "source": [
    "## Machine Learning for the Novice<a class=\"tocSkip\">\n",
    "&copy; 2020 by Michael Stanley (Mike.Stanley@ieee.org)<BR>\n",
    "Last revised: 29 August 2020\n",
    "    \n",
    "This is the index for Python code and Jupyter notebooks built in support for the course \"Machine Learning for the Novice\""
   ]
  },
  {
   "cell_type": "markdown",
   "metadata": {},
   "source": [
    "* [Creating your Python environment](PythonEnvironment.ipynb)\n",
    "\n",
    "* Data Logger Applications.  Please note, DATA LOGGER NOTEBOOKS DO NOT WORK WITHIN A MYBINDER ENVIRONMENT.  Download to your own Jupyter environment to run them locally.\n",
    "    * [For Arduino Nano 33 BLE Sense](Integration-Nano33.ipynb) or [short version](DataLogger-Nano33.ipynb)\n",
    "        * [Python code for control class used in the above](control_Nano33.ipynb)\n",
    "    * [For the NXP FRDM-K22F/FRDM-AGM01 boards](Integration-K22F.ipynb) or [short version](DataLogger-K22F.ipynb)\n",
    "        * [Python code for control class used in the above](control.py)\n",
    "        * [Python code for OutputWidgetHandler](OutputWidgetHandler.py) used in several of these Notebooks\n",
    "    * [For the Raspberry Pi/Sense Hat combo](Integration-RPi.ipynb) or [short version](DataLogger-RPi.ipynb)\n",
    "    * [For Windows 10 microphones](Integration-Sound.ipynb) or [short version](DataLogger-Sound.ipynb)\n",
    "\n",
    "* Analysis & Modeling\n",
    "    * [Classification Explorer](Classification_Explorer.ipynb)\n",
    "    * [Feature Extraction](Feature_Extraction_Using_Pandas.ipynb)\n",
    "    * [Feature Selection](Feature_Selection.ipynb)\n",
    "    * [Classification using scikit-Learn](Simple_Classification.ipynb)\n",
    "    * [Classification using Tensorflow-Lite and Keras](keras_example.ipynb)\n",
    "\n",
    "* 3rd Party web pages\n",
    "    * [Online tool for drawing NN architectures](http://alexlenail.me/NN-SVG/LeNet.html)\n",
    "    * [Online visualization tool for CNNs](https://www.cs.ryerson.ca/~aharley/vis)\n",
    "    * [Google ML Training (has nice section on GANs)](https://developers.google.com/machine-learning/crash-course)\n",
    "    * [Online GanLab](https://poloclub.github.io/ganlab/)\n",
    "    * [Google Colab](https://colab.research.google.com/)\n",
    "    * [scikit-learn](https://scikit-learn.org)\n",
    "    * [Tensorflow-Lite for Microcontrollers](https://www.tensorflow.org/lite/microcontrollers)"
   ]
  },
  {
   "cell_type": "code",
   "execution_count": null,
   "metadata": {},
   "outputs": [],
   "source": []
  }
 ],
 "metadata": {
  "kernelspec": {
   "display_name": "Python 3",
   "language": "python",
   "name": "python3"
  },
  "language_info": {
   "codemirror_mode": {
    "name": "ipython",
    "version": 3
   },
   "file_extension": ".py",
   "mimetype": "text/x-python",
   "name": "python",
   "nbconvert_exporter": "python",
   "pygments_lexer": "ipython3",
   "version": "3.7.6"
  },
  "toc": {
   "base_numbering": 1,
   "nav_menu": {},
   "number_sections": true,
   "sideBar": true,
   "skip_h1_title": true,
   "title_cell": "Table of Contents",
   "title_sidebar": "Contents",
   "toc_cell": false,
   "toc_position": {},
   "toc_section_display": true,
   "toc_window_display": false
  }
 },
 "nbformat": 4,
 "nbformat_minor": 2
}
