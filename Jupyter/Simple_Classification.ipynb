{
 "cells": [
  {
   "cell_type": "markdown",
   "metadata": {},
   "source": [
    "# Simple Classification<a class=\"tocSkip\">\n",
    "&copy; 2020 by Michael Stanley (Mike.Stanley@ieee.org)<BR>\n",
    "Last revised: 27 July 2020\n",
    "    \n",
    "Requires presence of features.csv in thee same directory as this notebook.  That file should contain \"features\"\n",
    "extracted from raw data by a prior step in the process (ex: Feature_Extraction_Using_Pandas).\n",
    "\n",
    "Computed feature types can include things like: min, max, mean, std, variance, skew factor, kurtosis and sum.  \n",
    "The list of possible feature types is literally unlimited.\n",
    "\n",
    "# Import standard Models"
   ]
  },
  {
   "cell_type": "code",
   "execution_count": 13,
   "metadata": {},
   "outputs": [],
   "source": [
    "import numpy as np\n",
    "import matplotlib.pyplot as plt\n",
    "from matplotlib.colors import LogNorm\n",
    "from sklearn import mixture, svm, metrics\n",
    "from sklearn.neural_network import MLPClassifier\n",
    "import pandas as pd\n",
    "from sklearn.model_selection import train_test_split\n",
    "from sklearn.ensemble import AdaBoostClassifier\n",
    "from sklearn.tree import DecisionTreeClassifier\n",
    "from sklearn.linear_model import LogisticRegression\n",
    "from sklearn.preprocessing import StandardScaler"
   ]
  },
  {
   "cell_type": "code",
   "execution_count": 14,
   "metadata": {},
   "outputs": [],
   "source": [
    "# set default font for charts\n",
    "font = {'family' : 'serif',\n",
    "        'weight' : 'bold',\n",
    "        'size'   : 12}\n",
    "\n",
    "plt.rc('font', **font)"
   ]
  },
  {
   "cell_type": "markdown",
   "metadata": {},
   "source": [
    "# Read CSV file\n",
    "Read features.csv, shuffles it and then break that data into separate features and results dataFrames.  Then display the first few lines of the shuffled dataset."
   ]
  },
  {
   "cell_type": "code",
   "execution_count": 15,
   "metadata": {},
   "outputs": [
    {
     "name": "stdout",
     "output_type": "stream",
     "text": [
      "Data shape retreived from the features data file is:  (262, 33)\n"
     ]
    },
    {
     "data": {
      "text/html": [
       "<div>\n",
       "<style scoped>\n",
       "    .dataframe tbody tr th:only-of-type {\n",
       "        vertical-align: middle;\n",
       "    }\n",
       "\n",
       "    .dataframe tbody tr th {\n",
       "        vertical-align: top;\n",
       "    }\n",
       "\n",
       "    .dataframe thead th {\n",
       "        text-align: right;\n",
       "    }\n",
       "</style>\n",
       "<table border=\"1\" class=\"dataframe\">\n",
       "  <thead>\n",
       "    <tr style=\"text-align: right;\">\n",
       "      <th></th>\n",
       "      <th>maxAudio_max</th>\n",
       "      <th>acc_max</th>\n",
       "      <th>mag_max</th>\n",
       "      <th>gyro_max</th>\n",
       "      <th>maxAudio_min</th>\n",
       "      <th>acc_min</th>\n",
       "      <th>mag_min</th>\n",
       "      <th>gyro_min</th>\n",
       "      <th>maxAudio_skew</th>\n",
       "      <th>acc_skew</th>\n",
       "      <th>...</th>\n",
       "      <th>gyro_mean</th>\n",
       "      <th>maxAudio_std</th>\n",
       "      <th>acc_std</th>\n",
       "      <th>mag_std</th>\n",
       "      <th>gyro_std</th>\n",
       "      <th>maxAudio_var</th>\n",
       "      <th>acc_var</th>\n",
       "      <th>mag_var</th>\n",
       "      <th>gyro_var</th>\n",
       "      <th>class</th>\n",
       "    </tr>\n",
       "  </thead>\n",
       "  <tbody>\n",
       "    <tr>\n",
       "      <th>0</th>\n",
       "      <td>395.0</td>\n",
       "      <td>1.10290</td>\n",
       "      <td>197.3150</td>\n",
       "      <td>4.75512</td>\n",
       "      <td>250.0</td>\n",
       "      <td>0.912562</td>\n",
       "      <td>54.6493</td>\n",
       "      <td>4.09236</td>\n",
       "      <td>-0.272337</td>\n",
       "      <td>-0.269098</td>\n",
       "      <td>...</td>\n",
       "      <td>4.38684</td>\n",
       "      <td>46.2235</td>\n",
       "      <td>0.064219</td>\n",
       "      <td>56.538200</td>\n",
       "      <td>0.250672</td>\n",
       "      <td>2136.610</td>\n",
       "      <td>4.124100e-03</td>\n",
       "      <td>3196.570000</td>\n",
       "      <td>0.062836</td>\n",
       "      <td>3.0</td>\n",
       "    </tr>\n",
       "    <tr>\n",
       "      <th>1</th>\n",
       "      <td>395.0</td>\n",
       "      <td>1.10821</td>\n",
       "      <td>106.9840</td>\n",
       "      <td>5.15419</td>\n",
       "      <td>223.0</td>\n",
       "      <td>0.912738</td>\n",
       "      <td>56.0798</td>\n",
       "      <td>4.19406</td>\n",
       "      <td>0.522063</td>\n",
       "      <td>0.829461</td>\n",
       "      <td>...</td>\n",
       "      <td>4.60501</td>\n",
       "      <td>65.3299</td>\n",
       "      <td>0.067129</td>\n",
       "      <td>19.815100</td>\n",
       "      <td>0.295387</td>\n",
       "      <td>4268.000</td>\n",
       "      <td>4.506260e-03</td>\n",
       "      <td>392.639000</td>\n",
       "      <td>0.087254</td>\n",
       "      <td>3.0</td>\n",
       "    </tr>\n",
       "    <tr>\n",
       "      <th>2</th>\n",
       "      <td>55.0</td>\n",
       "      <td>1.00057</td>\n",
       "      <td>78.2191</td>\n",
       "      <td>4.61307</td>\n",
       "      <td>-1.0</td>\n",
       "      <td>0.998912</td>\n",
       "      <td>77.5322</td>\n",
       "      <td>4.32297</td>\n",
       "      <td>-0.174508</td>\n",
       "      <td>0.068734</td>\n",
       "      <td>...</td>\n",
       "      <td>4.46503</td>\n",
       "      <td>19.6023</td>\n",
       "      <td>0.000596</td>\n",
       "      <td>0.237840</td>\n",
       "      <td>0.105089</td>\n",
       "      <td>384.250</td>\n",
       "      <td>3.556150e-07</td>\n",
       "      <td>0.056568</td>\n",
       "      <td>0.011044</td>\n",
       "      <td>0.0</td>\n",
       "    </tr>\n",
       "    <tr>\n",
       "      <th>3</th>\n",
       "      <td>59.0</td>\n",
       "      <td>1.00064</td>\n",
       "      <td>78.0864</td>\n",
       "      <td>4.82850</td>\n",
       "      <td>-1.0</td>\n",
       "      <td>0.999185</td>\n",
       "      <td>77.1325</td>\n",
       "      <td>4.61268</td>\n",
       "      <td>0.344410</td>\n",
       "      <td>0.151840</td>\n",
       "      <td>...</td>\n",
       "      <td>4.71279</td>\n",
       "      <td>18.4557</td>\n",
       "      <td>0.000495</td>\n",
       "      <td>0.319057</td>\n",
       "      <td>0.082483</td>\n",
       "      <td>340.611</td>\n",
       "      <td>2.450680e-07</td>\n",
       "      <td>0.101797</td>\n",
       "      <td>0.006803</td>\n",
       "      <td>0.0</td>\n",
       "    </tr>\n",
       "    <tr>\n",
       "      <th>4</th>\n",
       "      <td>220.0</td>\n",
       "      <td>1.06366</td>\n",
       "      <td>137.2140</td>\n",
       "      <td>4.89585</td>\n",
       "      <td>97.0</td>\n",
       "      <td>0.923464</td>\n",
       "      <td>53.6676</td>\n",
       "      <td>4.49419</td>\n",
       "      <td>-0.674985</td>\n",
       "      <td>-0.291327</td>\n",
       "      <td>...</td>\n",
       "      <td>4.65915</td>\n",
       "      <td>37.4303</td>\n",
       "      <td>0.053758</td>\n",
       "      <td>26.046500</td>\n",
       "      <td>0.135967</td>\n",
       "      <td>1401.030</td>\n",
       "      <td>2.889940e-03</td>\n",
       "      <td>678.420000</td>\n",
       "      <td>0.018487</td>\n",
       "      <td>2.0</td>\n",
       "    </tr>\n",
       "  </tbody>\n",
       "</table>\n",
       "<p>5 rows × 33 columns</p>\n",
       "</div>"
      ],
      "text/plain": [
       "   maxAudio_max  acc_max   mag_max  gyro_max  maxAudio_min   acc_min  mag_min  \\\n",
       "0         395.0  1.10290  197.3150   4.75512         250.0  0.912562  54.6493   \n",
       "1         395.0  1.10821  106.9840   5.15419         223.0  0.912738  56.0798   \n",
       "2          55.0  1.00057   78.2191   4.61307          -1.0  0.998912  77.5322   \n",
       "3          59.0  1.00064   78.0864   4.82850          -1.0  0.999185  77.1325   \n",
       "4         220.0  1.06366  137.2140   4.89585          97.0  0.923464  53.6676   \n",
       "\n",
       "   gyro_min  maxAudio_skew  acc_skew  ...  gyro_mean  maxAudio_std   acc_std  \\\n",
       "0   4.09236      -0.272337 -0.269098  ...    4.38684       46.2235  0.064219   \n",
       "1   4.19406       0.522063  0.829461  ...    4.60501       65.3299  0.067129   \n",
       "2   4.32297      -0.174508  0.068734  ...    4.46503       19.6023  0.000596   \n",
       "3   4.61268       0.344410  0.151840  ...    4.71279       18.4557  0.000495   \n",
       "4   4.49419      -0.674985 -0.291327  ...    4.65915       37.4303  0.053758   \n",
       "\n",
       "     mag_std  gyro_std  maxAudio_var       acc_var      mag_var  gyro_var  \\\n",
       "0  56.538200  0.250672      2136.610  4.124100e-03  3196.570000  0.062836   \n",
       "1  19.815100  0.295387      4268.000  4.506260e-03   392.639000  0.087254   \n",
       "2   0.237840  0.105089       384.250  3.556150e-07     0.056568  0.011044   \n",
       "3   0.319057  0.082483       340.611  2.450680e-07     0.101797  0.006803   \n",
       "4  26.046500  0.135967      1401.030  2.889940e-03   678.420000  0.018487   \n",
       "\n",
       "   class  \n",
       "0    3.0  \n",
       "1    3.0  \n",
       "2    0.0  \n",
       "3    0.0  \n",
       "4    2.0  \n",
       "\n",
       "[5 rows x 33 columns]"
      ]
     },
     "metadata": {},
     "output_type": "display_data"
    }
   ],
   "source": [
    "fn = 'features.csv'\n",
    "data = pd.read_csv(fn)\n",
    "print('Data shape retreived from the features data file is: ', str(data.shape))\n",
    "\n",
    "# Shuffle the data\n",
    "data = data.sample(frac=1).reset_index(drop=True)\n",
    "\n",
    "display(data.head())"
   ]
  },
  {
   "cell_type": "code",
   "execution_count": 16,
   "metadata": {},
   "outputs": [],
   "source": [
    "f2 = 'acc_std'\n",
    "f1 = 'maxAudio_sum'\n",
    "# Split out features and class membership into separate tables.\n",
    "features = data[[f1, f2]]\n",
    "results=data['class'].astype(int)"
   ]
  },
  {
   "cell_type": "markdown",
   "metadata": {},
   "source": [
    "# Split data into training and test sets"
   ]
  },
  {
   "cell_type": "code",
   "execution_count": 17,
   "metadata": {},
   "outputs": [],
   "source": [
    "X_train, X_test, Y_train, Y_test = train_test_split(features.to_numpy(), results.to_numpy(), test_size=0.33, random_state=37)\n"
   ]
  },
  {
   "cell_type": "markdown",
   "metadata": {},
   "source": [
    "# Subroutine for XY plots: myScatter()\n",
    "This utility function can create an XY plot of two features found in the input table.  We use it here to reproduce a figure originally created by the Feature_Extraction_Using_Pandas notebook used to create our test features.csv.\n",
    "\n",
    "This particular function works with numpy arrays only.  Contrast that with myScatterPandas (found in other notebooks in this series) which expects a Pandas dataframe as input."
   ]
  },
  {
   "cell_type": "code",
   "execution_count": 18,
   "metadata": {},
   "outputs": [
    {
     "name": "stdout",
     "output_type": "stream",
     "text": [
      "Unnormalized input data\n"
     ]
    },
    {
     "data": {
      "image/png": "[encoded data removed]",
      "text/plain": [
       "<Figure size 432x288 with 1 Axes>"
      ]
     },
     "metadata": {
      "needs_background": "light"
     },
     "output_type": "display_data"
    }
   ],
   "source": [
    "def myScatter(X, idx0, idx1, Y):\n",
    "    labels=['Off', 'Low', 'Medium', 'High']\n",
    "    color = ['black', 'green', 'blue', 'red']\n",
    "    fig, ax = plt.subplots()\n",
    "    x0 = X[:,idx0]\n",
    "    x1 = X[:,idx1]\n",
    "    for g in np.unique(Y):\n",
    "        ix = np.where(g==Y)\n",
    "        c=color[g]\n",
    "        ax.scatter(x0[ix], x1[ix], c=c, label=labels[g])\n",
    "    plt.legend(loc='best', frameon=False, labels=['Off', 'Low', 'Medium', 'High'])\n",
    "    plt.xlabel('feature'+str(idx0))\n",
    "    plt.ylabel('feature'+str(idx1))\n",
    "\n",
    "print('Unnormalized input data')\n",
    "myScatter(X_train, 0, 1, Y_train)\n"
   ]
  },
  {
   "cell_type": "markdown",
   "metadata": {},
   "source": [
    "# Normalize input data\n",
    "This next cell utilizes a scikit-Learn StandardScaler module.  It is FIT ONLY on the training data, but applies to both training and test data.  This distinction is required to avoid data snooping issues."
   ]
  },
  {
   "cell_type": "code",
   "execution_count": 19,
   "metadata": {},
   "outputs": [
    {
     "name": "stdout",
     "output_type": "stream",
     "text": [
      "Normalized Training Set\n"
     ]
    },
    {
     "data": {
      "image/png": "[encoded data removed]",
      "text/plain": [
       "<Figure size 432x288 with 1 Axes>"
      ]
     },
     "metadata": {
      "needs_background": "light"
     },
     "output_type": "display_data"
    }
   ],
   "source": [
    "scaler = StandardScaler()\n",
    "scaler.fit(X_train)\n",
    "X_train = scaler.transform(X_train)\n",
    "X_test  = scaler.transform(X_test)\n",
    "print('Normalized Training Set')\n",
    "myScatter(X_train, 0, 1, Y_train)"
   ]
  },
  {
   "cell_type": "code",
   "execution_count": 20,
   "metadata": {},
   "outputs": [
    {
     "name": "stdout",
     "output_type": "stream",
     "text": [
      "Normalized Test Set\n"
     ]
    },
    {
     "data": {
      "image/png": "[encoded data removed]",
      "text/plain": [
       "<Figure size 432x288 with 1 Axes>"
      ]
     },
     "metadata": {
      "needs_background": "light"
     },
     "output_type": "display_data"
    }
   ],
   "source": [
    "print('Normalized Test Set')\n",
    "myScatter(X_test, 0, 1, Y_test)"
   ]
  },
  {
   "cell_type": "markdown",
   "metadata": {},
   "source": [
    "# Train a model\n",
    "We've included three classifier options here: multilayer perceptron, AdaBoost Classifier which uses max 2-deep decision\n",
    "trees as base estimators, and LogisticRegression.  Choose mt=1, 2 or 3 to select which one you want to run."
   ]
  },
  {
   "cell_type": "code",
   "execution_count": 31,
   "metadata": {},
   "outputs": [
    {
     "name": "stdout",
     "output_type": "stream",
     "text": [
      "Iteration 1, loss = 1.08839037\n",
      "Iteration 2, loss = 0.38911617\n",
      "Iteration 3, loss = 0.16721809\n",
      "Iteration 4, loss = 0.10954986\n",
      "Iteration 5, loss = 0.10185712\n",
      "Iteration 6, loss = 0.08387628\n",
      "Iteration 7, loss = 0.07884689\n",
      "Iteration 8, loss = 0.08133424\n",
      "Iteration 9, loss = 0.06873508\n",
      "Iteration 10, loss = 0.06350191\n",
      "Iteration 11, loss = 0.06016524\n",
      "Iteration 12, loss = 0.05852979\n",
      "Iteration 13, loss = 0.06087814\n",
      "Iteration 14, loss = 0.05461004\n",
      "Iteration 15, loss = 0.06165417\n",
      "Iteration 16, loss = 0.06535197\n",
      "Iteration 17, loss = 0.05335130\n",
      "Iteration 18, loss = 0.05538367\n",
      "Iteration 19, loss = 0.05526034\n",
      "Iteration 20, loss = 0.05741539\n",
      "Iteration 21, loss = 0.06001010\n",
      "Iteration 22, loss = 0.05752655\n",
      "Iteration 23, loss = 0.05485559\n",
      "Iteration 24, loss = 0.05781469\n",
      "Iteration 25, loss = 0.05388607\n",
      "Iteration 26, loss = 0.05383938\n",
      "Iteration 27, loss = 0.05080443\n",
      "Iteration 28, loss = 0.05377555\n",
      "Iteration 29, loss = 0.05579510\n",
      "Iteration 30, loss = 0.05146496\n",
      "Iteration 31, loss = 0.05022082\n",
      "Iteration 32, loss = 0.06147109\n",
      "Iteration 33, loss = 0.04989722\n",
      "Iteration 34, loss = 0.05604043\n",
      "Iteration 35, loss = 0.05124497\n",
      "Iteration 36, loss = 0.04921278\n",
      "Iteration 37, loss = 0.04923498\n",
      "Iteration 38, loss = 0.05531019\n",
      "Iteration 39, loss = 0.05051172\n",
      "Iteration 40, loss = 0.05483618\n",
      "Iteration 41, loss = 0.05425217\n",
      "Iteration 42, loss = 0.05180224\n",
      "Iteration 43, loss = 0.05025338\n",
      "Iteration 44, loss = 0.04966115\n",
      "Iteration 45, loss = 0.05336205\n",
      "Iteration 46, loss = 0.05133500\n",
      "Iteration 47, loss = 0.05983805\n",
      "Training loss did not improve more than tol=0.000100 for 10 consecutive epochs. Stopping.\n",
      "Test set score: 0.988571\n",
      "Test set score: 1.000000\n"
     ]
    }
   ],
   "source": [
    "mt = 1\n",
    "\n",
    "if mt==1:\n",
    "    model = MLPClassifier(hidden_layer_sizes=(4,), max_iter=1000, alpha=1e-4,\n",
    "                        solver='sgd', verbose=10, random_state=1,\n",
    "                        learning_rate_init=.1, batch_size=10, shuffle=True)\n",
    "elif mt==2:\n",
    "    n_estimators=50\n",
    "    model=AdaBoostClassifier(base_estimator=DecisionTreeClassifier(max_depth=2), \n",
    "                             algorithm=\"SAMME\", n_estimators=n_estimators, random_state=777)\n",
    "elif mt==3:\n",
    "    model=LogisticRegression(C=1)   \n",
    "\n",
    "model.fit(X_train, Y_train)\n",
    "\n",
    "print(\"Test set score: %f\" % model.score(X_train, Y_train))\n",
    "print(\"Test set score: %f\" % model.score(X_test, Y_test))"
   ]
  },
  {
   "cell_type": "markdown",
   "metadata": {},
   "source": [
    "# Now look at the confusion matrices\n",
    "## Training Confusion Matrix"
   ]
  },
  {
   "cell_type": "code",
   "execution_count": 32,
   "metadata": {},
   "outputs": [
    {
     "name": "stdout",
     "output_type": "stream",
     "text": [
      "Confusion matrix for the training set\n"
     ]
    },
    {
     "data": {
      "image/png": "[encoded data removed]",
      "text/plain": [
       "<Figure size 720x576 with 2 Axes>"
      ]
     },
     "metadata": {
      "needs_background": "light"
     },
     "output_type": "display_data"
    }
   ],
   "source": [
    "names = ['C0', 'C1', 'C2', 'C3']\n",
    "fig, ax = plt.subplots(1, 1, figsize=(10,8))\n",
    "print('Confusion matrix for the training set')\n",
    "cm1=metrics.plot_confusion_matrix(model, X_train, Y_train, ax=ax, display_labels=names, cmap=plt.cm.Blues, values_format='n')"
   ]
  },
  {
   "cell_type": "markdown",
   "metadata": {},
   "source": [
    "## Test Confusion Matrix"
   ]
  },
  {
   "cell_type": "code",
   "execution_count": 33,
   "metadata": {},
   "outputs": [
    {
     "name": "stdout",
     "output_type": "stream",
     "text": [
      "Confusion matrix for the test set\n"
     ]
    },
    {
     "data": {
      "image/png": "[encoded data removed]",
      "text/plain": [
       "<Figure size 720x576 with 2 Axes>"
      ]
     },
     "metadata": {
      "needs_background": "light"
     },
     "output_type": "display_data"
    }
   ],
   "source": [
    "fig, ax = plt.subplots(1, 1, figsize=(10,8))\n",
    "print('Confusion matrix for the test set')\n",
    "cm2=metrics.plot_confusion_matrix(model, X_test, Y_test, ax=ax, display_labels=names, cmap=plt.cm.Blues, values_format='n')"
   ]
  },
  {
   "cell_type": "code",
   "execution_count": null,
   "metadata": {},
   "outputs": [],
   "source": []
  }
 ],
 "metadata": {
  "kernelspec": {
   "display_name": "Python 3",
   "language": "python",
   "name": "python3"
  },
  "language_info": {
   "codemirror_mode": {
    "name": "ipython",
    "version": 3
   },
   "file_extension": ".py",
   "mimetype": "text/x-python",
   "name": "python",
   "nbconvert_exporter": "python",
   "pygments_lexer": "ipython3",
   "version": "3.7.6"
  },
  "toc": {
   "base_numbering": 1,
   "nav_menu": {},
   "number_sections": true,
   "sideBar": true,
   "skip_h1_title": false,
   "title_cell": "Table of Contents",
   "title_sidebar": "Contents",
   "toc_cell": false,
   "toc_position": {
    "height": "calc(100% - 180px)",
    "left": "10px",
    "top": "150px",
    "width": "341.333px"
   },
   "toc_section_display": true,
   "toc_window_display": true
  }
 },
 "nbformat": 4,
 "nbformat_minor": 1
}
