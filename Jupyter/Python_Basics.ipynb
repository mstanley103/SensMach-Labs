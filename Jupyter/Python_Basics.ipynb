{
 "cells": [
  {
   "cell_type": "markdown",
   "metadata": {},
   "source": [
    "# Jupyter and Python Basics<a class=\"tocSkip\">\n",
    "&copy; 2020 by Michael Stanley (Mike.Stanley@ieee.org)<BR>\n",
    "Last revised: 24 July 2020\n",
    "    \n",
    "# A few quick notes about Jupyter\n",
    "* Jupyter notebooks are comprised of a number of cells.  \"Code\" and \"Markdown\" cells will probably make up most of your \n",
    "Notebook, and allow you to mix both code and documentation in the same document.  THIS particular cell is a markdown cell.\n",
    "* You can select a cell by clicking on it.  Markdown cells can be edited by double-clicking on them.\n",
    "* You execute a cell by selecting it and clicking the Run button or Ctrl-Enter.  Alternately, one of the Cell->Run... options.\n",
    "* Output from code cells is shown immediately below the code.  Markdown cells switch to \"Display\" mode when executed.\n",
    "* You can execute cells in any order you like, which can create confusing results if you're not careful.  When in doubt, \n",
    "    selecting the Kernel->Restart and Clear Output pulldown menu will get you to a clear slate.\n",
    "    \n",
    "## Python Data Types\n",
    "    \n",
    "### Basic Data Types\n",
    "Python is a loosely typed languages.  Variables take on a type upon assignment.  In the cell below, you will see examples of int, float, str, list and tuple."
   ]
  },
  {
   "cell_type": "code",
   "execution_count": 220,
   "metadata": {},
   "outputs": [
    {
     "name": "stdout",
     "output_type": "stream",
     "text": [
      "my_data\t= <class 'list'>\n",
      "3 \t= <class 'int'>\n",
      "2.0 \t= <class 'float'>\n",
      "a \t= <class 'str'>\n",
      "True \t= <class 'bool'>\n",
      "[1, 2] \t= <class 'list'>\n",
      "(1, 2) \t= <class 'tuple'>\n"
     ]
    }
   ],
   "source": [
    "my_data = [1, 2.0, 'a', True, [1,2], (1,2)]\n",
    "\n",
    "print('my_data\\t=', str(type(my_data)))\n",
    "for v in my_data:\n",
    "    print(v, '\\t=', str(type(v)))"
   ]
  },
  {
   "cell_type": "markdown",
   "metadata": {},
   "source": [
    "Notice that in the for loop, indentation is used in place of braces {} as is done in C-like languages.  <b>WHITESPACE IS SIGNIFICANT\n",
    "IN PYTHON!</b>\n",
    "\n",
    "Also notice that we used the for loop above to iterate over all members of a list.  We do the same thing below, but use an index to access each member of the list.  The results are exactly the same."
   ]
  },
  {
   "cell_type": "code",
   "execution_count": 175,
   "metadata": {
    "scrolled": true
   },
   "outputs": [
    {
     "name": "stdout",
     "output_type": "stream",
     "text": [
      "1 \t= <class 'int'>\n",
      "2.0 \t= <class 'float'>\n",
      "a \t= <class 'str'>\n",
      "True \t= <class 'bool'>\n",
      "[1, 2] \t= <class 'list'>\n",
      "(1, 2) \t= <class 'tuple'>\n"
     ]
    }
   ],
   "source": [
    "for i in range(len(my_data)):\n",
    "    print(my_data[i], '\\t=', str(type(my_data[i])))"
   ]
  },
  {
   "cell_type": "markdown",
   "metadata": {},
   "source": [
    "Use the range() function to compute a range of integers.  The format is range(start, stop, step) where start defaults\n",
    "to 0 and step defaults to 1.  The computed list is generated for output<stop."
   ]
  },
  {
   "cell_type": "code",
   "execution_count": 176,
   "metadata": {},
   "outputs": [
    {
     "name": "stdout",
     "output_type": "stream",
     "text": [
      "0\n",
      "1\n",
      "2\n",
      "3\n",
      "second way to use range:\n",
      "10\n",
      "12\n",
      "14\n",
      "16\n",
      "18\n"
     ]
    }
   ],
   "source": [
    "for i in range(4):\n",
    "    print(i)\n",
    "print('second way to use range:')\n",
    "for i in range (10, 20, 2):\n",
    "    print(i)"
   ]
  },
  {
   "cell_type": "markdown",
   "metadata": {},
   "source": [
    "### Dictionaries\n",
    "Python dictionaries (known in other languages as \"associative arrays\") allow you to set and retreive values by keyword."
   ]
  },
  {
   "cell_type": "code",
   "execution_count": 177,
   "metadata": {},
   "outputs": [
    {
     "name": "stdout",
     "output_type": "stream",
     "text": [
      "{'First': 'Tom', 'Last': 'Jones', 'DOB': 1964, 'MaritalStatus': 'single', 'NetWorth': 0.05}\n",
      "Tom\n"
     ]
    }
   ],
   "source": [
    "thisdict = {\n",
    "  'First': 'Tom',\n",
    "  'Last': 'Jones',\n",
    "  'DOB': 1964,\n",
    "  'MaritalStatus': 'single'\n",
    "}\n",
    "thisdict['NetWorth'] = 0.05\n",
    "\n",
    "print(thisdict)\n",
    "print(thisdict['First'])"
   ]
  },
  {
   "cell_type": "markdown",
   "metadata": {},
   "source": [
    "As usual, there are multiple ways to iterate over a Python dictionary.  Here are two: "
   ]
  },
  {
   "cell_type": "code",
   "execution_count": 178,
   "metadata": {},
   "outputs": [
    {
     "name": "stdout",
     "output_type": "stream",
     "text": [
      "First  =  Tom\n",
      "Last  =  Jones\n",
      "DOB  =  1964\n",
      "MaritalStatus  =  single\n",
      "NetWorth  =  0.05\n"
     ]
    }
   ],
   "source": [
    "for key in thisdict:\n",
    "    print(key, ' = ', thisdict[key])"
   ]
  },
  {
   "cell_type": "code",
   "execution_count": 179,
   "metadata": {},
   "outputs": [
    {
     "name": "stdout",
     "output_type": "stream",
     "text": [
      "First  =  Tom\n",
      "Last  =  Jones\n",
      "DOB  =  1964\n",
      "MaritalStatus  =  single\n",
      "NetWorth  =  0.05\n"
     ]
    }
   ],
   "source": [
    "for key, value in thisdict.items():\n",
    "    print(key, ' = ', value)"
   ]
  },
  {
   "cell_type": "markdown",
   "metadata": {},
   "source": [
    "## Control and Looping\n",
    "### For Loop\n",
    "We've already seen the basic for loop:"
   ]
  },
  {
   "cell_type": "code",
   "execution_count": 180,
   "metadata": {},
   "outputs": [
    {
     "name": "stdout",
     "output_type": "stream",
     "text": [
      "0\n",
      "1\n",
      "2\n",
      "3\n",
      "4\n"
     ]
    }
   ],
   "source": [
    "for i in range(5):\n",
    "    print(i)"
   ]
  },
  {
   "cell_type": "markdown",
   "metadata": {},
   "source": [
    "### While Loop\n",
    "Python also has a while loop:"
   ]
  },
  {
   "cell_type": "code",
   "execution_count": 181,
   "metadata": {},
   "outputs": [
    {
     "name": "stdout",
     "output_type": "stream",
     "text": [
      "0\n",
      "1\n",
      "2\n",
      "3\n",
      "4\n"
     ]
    }
   ],
   "source": [
    "i=0\n",
    "while i<5:\n",
    "    print(i)\n",
    "    i+=1"
   ]
  },
  {
   "cell_type": "markdown",
   "metadata": {},
   "source": [
    "### Conditionals\n",
    "Booleans are either True or False, and can be tested with if statements"
   ]
  },
  {
   "cell_type": "code",
   "execution_count": 182,
   "metadata": {},
   "outputs": [
    {
     "name": "stdout",
     "output_type": "stream",
     "text": [
      "sts is True\n",
      "sts is False\n"
     ]
    }
   ],
   "source": [
    "def test_sts(sts):\n",
    "    if sts:\n",
    "        print('sts is False')\n",
    "    else:\n",
    "        print('sts is True')\n",
    "    \n",
    "sts = False\n",
    "test_sts(sts)\n",
    "sts = True\n",
    "test_sts(sts)"
   ]
  },
  {
   "cell_type": "markdown",
   "metadata": {},
   "source": [
    "### Switch Statements\n",
    "There is no direct mapping of C-like switch statement into Python.  Some people use a combination of dictionaries and functions to implement similar functionality.  We prefer simple if-else constructs:"
   ]
  },
  {
   "cell_type": "code",
   "execution_count": 183,
   "metadata": {},
   "outputs": [
    {
     "name": "stdout",
     "output_type": "stream",
     "text": [
      "sts = 1\n",
      "sts = 2\n",
      "sts = 3\n",
      "we don't know how to handle sts\n"
     ]
    }
   ],
   "source": [
    "def test_sts(sts):\n",
    "    if (sts==1):\n",
    "        print('sts = 1')\n",
    "    elif (sts==2):\n",
    "        print('sts = 2')\n",
    "    elif (sts==3):\n",
    "        print('sts = 3')\n",
    "    else:\n",
    "        print('we don\\'t know how to handle sts')\n",
    "\n",
    "test_sts(1)\n",
    "test_sts(2)\n",
    "test_sts(3)\n",
    "test_sts(99)      "
   ]
  },
  {
   "cell_type": "markdown",
   "metadata": {},
   "source": [
    "## Numpy\n",
    "Numpy is a library which adds support for multidimensional arrays and matrices to Python.  It is normally imported as shown below.  \n",
    "\n",
    "### Vector/Array Creation\n",
    "The next couple of cells initialize a 3x3 matrix X and a 3 entry vector Y.  Y can be interpreted as a row or as a column vector depending upon how it is used."
   ]
  },
  {
   "cell_type": "code",
   "execution_count": 184,
   "metadata": {},
   "outputs": [
    {
     "data": {
      "text/plain": [
       "array([[1, 2, 3],\n",
       "       [4, 5, 6],\n",
       "       [7, 8, 9]])"
      ]
     },
     "execution_count": 184,
     "metadata": {},
     "output_type": "execute_result"
    }
   ],
   "source": [
    "import numpy as np\n",
    "X = np.array([[1,2,3],[4, 5, 6],[7,8,9]])\n",
    "X"
   ]
  },
  {
   "cell_type": "code",
   "execution_count": 185,
   "metadata": {},
   "outputs": [
    {
     "data": {
      "text/plain": [
       "array([1, 2, 3])"
      ]
     },
     "execution_count": 185,
     "metadata": {},
     "output_type": "execute_result"
    }
   ],
   "source": [
    "Y=np.arange(1,4)\n",
    "Y"
   ]
  },
  {
   "cell_type": "markdown",
   "metadata": {},
   "source": [
    "### Matrix Addition\n",
    "Adding two arrays of identical shape simply adds the individual values.  Here we are just adding X to itself."
   ]
  },
  {
   "cell_type": "code",
   "execution_count": 186,
   "metadata": {},
   "outputs": [
    {
     "data": {
      "text/plain": [
       "array([[ 2,  4,  6],\n",
       "       [ 8, 10, 12],\n",
       "       [14, 16, 18]])"
      ]
     },
     "execution_count": 186,
     "metadata": {},
     "output_type": "execute_result"
    }
   ],
   "source": [
    "X+X"
   ]
  },
  {
   "cell_type": "markdown",
   "metadata": {},
   "source": [
    "### Multiplication by Scalar\n",
    "Muliplying an array or vector by constant yields a new array or vector in which each element is that constant\n",
    "times the original element value."
   ]
  },
  {
   "cell_type": "code",
   "execution_count": 187,
   "metadata": {},
   "outputs": [
    {
     "data": {
      "text/plain": [
       "array([[ 2,  4,  6],\n",
       "       [ 8, 10, 12],\n",
       "       [14, 16, 18]])"
      ]
     },
     "execution_count": 187,
     "metadata": {},
     "output_type": "execute_result"
    }
   ],
   "source": [
    "2*X"
   ]
  },
  {
   "cell_type": "markdown",
   "metadata": {},
   "source": [
    "### Matrix / Vector Basic Math Operations\n",
    "Addition/Subtraction/Division/Multiplication of an NXN matrix results with a 1XN vector results in another NXN matrix \n",
    "in which the rows are a result of the corresponding vector operation.  \n",
    "\n",
    "Here we print X and Y back out for reference and try a few operations."
   ]
  },
  {
   "cell_type": "code",
   "execution_count": 188,
   "metadata": {},
   "outputs": [
    {
     "data": {
      "text/plain": [
       "array([[1, 2, 3],\n",
       "       [4, 5, 6],\n",
       "       [7, 8, 9]])"
      ]
     },
     "execution_count": 188,
     "metadata": {},
     "output_type": "execute_result"
    }
   ],
   "source": [
    "X"
   ]
  },
  {
   "cell_type": "code",
   "execution_count": 189,
   "metadata": {},
   "outputs": [
    {
     "data": {
      "text/plain": [
       "array([1, 2, 3])"
      ]
     },
     "execution_count": 189,
     "metadata": {},
     "output_type": "execute_result"
    }
   ],
   "source": [
    "Y"
   ]
  },
  {
   "cell_type": "code",
   "execution_count": 190,
   "metadata": {},
   "outputs": [
    {
     "data": {
      "text/plain": [
       "array([[ 2,  4,  6],\n",
       "       [ 5,  7,  9],\n",
       "       [ 8, 10, 12]])"
      ]
     },
     "execution_count": 190,
     "metadata": {},
     "output_type": "execute_result"
    }
   ],
   "source": [
    "X+Y"
   ]
  },
  {
   "cell_type": "code",
   "execution_count": 191,
   "metadata": {},
   "outputs": [
    {
     "data": {
      "text/plain": [
       "array([[0, 0, 0],\n",
       "       [3, 3, 3],\n",
       "       [6, 6, 6]])"
      ]
     },
     "execution_count": 191,
     "metadata": {},
     "output_type": "execute_result"
    }
   ],
   "source": [
    "X-Y"
   ]
  },
  {
   "cell_type": "code",
   "execution_count": 192,
   "metadata": {},
   "outputs": [
    {
     "data": {
      "text/plain": [
       "array([[1. , 1. , 1. ],\n",
       "       [4. , 2.5, 2. ],\n",
       "       [7. , 4. , 3. ]])"
      ]
     },
     "execution_count": 192,
     "metadata": {},
     "output_type": "execute_result"
    }
   ],
   "source": [
    "X/Y"
   ]
  },
  {
   "cell_type": "code",
   "execution_count": 193,
   "metadata": {},
   "outputs": [
    {
     "data": {
      "text/plain": [
       "array([[ 1,  4,  9],\n",
       "       [ 4, 10, 18],\n",
       "       [ 7, 16, 27]])"
      ]
     },
     "execution_count": 193,
     "metadata": {},
     "output_type": "execute_result"
    }
   ],
   "source": [
    "X*Y"
   ]
  },
  {
   "cell_type": "markdown",
   "metadata": {},
   "source": [
    "### Vector / Matrix Multiplication\n",
    "Recall that you can multiply an (i x k) matrix a by (k x j) matrix b to arrive at (i x j) matrix c where each entry \n",
    "of the matrix c is computed as: \n",
    "![Equation for Matrix Multiplication](../images/MatrixMultiplication.png)\n",
    "Again, print out X and Y for reference."
   ]
  },
  {
   "cell_type": "code",
   "execution_count": 194,
   "metadata": {},
   "outputs": [
    {
     "data": {
      "text/plain": [
       "array([[1, 2, 3],\n",
       "       [4, 5, 6],\n",
       "       [7, 8, 9]])"
      ]
     },
     "execution_count": 194,
     "metadata": {},
     "output_type": "execute_result"
    }
   ],
   "source": [
    "X"
   ]
  },
  {
   "cell_type": "code",
   "execution_count": 195,
   "metadata": {},
   "outputs": [
    {
     "data": {
      "text/plain": [
       "array([1, 2, 3])"
      ]
     },
     "execution_count": 195,
     "metadata": {},
     "output_type": "execute_result"
    }
   ],
   "source": [
    "Y"
   ]
  },
  {
   "cell_type": "markdown",
   "metadata": {},
   "source": [
    "#### Matrix X (Nx1 Vector)"
   ]
  },
  {
   "cell_type": "code",
   "execution_count": 196,
   "metadata": {},
   "outputs": [
    {
     "data": {
      "text/plain": [
       "array([14, 32, 50])"
      ]
     },
     "execution_count": 196,
     "metadata": {},
     "output_type": "execute_result"
    }
   ],
   "source": [
    "X@Y # Matrix multiplication.  Y is treated at 3x1"
   ]
  },
  {
   "cell_type": "markdown",
   "metadata": {},
   "source": [
    "Here's how the calculation was carried out:\n",
    "* 14 = 1x1 + 2x2 + 3x3\n",
    "* 32 = 4x1 + 5x2 + 6x32\n",
    "* 50 = 7x1 + 8x2 + 9x3\n",
    "\n",
    "#### Vector X Matrix"
   ]
  },
  {
   "cell_type": "code",
   "execution_count": 197,
   "metadata": {},
   "outputs": [
    {
     "data": {
      "text/plain": [
       "array([30, 36, 42])"
      ]
     },
     "execution_count": 197,
     "metadata": {},
     "output_type": "execute_result"
    }
   ],
   "source": [
    "Y@X # Y is treated as 1x3"
   ]
  },
  {
   "cell_type": "markdown",
   "metadata": {},
   "source": [
    "In this case, the calculation was:\n",
    "* 30 = 1x1 + 2x4 + 3x7\n",
    "* 36 = 1x2 + 2x5 + 3x8\n",
    "* 42 = 1x3 + 2x6 + 3x9\n",
    "\n",
    "#### Matrix X Matrix\n",
    "Let's create a simpler array to play with"
   ]
  },
  {
   "cell_type": "code",
   "execution_count": 198,
   "metadata": {},
   "outputs": [
    {
     "data": {
      "text/plain": [
       "array([[1, 2],\n",
       "       [4, 5]])"
      ]
     },
     "execution_count": 198,
     "metadata": {},
     "output_type": "execute_result"
    }
   ],
   "source": [
    "X = np.array([[1,2],[4, 5]])\n",
    "X"
   ]
  },
  {
   "cell_type": "code",
   "execution_count": 199,
   "metadata": {},
   "outputs": [
    {
     "data": {
      "text/plain": [
       "array([[ 9, 12],\n",
       "       [24, 33]])"
      ]
     },
     "execution_count": 199,
     "metadata": {},
     "output_type": "execute_result"
    }
   ],
   "source": [
    "X@X"
   ]
  },
  {
   "cell_type": "markdown",
   "metadata": {},
   "source": [
    "Just for reference, here are the calculations for the expression above:\n",
    "* 9  = 1x1 + 2x4\n",
    "* 12 = 1x2 + 2x5\n",
    "* 24 = 4x1 + 5x4\n",
    "* 33 = 4x2 + 5x5"
   ]
  },
  {
   "cell_type": "markdown",
   "metadata": {},
   "source": [
    "### Using conditionals with Arrays"
   ]
  },
  {
   "cell_type": "code",
   "execution_count": 200,
   "metadata": {},
   "outputs": [],
   "source": [
    "X = np.array([[1,2,3],[4, 5, 6],[7,8,9]])"
   ]
  },
  {
   "cell_type": "markdown",
   "metadata": {},
   "source": [
    "Create an index of which values of X were greater than 4"
   ]
  },
  {
   "cell_type": "code",
   "execution_count": 201,
   "metadata": {},
   "outputs": [
    {
     "data": {
      "text/plain": [
       "array([[False, False, False],\n",
       "       [False,  True,  True],\n",
       "       [ True,  True,  True]])"
      ]
     },
     "execution_count": 201,
     "metadata": {},
     "output_type": "execute_result"
    }
   ],
   "source": [
    "X>4"
   ]
  },
  {
   "cell_type": "markdown",
   "metadata": {},
   "source": [
    "Use that index to create a shorter array of just the values greater than 4"
   ]
  },
  {
   "cell_type": "code",
   "execution_count": 202,
   "metadata": {},
   "outputs": [
    {
     "data": {
      "text/plain": [
       "array([5, 6, 7, 8, 9])"
      ]
     },
     "execution_count": 202,
     "metadata": {},
     "output_type": "execute_result"
    }
   ],
   "source": [
    "X[X>4]"
   ]
  },
  {
   "cell_type": "markdown",
   "metadata": {},
   "source": [
    "### Variables reference arrays, they are not the array themselves\n",
    "You can have more than one variable referencing the same array!"
   ]
  },
  {
   "cell_type": "code",
   "execution_count": 203,
   "metadata": {},
   "outputs": [
    {
     "data": {
      "text/plain": [
       "array([[1, 2, 3],\n",
       "       [4, 5, 6],\n",
       "       [7, 8, 9]])"
      ]
     },
     "execution_count": 203,
     "metadata": {},
     "output_type": "execute_result"
    }
   ],
   "source": [
    "X"
   ]
  },
  {
   "cell_type": "code",
   "execution_count": 204,
   "metadata": {},
   "outputs": [
    {
     "data": {
      "text/plain": [
       "array([[1, 2, 3],\n",
       "       [4, 5, 6],\n",
       "       [7, 8, 9]])"
      ]
     },
     "execution_count": 204,
     "metadata": {},
     "output_type": "execute_result"
    }
   ],
   "source": [
    "Z=X\n",
    "Z"
   ]
  },
  {
   "cell_type": "markdown",
   "metadata": {},
   "source": [
    "Add 1 to all elements of Z"
   ]
  },
  {
   "cell_type": "code",
   "execution_count": 205,
   "metadata": {},
   "outputs": [
    {
     "data": {
      "text/plain": [
       "array([[ 2,  3,  4],\n",
       "       [ 5,  6,  7],\n",
       "       [ 8,  9, 10]])"
      ]
     },
     "execution_count": 205,
     "metadata": {},
     "output_type": "execute_result"
    }
   ],
   "source": [
    "Z+=1\n",
    "Z"
   ]
  },
  {
   "cell_type": "markdown",
   "metadata": {},
   "source": [
    "Notice that both X and Z point to the SAME ARRAY"
   ]
  },
  {
   "cell_type": "code",
   "execution_count": 206,
   "metadata": {},
   "outputs": [
    {
     "data": {
      "text/plain": [
       "array([[ 2,  3,  4],\n",
       "       [ 5,  6,  7],\n",
       "       [ 8,  9, 10]])"
      ]
     },
     "execution_count": 206,
     "metadata": {},
     "output_type": "execute_result"
    }
   ],
   "source": [
    "X"
   ]
  },
  {
   "cell_type": "markdown",
   "metadata": {},
   "source": [
    "You can individually change a value of X"
   ]
  },
  {
   "cell_type": "code",
   "execution_count": 207,
   "metadata": {},
   "outputs": [
    {
     "data": {
      "text/plain": [
       "array([[22,  3,  4],\n",
       "       [ 5,  6,  7],\n",
       "       [ 8,  9, 10]])"
      ]
     },
     "execution_count": 207,
     "metadata": {},
     "output_type": "execute_result"
    }
   ],
   "source": [
    "X[0,0]+=20\n",
    "X"
   ]
  },
  {
   "cell_type": "markdown",
   "metadata": {},
   "source": [
    "and now see the impact and Z.  Again, both X and Z are pointing to the same array.  Use np.copyto() to create distinct arrays."
   ]
  },
  {
   "cell_type": "code",
   "execution_count": 208,
   "metadata": {},
   "outputs": [
    {
     "data": {
      "text/plain": [
       "array([[22,  3,  4],\n",
       "       [ 5,  6,  7],\n",
       "       [ 8,  9, 10]])"
      ]
     },
     "execution_count": 208,
     "metadata": {},
     "output_type": "execute_result"
    }
   ],
   "source": [
    "Z"
   ]
  },
  {
   "cell_type": "markdown",
   "metadata": {},
   "source": [
    "## Functions\n",
    "\n",
    "Functions don't necessary have to know what type of variables they receive as input parameters"
   ]
  },
  {
   "cell_type": "code",
   "execution_count": 209,
   "metadata": {},
   "outputs": [
    {
     "name": "stdout",
     "output_type": "stream",
     "text": [
      "3\n",
      "3.0\n",
      "Hello There\n",
      "[2, 3, 4, 8, 9]\n"
     ]
    }
   ],
   "source": [
    "# add two variables\n",
    "def myAdd(x, y):\n",
    "    return(x+y)\n",
    "\n",
    "print(myAdd(2,1))\n",
    "print(myAdd(2,1.0))\n",
    "print(myAdd('Hello ', 'There'))\n",
    "print(myAdd([2,3,4], [8,9]))"
   ]
  },
  {
   "cell_type": "markdown",
   "metadata": {},
   "source": [
    "Functions can return more than one value via the use of Python tuples"
   ]
  },
  {
   "cell_type": "code",
   "execution_count": 210,
   "metadata": {},
   "outputs": [
    {
     "name": "stdout",
     "output_type": "stream",
     "text": [
      "6 7\n"
     ]
    }
   ],
   "source": [
    "# Function for adding 2 wide tuples\n",
    "def myAddTuple(x, y):\n",
    "    return x[0]+y[0], x[1]+y[1]\n",
    "\n",
    "x, y = myAddTuple((2,3), (4,4))\n",
    "print(x, y)"
   ]
  },
  {
   "cell_type": "markdown",
   "metadata": {},
   "source": [
    "## Enumerated Values\n",
    "### Creating Enumerated Values\n",
    "Enumerated values are emulated using classes derived from the IntEnum library class"
   ]
  },
  {
   "cell_type": "code",
   "execution_count": 211,
   "metadata": {},
   "outputs": [],
   "source": [
    "from enum import IntEnum\n",
    "class CLASSIFIERTYPE(IntEnum):\n",
    "    KNN = 0\n",
    "    LINEARSVC = 1\n",
    "    SVC = 2\n",
    "    GPC = 3\n",
    "    DTree = 4\n",
    "    RForest = 5\n",
    "    MLP = 6\n",
    "    AdaBoost = 7\n",
    "    GaussianNB = 8\n",
    "    QDA = 9\n",
    "    GMM = 10\n",
    "    OCSVM = 11\n",
    "    "
   ]
  },
  {
   "cell_type": "markdown",
   "metadata": {},
   "source": [
    "### Using enumerated values as index into a list of values"
   ]
  },
  {
   "cell_type": "code",
   "execution_count": 212,
   "metadata": {},
   "outputs": [
    {
     "name": "stdout",
     "output_type": "stream",
     "text": [
      "<class 'dict'>\n"
     ]
    },
    {
     "data": {
      "text/plain": [
       "{<CLASSIFIERTYPE.KNN: 0>: 'K-Nearest Neighbors',\n",
       " <CLASSIFIERTYPE.SVC: 2>: 'SVC',\n",
       " <CLASSIFIERTYPE.GPC: 3>: 'Gaussian Process',\n",
       " <CLASSIFIERTYPE.DTree: 4>: 'Decision Tree',\n",
       " <CLASSIFIERTYPE.RForest: 5>: 'Random Forest',\n",
       " <CLASSIFIERTYPE.MLP: 6>: 'Multi-Layer Perceptron',\n",
       " <CLASSIFIERTYPE.AdaBoost: 7>: 'AdaBoost',\n",
       " <CLASSIFIERTYPE.GaussianNB: 8>: 'Gaussian Naive-Bayes',\n",
       " <CLASSIFIERTYPE.QDA: 9>: 'Quadratic Discriminant Analysis',\n",
       " <CLASSIFIERTYPE.GMM: 10>: 'Gaussian Mixture Model',\n",
       " <CLASSIFIERTYPE.OCSVM: 11>: 'One Class SVM'}"
      ]
     },
     "execution_count": 212,
     "metadata": {},
     "output_type": "execute_result"
    }
   ],
   "source": [
    "ClassifierDesc = {}\n",
    "ClassifierDesc[CLASSIFIERTYPE.KNN] = 'K-Nearest Neighbors'\n",
    "ClassifierDesc[CLASSIFIERTYPE.SVC] = 'SVC'\n",
    "ClassifierDesc[CLASSIFIERTYPE.GPC] = 'Gaussian Process'\n",
    "ClassifierDesc[CLASSIFIERTYPE.DTree] = 'Decision Tree'\n",
    "ClassifierDesc[CLASSIFIERTYPE.RForest] = 'Random Forest'\n",
    "ClassifierDesc[CLASSIFIERTYPE.MLP] = 'Multi-Layer Perceptron'\n",
    "ClassifierDesc[CLASSIFIERTYPE.AdaBoost] = 'AdaBoost'\n",
    "ClassifierDesc[CLASSIFIERTYPE.GaussianNB] = 'Gaussian Naive-Bayes'\n",
    "ClassifierDesc[CLASSIFIERTYPE.QDA] = 'Quadratic Discriminant Analysis'\n",
    "ClassifierDesc[CLASSIFIERTYPE.GMM] = \"Gaussian Mixture Model\"\n",
    "ClassifierDesc[CLASSIFIERTYPE.OCSVM] = 'One Class SVM'\n",
    "\n",
    "print(type(ClassifierDesc))\n",
    "ClassifierDesc"
   ]
  },
  {
   "cell_type": "markdown",
   "metadata": {},
   "source": [
    "## Defining your own class\n",
    "The name of the constructor is always __init__(initialization variables here)"
   ]
  },
  {
   "cell_type": "code",
   "execution_count": 213,
   "metadata": {},
   "outputs": [
    {
     "data": {
      "text/plain": [
       "'Friend'"
      ]
     },
     "execution_count": 213,
     "metadata": {},
     "output_type": "execute_result"
    }
   ],
   "source": [
    "class object():\n",
    "    \n",
    "    def __init__(self, name):\n",
    "        self.name = name;\n",
    "        \n",
    "    def identity(self):\n",
    "        return(self.name)\n",
    "        \n",
    "obj = object('Friend')\n",
    "obj.identity()"
   ]
  },
  {
   "cell_type": "markdown",
   "metadata": {},
   "source": [
    "## Plots\n",
    "There are a number of plotting libraries for use with Python.  Matplotlib is considered the \"standard\" and grandfather of them all."
   ]
  },
  {
   "cell_type": "code",
   "execution_count": 214,
   "metadata": {},
   "outputs": [
    {
     "data": {
      "text/plain": [
       "Text(0, 0.5, 'Y')"
      ]
     },
     "execution_count": 214,
     "metadata": {},
     "output_type": "execute_result"
    },
    {
     "data": {
      "image/png": "[encoded data removed]",
      "text/plain": [
       "<Figure size 432x288 with 1 Axes>"
      ]
     },
     "metadata": {
      "needs_background": "light"
     },
     "output_type": "display_data"
    }
   ],
   "source": [
    "import matplotlib.pyplot as plt\n",
    "import numpy as np\n",
    "import math\n",
    "X = np.arange(0, 300)\n",
    "Y = np.sin(0.02 * math.pi * X)\n",
    "plt.plot(X, Y)\n",
    "plt.title('Y = Sin(0.02 * pi * X)')\n",
    "plt.xlabel('X')\n",
    "plt.ylabel('Y')"
   ]
  },
  {
   "cell_type": "markdown",
   "metadata": {},
   "source": [
    "## Widgets\n",
    "The IP Widgets library contains a wide variety of graphical widgets for you to use to build graphical\n",
    "user interfaces.  See the other Jupyter notebooks in this series to see examples.  There is also a very\n",
    "good set of examples included with the widgets library.  See [https://ipywidgets.readthedocs.io](https://ipywidgets.readthedocs.io)\n",
    "for details."
   ]
  },
  {
   "cell_type": "code",
   "execution_count": 215,
   "metadata": {},
   "outputs": [
    {
     "data": {
      "application/vnd.jupyter.widget-view+json": {
       "model_id": "d2456d21facc4796bb6b88321d8a006a",
       "version_major": 2,
       "version_minor": 0
      },
      "text/plain": [
       "IntSlider(value=0, description='w', max=50, min=-10)"
      ]
     },
     "metadata": {},
     "output_type": "display_data"
    }
   ],
   "source": [
    "import ipywidgets as widgets\n",
    "from IPython.display import display\n",
    "w = widgets.IntSlider(description='w', min=-10, max=50, step=1)\n",
    "display(w)"
   ]
  },
  {
   "cell_type": "code",
   "execution_count": 216,
   "metadata": {},
   "outputs": [
    {
     "data": {
      "text/plain": [
       "0"
      ]
     },
     "execution_count": 216,
     "metadata": {},
     "output_type": "execute_result"
    }
   ],
   "source": [
    "w.value"
   ]
  },
  {
   "cell_type": "code",
   "execution_count": 217,
   "metadata": {},
   "outputs": [
    {
     "data": {
      "application/vnd.jupyter.widget-view+json": {
       "model_id": "002857f004984898ba466ab4ae5be828",
       "version_major": 2,
       "version_minor": 0
      },
      "text/plain": [
       "ToggleButton(value=False, description='Toggle Button', icon='check', tooltip='my button')"
      ]
     },
     "metadata": {},
     "output_type": "display_data"
    }
   ],
   "source": [
    "widgets.ToggleButton(\n",
    "    value=False,\n",
    "    description='Toggle Button',\n",
    "    disabled=False,\n",
    "    button_style='',\n",
    "    tooltip='my button',\n",
    "    icon='check'\n",
    ")"
   ]
  },
  {
   "cell_type": "code",
   "execution_count": null,
   "metadata": {},
   "outputs": [],
   "source": []
  }
 ],
 "metadata": {
  "kernelspec": {
   "display_name": "Python 3",
   "language": "python",
   "name": "python3"
  },
  "language_info": {
   "codemirror_mode": {
    "name": "ipython",
    "version": 3
   },
   "file_extension": ".py",
   "mimetype": "text/x-python",
   "name": "python",
   "nbconvert_exporter": "python",
   "pygments_lexer": "ipython3",
   "version": "3.7.6"
  },
  "toc": {
   "base_numbering": 1,
   "nav_menu": {},
   "number_sections": true,
   "sideBar": true,
   "skip_h1_title": true,
   "title_cell": "Table of Contents",
   "title_sidebar": "Contents",
   "toc_cell": false,
   "toc_position": {
    "height": "calc(100% - 180px)",
    "left": "10px",
    "top": "150px",
    "width": "341.333px"
   },
   "toc_section_display": true,
   "toc_window_display": true
  }
 },
 "nbformat": 4,
 "nbformat_minor": 2
}
