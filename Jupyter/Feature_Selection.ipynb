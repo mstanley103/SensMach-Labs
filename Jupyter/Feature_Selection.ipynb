{
 "cells": [
  {
   "cell_type": "markdown",
   "metadata": {},
   "source": [
    "## Simple Feature Selection Script<a class=\"tocSkip\">\n",
    "&copy; 2020 by Michael Stanley (Mike.Stanley@ieee.org)<BR>\n",
    "Last revised: 29 August 2020\n",
    "    \n",
    "Requires presence of features.csv in the same directory as this notebook.  That file should contain \"features\"\n",
    "extracted from raw data by a prior step in the process (ex: Feature_Extraction_Using_Pandas).\n",
    "\n",
    "Computed feature types can include things like: min, max, mean, std, variance, skew factor, kurtosis and sum.  \n",
    "The list of possible feature types is literally unlimited.\n",
    "    \n",
    "Techniques included in this notebook include:\n",
    "* Univariate Feature Selection\n",
    "* Feature Ranking Via Recursive Feature Elimination\n",
    "* Feature importance with Forest of Trees\n",
    "* Human-in-the-loop inspection of feature spread versus class membership.\n",
    "    \n",
    "See https://scikit-learn.org/stable/modules/feature_selection.html for additional details on some of the techniques shown.\n",
    "\n",
    "# Import standard Models"
   ]
  },
  {
   "cell_type": "code",
   "execution_count": 19,
   "metadata": {},
   "outputs": [],
   "source": [
    "import glob\n",
    "import os\n",
    "import re\n",
    "import pandas as pd\n",
    "import numpy as np\n",
    "from sklearn.feature_selection import SelectKBest\n",
    "from sklearn.feature_selection import chi2, f_classif, mutual_info_classif\n",
    "from sklearn.model_selection import train_test_split\n",
    "import matplotlib.pyplot as plt\n",
    "from sklearn.feature_selection import RFECV\n",
    "from sklearn.svm import SVR, SVC\n",
    "from sklearn.ensemble import ExtraTreesClassifier"
   ]
  },
  {
   "cell_type": "code",
   "execution_count": 20,
   "metadata": {},
   "outputs": [],
   "source": [
    "font = {'family' : 'serif',\n",
    "        'weight' : 'bold',\n",
    "        'size'   : 12}\n",
    "\n",
    "plt.rc('font', **font)"
   ]
  },
  {
   "cell_type": "markdown",
   "metadata": {},
   "source": [
    "# Read CSV file\n",
    "Read features.csv, shuffles it and then break that data into separate features and results dataFrames.  Then display the first few lines of the shuffled dataset.\n",
    "\n",
    "The reason we shuffle the dataset is to make sure that when we subsample for training vs test, it is done in a random fashion."
   ]
  },
  {
   "cell_type": "code",
   "execution_count": 21,
   "metadata": {},
   "outputs": [
    {
     "name": "stdout",
     "output_type": "stream",
     "text": [
      "Data shape retreived from the features data file is:  (262, 33)\n"
     ]
    },
    {
     "data": {
      "text/html": [
       "<div>\n",
       "<style scoped>\n",
       "    .dataframe tbody tr th:only-of-type {\n",
       "        vertical-align: middle;\n",
       "    }\n",
       "\n",
       "    .dataframe tbody tr th {\n",
       "        vertical-align: top;\n",
       "    }\n",
       "\n",
       "    .dataframe thead th {\n",
       "        text-align: right;\n",
       "    }\n",
       "</style>\n",
       "<table border=\"1\" class=\"dataframe\">\n",
       "  <thead>\n",
       "    <tr style=\"text-align: right;\">\n",
       "      <th></th>\n",
       "      <th>maxAudio_max</th>\n",
       "      <th>acc_max</th>\n",
       "      <th>mag_max</th>\n",
       "      <th>gyro_max</th>\n",
       "      <th>maxAudio_min</th>\n",
       "      <th>acc_min</th>\n",
       "      <th>mag_min</th>\n",
       "      <th>gyro_min</th>\n",
       "      <th>maxAudio_skew</th>\n",
       "      <th>acc_skew</th>\n",
       "      <th>...</th>\n",
       "      <th>gyro_mean</th>\n",
       "      <th>maxAudio_std</th>\n",
       "      <th>acc_std</th>\n",
       "      <th>mag_std</th>\n",
       "      <th>gyro_std</th>\n",
       "      <th>maxAudio_var</th>\n",
       "      <th>acc_var</th>\n",
       "      <th>mag_var</th>\n",
       "      <th>gyro_var</th>\n",
       "      <th>class</th>\n",
       "    </tr>\n",
       "  </thead>\n",
       "  <tbody>\n",
       "    <tr>\n",
       "      <th>0</th>\n",
       "      <td>322.0</td>\n",
       "      <td>1.05388</td>\n",
       "      <td>185.6140</td>\n",
       "      <td>4.97176</td>\n",
       "      <td>174.0</td>\n",
       "      <td>0.935160</td>\n",
       "      <td>61.0443</td>\n",
       "      <td>4.45190</td>\n",
       "      <td>1.183500</td>\n",
       "      <td>0.484330</td>\n",
       "      <td>...</td>\n",
       "      <td>4.72728</td>\n",
       "      <td>44.5724</td>\n",
       "      <td>0.044025</td>\n",
       "      <td>46.45070</td>\n",
       "      <td>0.163387</td>\n",
       "      <td>1986.69</td>\n",
       "      <td>1.938220e-03</td>\n",
       "      <td>2157.670000</td>\n",
       "      <td>0.026695</td>\n",
       "      <td>2.0</td>\n",
       "    </tr>\n",
       "    <tr>\n",
       "      <th>1</th>\n",
       "      <td>212.0</td>\n",
       "      <td>1.05417</td>\n",
       "      <td>135.7700</td>\n",
       "      <td>4.88763</td>\n",
       "      <td>90.0</td>\n",
       "      <td>0.945442</td>\n",
       "      <td>53.6340</td>\n",
       "      <td>4.32256</td>\n",
       "      <td>0.254520</td>\n",
       "      <td>-0.018344</td>\n",
       "      <td>...</td>\n",
       "      <td>4.61097</td>\n",
       "      <td>43.2319</td>\n",
       "      <td>0.040347</td>\n",
       "      <td>27.49590</td>\n",
       "      <td>0.212083</td>\n",
       "      <td>1869.00</td>\n",
       "      <td>1.627910e-03</td>\n",
       "      <td>756.027000</td>\n",
       "      <td>0.044979</td>\n",
       "      <td>1.0</td>\n",
       "    </tr>\n",
       "    <tr>\n",
       "      <th>2</th>\n",
       "      <td>202.0</td>\n",
       "      <td>1.05471</td>\n",
       "      <td>184.2090</td>\n",
       "      <td>4.69746</td>\n",
       "      <td>130.0</td>\n",
       "      <td>0.932292</td>\n",
       "      <td>55.2619</td>\n",
       "      <td>4.25456</td>\n",
       "      <td>-0.585922</td>\n",
       "      <td>-0.297121</td>\n",
       "      <td>...</td>\n",
       "      <td>4.46392</td>\n",
       "      <td>21.8746</td>\n",
       "      <td>0.042718</td>\n",
       "      <td>52.10350</td>\n",
       "      <td>0.143294</td>\n",
       "      <td>478.50</td>\n",
       "      <td>1.824800e-03</td>\n",
       "      <td>2714.770000</td>\n",
       "      <td>0.020533</td>\n",
       "      <td>2.0</td>\n",
       "    </tr>\n",
       "    <tr>\n",
       "      <th>3</th>\n",
       "      <td>55.0</td>\n",
       "      <td>1.00057</td>\n",
       "      <td>78.2191</td>\n",
       "      <td>4.61307</td>\n",
       "      <td>-1.0</td>\n",
       "      <td>0.998912</td>\n",
       "      <td>77.5322</td>\n",
       "      <td>4.32297</td>\n",
       "      <td>-0.174508</td>\n",
       "      <td>0.068734</td>\n",
       "      <td>...</td>\n",
       "      <td>4.46503</td>\n",
       "      <td>19.6023</td>\n",
       "      <td>0.000596</td>\n",
       "      <td>0.23784</td>\n",
       "      <td>0.105089</td>\n",
       "      <td>384.25</td>\n",
       "      <td>3.556150e-07</td>\n",
       "      <td>0.056568</td>\n",
       "      <td>0.011044</td>\n",
       "      <td>0.0</td>\n",
       "    </tr>\n",
       "    <tr>\n",
       "      <th>4</th>\n",
       "      <td>288.0</td>\n",
       "      <td>1.06295</td>\n",
       "      <td>149.9980</td>\n",
       "      <td>4.77662</td>\n",
       "      <td>117.0</td>\n",
       "      <td>0.921244</td>\n",
       "      <td>54.9906</td>\n",
       "      <td>4.14788</td>\n",
       "      <td>0.628384</td>\n",
       "      <td>-0.146132</td>\n",
       "      <td>...</td>\n",
       "      <td>4.50706</td>\n",
       "      <td>48.7596</td>\n",
       "      <td>0.054749</td>\n",
       "      <td>30.24220</td>\n",
       "      <td>0.169510</td>\n",
       "      <td>2377.50</td>\n",
       "      <td>2.997470e-03</td>\n",
       "      <td>914.588000</td>\n",
       "      <td>0.028734</td>\n",
       "      <td>2.0</td>\n",
       "    </tr>\n",
       "  </tbody>\n",
       "</table>\n",
       "<p>5 rows × 33 columns</p>\n",
       "</div>"
      ],
      "text/plain": [
       "   maxAudio_max  acc_max   mag_max  gyro_max  maxAudio_min   acc_min  mag_min  \\\n",
       "0         322.0  1.05388  185.6140   4.97176         174.0  0.935160  61.0443   \n",
       "1         212.0  1.05417  135.7700   4.88763          90.0  0.945442  53.6340   \n",
       "2         202.0  1.05471  184.2090   4.69746         130.0  0.932292  55.2619   \n",
       "3          55.0  1.00057   78.2191   4.61307          -1.0  0.998912  77.5322   \n",
       "4         288.0  1.06295  149.9980   4.77662         117.0  0.921244  54.9906   \n",
       "\n",
       "   gyro_min  maxAudio_skew  acc_skew  ...  gyro_mean  maxAudio_std   acc_std  \\\n",
       "0   4.45190       1.183500  0.484330  ...    4.72728       44.5724  0.044025   \n",
       "1   4.32256       0.254520 -0.018344  ...    4.61097       43.2319  0.040347   \n",
       "2   4.25456      -0.585922 -0.297121  ...    4.46392       21.8746  0.042718   \n",
       "3   4.32297      -0.174508  0.068734  ...    4.46503       19.6023  0.000596   \n",
       "4   4.14788       0.628384 -0.146132  ...    4.50706       48.7596  0.054749   \n",
       "\n",
       "    mag_std  gyro_std  maxAudio_var       acc_var      mag_var  gyro_var  \\\n",
       "0  46.45070  0.163387       1986.69  1.938220e-03  2157.670000  0.026695   \n",
       "1  27.49590  0.212083       1869.00  1.627910e-03   756.027000  0.044979   \n",
       "2  52.10350  0.143294        478.50  1.824800e-03  2714.770000  0.020533   \n",
       "3   0.23784  0.105089        384.25  3.556150e-07     0.056568  0.011044   \n",
       "4  30.24220  0.169510       2377.50  2.997470e-03   914.588000  0.028734   \n",
       "\n",
       "   class  \n",
       "0    2.0  \n",
       "1    1.0  \n",
       "2    2.0  \n",
       "3    0.0  \n",
       "4    2.0  \n",
       "\n",
       "[5 rows x 33 columns]"
      ]
     },
     "execution_count": 21,
     "metadata": {},
     "output_type": "execute_result"
    }
   ],
   "source": [
    "fn = 'features.csv'\n",
    "data = pd.read_csv(fn)\n",
    "print('Data shape retreived from the features data file is: ', str(data.shape))\n",
    "\n",
    "# Shuffle the data\n",
    "data = data.sample(frac=1).reset_index(drop=True)\n",
    "\n",
    "# Split out features and class membership into separate tables.\n",
    "results=data['class'].astype(int)\n",
    "features=data.drop(labels=['class'], axis=1)\n",
    "data.head()"
   ]
  },
  {
   "cell_type": "markdown",
   "metadata": {},
   "source": [
    "# Subroutine for XY plots: myScatterPandas()\n",
    "This utility function can create an XY plot of any two features found in the input table.  We use it here to reproduce a figure originally created by the Feature_Extraction_Using_Pandas notebook used to create our test features.csv.    You can easily compare it with the figure in the earlier notebook to convince yourself that we haven't somehow corrupted the dataset between steps.\n",
    "\n",
    "This particular plot function works with Pandas dataframes only.  Parameters are:\n",
    "* data: the pandas dataframe containing our features\n",
    "* f1: string name of the 1st feature to be plotted\n",
    "* f2: string name of the 2nd feature to be plotted\n",
    "* C: optional second data series containing class assignments.  Used when it is not convenient to include that column in the data dataframe"
   ]
  },
  {
   "cell_type": "code",
   "execution_count": 22,
   "metadata": {},
   "outputs": [
    {
     "data": {
      "image/png": "[encoded data removed]",
      "text/plain": [
       "<Figure size 432x288 with 1 Axes>"
      ]
     },
     "metadata": {
      "needs_background": "light"
     },
     "output_type": "display_data"
    }
   ],
   "source": [
    "def myScatterPandas(data, f1, f2, C=None):\n",
    "    labels=['Off', 'Low', 'Medium', 'High']\n",
    "    color = ['black', 'green', 'blue', 'red']\n",
    "    fig, ax = plt.subplots()\n",
    "    x0 = data[f1].to_numpy()\n",
    "    x1 = data[f2].to_numpy()\n",
    "    if not (type(C)==pd.core.series.Series):\n",
    "        C=data['class'].astype(int)\n",
    "    for g in np.unique(C):\n",
    "        ix = np.where(C==g)\n",
    "        c=color[g]\n",
    "        ax.scatter(x0[ix], x1[ix], c=c, label=labels[g])\n",
    "    plt.title(f1 + ' vs ' + f2)\n",
    "    plt.legend(loc='best', frameon=False, labels=['Off', 'Low', 'Medium', 'High'])\n",
    "    plt.xlabel(f1)\n",
    "    plt.ylabel(f2)\n",
    "myScatterPandas(data, 'acc_std', 'acc_max')"
   ]
  },
  {
   "cell_type": "markdown",
   "metadata": {},
   "source": [
    "# Split data into training and test sets\n",
    "Reference: https://scikit-learn.org/stable/modules/generated/sklearn.model_selection.train_test_split.html"
   ]
  },
  {
   "cell_type": "code",
   "execution_count": 23,
   "metadata": {},
   "outputs": [],
   "source": [
    "X_train, X_test, Y_train, Y_test = train_test_split(features, results, test_size=0.33, random_state=37)"
   ]
  },
  {
   "cell_type": "markdown",
   "metadata": {},
   "source": [
    "# Normalize the training input data\n",
    "There are several ways to normalize input data sets.  See the lecture notes for other options.  Here we subtract mean values and divide the result by the standard deviation of each feature.  Thus everything is zero-centered and scaled to 1=1 standard deviation.\n",
    "\n",
    "scikit-Learn has standard scaler operations (https://scikit-learn.org/stable/modules/preprocessing.html).  We take advantage of pandas DataFrame operations here to do it explicitly."
   ]
  },
  {
   "cell_type": "code",
   "execution_count": 24,
   "metadata": {},
   "outputs": [],
   "source": [
    "s = X_train.std()\n",
    "m = X_train.mean()\n",
    "X_train = (X_train - m)/s"
   ]
  },
  {
   "cell_type": "markdown",
   "metadata": {},
   "source": [
    "# Univariate Feature Selection\n",
    "Reference: https://scikit-learn.org/stable/modules/generated/sklearn.feature_selection.SelectKBest.html#sklearn.feature_selection.SelectKBest"
   ]
  },
  {
   "cell_type": "code",
   "execution_count": 25,
   "metadata": {},
   "outputs": [
    {
     "data": {
      "text/plain": [
       "SelectKBest(k=2, score_func=<function f_classif at 0x000002712A7F1CA8>)"
      ]
     },
     "execution_count": 25,
     "metadata": {},
     "output_type": "execute_result"
    }
   ],
   "source": [
    "selector = SelectKBest(f_classif, k=2)\n",
    "selector.fit(X_train, Y_train)"
   ]
  },
  {
   "cell_type": "markdown",
   "metadata": {},
   "source": [
    "## Look at the reduced dataset\n",
    "First look at a mask of the features selected, then use that mask in the next cell to build a reduced table."
   ]
  },
  {
   "cell_type": "code",
   "execution_count": 26,
   "metadata": {},
   "outputs": [
    {
     "data": {
      "text/plain": [
       "array([False, False, False, False, False, False, False, False, False,\n",
       "       False, False, False, False, False, False, False, False, False,\n",
       "       False, False,  True, False, False, False, False,  True, False,\n",
       "       False, False, False, False, False])"
      ]
     },
     "execution_count": 26,
     "metadata": {},
     "output_type": "execute_result"
    }
   ],
   "source": [
    "selector.get_support()"
   ]
  },
  {
   "cell_type": "code",
   "execution_count": 27,
   "metadata": {},
   "outputs": [
    {
     "data": {
      "text/html": [
       "<div>\n",
       "<style scoped>\n",
       "    .dataframe tbody tr th:only-of-type {\n",
       "        vertical-align: middle;\n",
       "    }\n",
       "\n",
       "    .dataframe tbody tr th {\n",
       "        vertical-align: top;\n",
       "    }\n",
       "\n",
       "    .dataframe thead th {\n",
       "        text-align: right;\n",
       "    }\n",
       "</style>\n",
       "<table border=\"1\" class=\"dataframe\">\n",
       "  <thead>\n",
       "    <tr style=\"text-align: right;\">\n",
       "      <th></th>\n",
       "      <th>maxAudio_mean</th>\n",
       "      <th>acc_std</th>\n",
       "    </tr>\n",
       "  </thead>\n",
       "  <tbody>\n",
       "    <tr>\n",
       "      <th>0</th>\n",
       "      <td>228.2220</td>\n",
       "      <td>0.044025</td>\n",
       "    </tr>\n",
       "    <tr>\n",
       "      <th>1</th>\n",
       "      <td>147.0000</td>\n",
       "      <td>0.040347</td>\n",
       "    </tr>\n",
       "    <tr>\n",
       "      <th>2</th>\n",
       "      <td>173.0000</td>\n",
       "      <td>0.042718</td>\n",
       "    </tr>\n",
       "    <tr>\n",
       "      <th>3</th>\n",
       "      <td>25.6667</td>\n",
       "      <td>0.000596</td>\n",
       "    </tr>\n",
       "    <tr>\n",
       "      <th>4</th>\n",
       "      <td>191.0000</td>\n",
       "      <td>0.054749</td>\n",
       "    </tr>\n",
       "    <tr>\n",
       "      <th>...</th>\n",
       "      <td>...</td>\n",
       "      <td>...</td>\n",
       "    </tr>\n",
       "    <tr>\n",
       "      <th>257</th>\n",
       "      <td>243.4440</td>\n",
       "      <td>0.044895</td>\n",
       "    </tr>\n",
       "    <tr>\n",
       "      <th>258</th>\n",
       "      <td>317.3330</td>\n",
       "      <td>0.063649</td>\n",
       "    </tr>\n",
       "    <tr>\n",
       "      <th>259</th>\n",
       "      <td>333.4440</td>\n",
       "      <td>0.074253</td>\n",
       "    </tr>\n",
       "    <tr>\n",
       "      <th>260</th>\n",
       "      <td>140.6670</td>\n",
       "      <td>0.039663</td>\n",
       "    </tr>\n",
       "    <tr>\n",
       "      <th>261</th>\n",
       "      <td>129.7780</td>\n",
       "      <td>0.034458</td>\n",
       "    </tr>\n",
       "  </tbody>\n",
       "</table>\n",
       "<p>262 rows × 2 columns</p>\n",
       "</div>"
      ],
      "text/plain": [
       "     maxAudio_mean   acc_std\n",
       "0         228.2220  0.044025\n",
       "1         147.0000  0.040347\n",
       "2         173.0000  0.042718\n",
       "3          25.6667  0.000596\n",
       "4         191.0000  0.054749\n",
       "..             ...       ...\n",
       "257       243.4440  0.044895\n",
       "258       317.3330  0.063649\n",
       "259       333.4440  0.074253\n",
       "260       140.6670  0.039663\n",
       "261       129.7780  0.034458\n",
       "\n",
       "[262 rows x 2 columns]"
      ]
     },
     "execution_count": 27,
     "metadata": {},
     "output_type": "execute_result"
    }
   ],
   "source": [
    "reduced = features[features.columns[selector.get_support(indices=True)]]\n",
    "reduced"
   ]
  },
  {
   "cell_type": "markdown",
   "metadata": {},
   "source": [
    "## Plot the feature scores\n",
    "to get a visual indication how well selected features stand out."
   ]
  },
  {
   "cell_type": "code",
   "execution_count": 28,
   "metadata": {},
   "outputs": [
    {
     "data": {
      "text/plain": [
       "<BarContainer object of 32 artists>"
      ]
     },
     "execution_count": 28,
     "metadata": {},
     "output_type": "execute_result"
    },
    {
     "data": {
      "image/png": "[encoded data removed]",
      "text/plain": [
       "<Figure size 432x288 with 1 Axes>"
      ]
     },
     "metadata": {
      "needs_background": "light"
     },
     "output_type": "display_data"
    }
   ],
   "source": [
    "X_indices = np.arange(X_train.shape[-1])\n",
    "scores = -np.log10(selector.pvalues_)\n",
    "scores /= scores.max()\n",
    "plt.bar(X_indices+.1 , scores, width=.5,\n",
    "        label=r'Univariate score ($-Log(p_{value})$)')"
   ]
  },
  {
   "cell_type": "markdown",
   "metadata": {},
   "source": [
    "## Plot the unscaled version of selected features"
   ]
  },
  {
   "cell_type": "code",
   "execution_count": 29,
   "metadata": {},
   "outputs": [
    {
     "name": "stdout",
     "output_type": "stream",
     "text": [
      "True\n"
     ]
    },
    {
     "data": {
      "image/png": "[encoded data removed]",
      "text/plain": [
       "<Figure size 432x288 with 1 Axes>"
      ]
     },
     "metadata": {
      "needs_background": "light"
     },
     "output_type": "display_data"
    }
   ],
   "source": [
    "print(type(results)==pd.core.series.Series)\n",
    "f1=reduced.columns[0]\n",
    "f2=reduced.columns[1]\n",
    "myScatterPandas(reduced, f1, f2, results)\n",
    "# This plot is done with unscaled data"
   ]
  },
  {
   "cell_type": "markdown",
   "metadata": {},
   "source": [
    "# Feature ranking via recursive feature elimination\n",
    "RFECV = Recursive Feature Elimination and Cross-Validation\n",
    "\n",
    "Reference: https://scikit-learn.org/stable/modules/generated/sklearn.feature_selection.RFECV.html?highlight=rfecv#sklearn.feature_selection.RFECV"
   ]
  },
  {
   "cell_type": "code",
   "execution_count": 30,
   "metadata": {},
   "outputs": [
    {
     "name": "stdout",
     "output_type": "stream",
     "text": [
      "6  features are suggested.\n"
     ]
    },
    {
     "data": {
      "text/plain": [
       "array([False, False, False, False,  True,  True, False, False, False,\n",
       "       False, False, False, False, False, False, False,  True, False,\n",
       "       False, False,  True, False, False, False, False,  True, False,\n",
       "       False, False,  True, False, False])"
      ]
     },
     "execution_count": 30,
     "metadata": {},
     "output_type": "execute_result"
    }
   ],
   "source": [
    "estimator = SVC(kernel='linear')\n",
    "selector = RFECV(estimator, step=1, cv=4)\n",
    "selector = selector.fit(X_train, Y_train)\n",
    "\n",
    "num_selected = np.count_nonzero(selector.support_)\n",
    "print(num_selected, ' features are suggested.')\n",
    "selector.support_"
   ]
  },
  {
   "cell_type": "code",
   "execution_count": 31,
   "metadata": {},
   "outputs": [
    {
     "data": {
      "text/plain": [
       "array([ 4,  7, 20, 13,  1,  1,  8,  6, 10, 17, 25, 12, 14, 18, 21,  9,  1,\n",
       "       27, 26,  5,  1, 22, 24,  2, 16,  1, 11, 19, 15,  1, 23,  3])"
      ]
     },
     "execution_count": 31,
     "metadata": {},
     "output_type": "execute_result"
    }
   ],
   "source": [
    "selector.ranking_"
   ]
  },
  {
   "cell_type": "code",
   "execution_count": 32,
   "metadata": {},
   "outputs": [
    {
     "data": {
      "text/html": [
       "<div>\n",
       "<style scoped>\n",
       "    .dataframe tbody tr th:only-of-type {\n",
       "        vertical-align: middle;\n",
       "    }\n",
       "\n",
       "    .dataframe tbody tr th {\n",
       "        vertical-align: top;\n",
       "    }\n",
       "\n",
       "    .dataframe thead th {\n",
       "        text-align: right;\n",
       "    }\n",
       "</style>\n",
       "<table border=\"1\" class=\"dataframe\">\n",
       "  <thead>\n",
       "    <tr style=\"text-align: right;\">\n",
       "      <th></th>\n",
       "      <th>maxAudio_min</th>\n",
       "      <th>acc_min</th>\n",
       "      <th>maxAudio_sum</th>\n",
       "      <th>maxAudio_mean</th>\n",
       "      <th>acc_std</th>\n",
       "      <th>acc_var</th>\n",
       "    </tr>\n",
       "  </thead>\n",
       "  <tbody>\n",
       "    <tr>\n",
       "      <th>0</th>\n",
       "      <td>174.0</td>\n",
       "      <td>0.935160</td>\n",
       "      <td>2054.0</td>\n",
       "      <td>228.2220</td>\n",
       "      <td>0.044025</td>\n",
       "      <td>1.938220e-03</td>\n",
       "    </tr>\n",
       "    <tr>\n",
       "      <th>1</th>\n",
       "      <td>90.0</td>\n",
       "      <td>0.945442</td>\n",
       "      <td>1323.0</td>\n",
       "      <td>147.0000</td>\n",
       "      <td>0.040347</td>\n",
       "      <td>1.627910e-03</td>\n",
       "    </tr>\n",
       "    <tr>\n",
       "      <th>2</th>\n",
       "      <td>130.0</td>\n",
       "      <td>0.932292</td>\n",
       "      <td>1557.0</td>\n",
       "      <td>173.0000</td>\n",
       "      <td>0.042718</td>\n",
       "      <td>1.824800e-03</td>\n",
       "    </tr>\n",
       "    <tr>\n",
       "      <th>3</th>\n",
       "      <td>-1.0</td>\n",
       "      <td>0.998912</td>\n",
       "      <td>231.0</td>\n",
       "      <td>25.6667</td>\n",
       "      <td>0.000596</td>\n",
       "      <td>3.556150e-07</td>\n",
       "    </tr>\n",
       "    <tr>\n",
       "      <th>4</th>\n",
       "      <td>117.0</td>\n",
       "      <td>0.921244</td>\n",
       "      <td>1719.0</td>\n",
       "      <td>191.0000</td>\n",
       "      <td>0.054749</td>\n",
       "      <td>2.997470e-03</td>\n",
       "    </tr>\n",
       "    <tr>\n",
       "      <th>...</th>\n",
       "      <td>...</td>\n",
       "      <td>...</td>\n",
       "      <td>...</td>\n",
       "      <td>...</td>\n",
       "      <td>...</td>\n",
       "      <td>...</td>\n",
       "    </tr>\n",
       "    <tr>\n",
       "      <th>257</th>\n",
       "      <td>114.0</td>\n",
       "      <td>0.938998</td>\n",
       "      <td>2191.0</td>\n",
       "      <td>243.4440</td>\n",
       "      <td>0.044895</td>\n",
       "      <td>2.015520e-03</td>\n",
       "    </tr>\n",
       "    <tr>\n",
       "      <th>258</th>\n",
       "      <td>273.0</td>\n",
       "      <td>0.912744</td>\n",
       "      <td>2856.0</td>\n",
       "      <td>317.3330</td>\n",
       "      <td>0.063649</td>\n",
       "      <td>4.051260e-03</td>\n",
       "    </tr>\n",
       "    <tr>\n",
       "      <th>259</th>\n",
       "      <td>294.0</td>\n",
       "      <td>0.898074</td>\n",
       "      <td>3001.0</td>\n",
       "      <td>333.4440</td>\n",
       "      <td>0.074253</td>\n",
       "      <td>5.513540e-03</td>\n",
       "    </tr>\n",
       "    <tr>\n",
       "      <th>260</th>\n",
       "      <td>108.0</td>\n",
       "      <td>0.947834</td>\n",
       "      <td>1266.0</td>\n",
       "      <td>140.6670</td>\n",
       "      <td>0.039663</td>\n",
       "      <td>1.573190e-03</td>\n",
       "    </tr>\n",
       "    <tr>\n",
       "      <th>261</th>\n",
       "      <td>96.0</td>\n",
       "      <td>0.961113</td>\n",
       "      <td>1168.0</td>\n",
       "      <td>129.7780</td>\n",
       "      <td>0.034458</td>\n",
       "      <td>1.187340e-03</td>\n",
       "    </tr>\n",
       "  </tbody>\n",
       "</table>\n",
       "<p>262 rows × 6 columns</p>\n",
       "</div>"
      ],
      "text/plain": [
       "     maxAudio_min   acc_min  maxAudio_sum  maxAudio_mean   acc_std  \\\n",
       "0           174.0  0.935160        2054.0       228.2220  0.044025   \n",
       "1            90.0  0.945442        1323.0       147.0000  0.040347   \n",
       "2           130.0  0.932292        1557.0       173.0000  0.042718   \n",
       "3            -1.0  0.998912         231.0        25.6667  0.000596   \n",
       "4           117.0  0.921244        1719.0       191.0000  0.054749   \n",
       "..            ...       ...           ...            ...       ...   \n",
       "257         114.0  0.938998        2191.0       243.4440  0.044895   \n",
       "258         273.0  0.912744        2856.0       317.3330  0.063649   \n",
       "259         294.0  0.898074        3001.0       333.4440  0.074253   \n",
       "260         108.0  0.947834        1266.0       140.6670  0.039663   \n",
       "261          96.0  0.961113        1168.0       129.7780  0.034458   \n",
       "\n",
       "          acc_var  \n",
       "0    1.938220e-03  \n",
       "1    1.627910e-03  \n",
       "2    1.824800e-03  \n",
       "3    3.556150e-07  \n",
       "4    2.997470e-03  \n",
       "..            ...  \n",
       "257  2.015520e-03  \n",
       "258  4.051260e-03  \n",
       "259  5.513540e-03  \n",
       "260  1.573190e-03  \n",
       "261  1.187340e-03  \n",
       "\n",
       "[262 rows x 6 columns]"
      ]
     },
     "execution_count": 32,
     "metadata": {},
     "output_type": "execute_result"
    }
   ],
   "source": [
    "reduced = features[features.columns[selector.get_support(indices=True)]]\n",
    "reduced"
   ]
  },
  {
   "cell_type": "markdown",
   "metadata": {},
   "source": [
    "## Plot 1st two selected features"
   ]
  },
  {
   "cell_type": "code",
   "execution_count": 33,
   "metadata": {},
   "outputs": [
    {
     "data": {
      "image/png": "[encoded data removed]",
      "text/plain": [
       "<Figure size 432x288 with 1 Axes>"
      ]
     },
     "metadata": {
      "needs_background": "light"
     },
     "output_type": "display_data"
    }
   ],
   "source": [
    "if num_selected>=2:\n",
    "    f1=reduced.columns[0]\n",
    "    f2=reduced.columns[1]\n",
    "    myScatterPandas(reduced, f1, f2, results)"
   ]
  },
  {
   "cell_type": "markdown",
   "metadata": {},
   "source": [
    "## Plot number of features VS. cross-validation scores\n",
    "This code snippet found at https://scikit-learn.org/stable/auto_examples/feature_selection/plot_rfe_with_cross_validation.html#sphx-glr-auto-examples-feature-selection-plot-rfe-with-cross-validation-py"
   ]
  },
  {
   "cell_type": "code",
   "execution_count": 34,
   "metadata": {},
   "outputs": [
    {
     "data": {
      "image/png": "[encoded data removed]",
      "text/plain": [
       "<Figure size 432x288 with 1 Axes>"
      ]
     },
     "metadata": {
      "needs_background": "light"
     },
     "output_type": "display_data"
    }
   ],
   "source": [
    "plt.figure()\n",
    "plt.xlabel(\"Number of features selected\")\n",
    "plt.ylabel(\"Cross validation score (nb of correct classifications)\")\n",
    "plt.plot(range(1, len(selector.grid_scores_) + 1), selector.grid_scores_)\n",
    "plt.show()"
   ]
  },
  {
   "cell_type": "markdown",
   "metadata": {},
   "source": [
    "# Feature importances with forest of trees \n",
    "This is a modified version of code that can be found at: https://scikit-learn.org/stable/auto_examples/ensemble/plot_forest_importances.html#sphx-glr-auto-examples-ensemble-plot-forest-importances-py)"
   ]
  },
  {
   "cell_type": "code",
   "execution_count": 35,
   "metadata": {},
   "outputs": [
    {
     "name": "stdout",
     "output_type": "stream",
     "text": [
      "Feature ranking:\n",
      "1. feature 16:\tmaxAudio_sum\t(0.130776)\n",
      "2. feature 20:\tmaxAudio_mean\t(0.123531)\n",
      "3. feature 4:\tmaxAudio_min\t(0.099939)\n",
      "4. feature 25:\tacc_std\t(0.089317)\n",
      "5. feature 5:\tacc_min\t(0.081920)\n",
      "6. feature 29:\tacc_var\t(0.077521)\n",
      "7. feature 0:\tmaxAudio_max\t(0.054708)\n",
      "8. feature 6:\tmag_min\t(0.053688)\n",
      "9. feature 1:\tacc_max\t(0.046499)\n",
      "10. feature 2:\tmag_max\t(0.044926)\n",
      "11. feature 26:\tmag_std\t(0.033259)\n",
      "12. feature 30:\tmag_var\t(0.021284)\n",
      "13. feature 27:\tgyro_std\t(0.019477)\n",
      "14. feature 31:\tgyro_var\t(0.014844)\n",
      "15. feature 7:\tgyro_min\t(0.010761)\n",
      "16. feature 24:\tmaxAudio_std\t(0.010210)\n",
      "17. feature 3:\tgyro_max\t(0.010062)\n",
      "18. feature 22:\tmag_mean\t(0.009930)\n",
      "19. feature 23:\tgyro_mean\t(0.008712)\n",
      "20. feature 19:\tgyro_sum\t(0.007555)\n",
      "21. feature 28:\tmaxAudio_var\t(0.007420)\n",
      "22. feature 18:\tmag_sum\t(0.006355)\n",
      "23. feature 21:\tacc_mean\t(0.004899)\n",
      "24. feature 10:\tmag_skew\t(0.004687)\n",
      "25. feature 9:\tacc_skew\t(0.004582)\n",
      "26. feature 17:\tacc_sum\t(0.004197)\n",
      "27. feature 13:\tacc_kurtosis\t(0.004050)\n",
      "28. feature 15:\tgyro_kurtosis\t(0.003584)\n",
      "29. feature 14:\tmag_kurtosis\t(0.003285)\n",
      "30. feature 8:\tmaxAudio_skew\t(0.003139)\n",
      "31. feature 12:\tmaxAudio_kurtosis\t(0.002712)\n",
      "32. feature 11:\tgyro_skew\t(0.002173)\n"
     ]
    },
    {
     "data": {
      "image/png": "[encoded data removed]",
      "text/plain": [
       "<Figure size 864x576 with 1 Axes>"
      ]
     },
     "metadata": {
      "needs_background": "light"
     },
     "output_type": "display_data"
    }
   ],
   "source": [
    "import matplotlib.ticker as ticker\n",
    "# Build a forest and compute the impurity-based feature importances\n",
    "forest = ExtraTreesClassifier(n_estimators=250,\n",
    "                              random_state=0)\n",
    "\n",
    "forest.fit(X_train, Y_train)\n",
    "importances = forest.feature_importances_\n",
    "std = np.std([tree.feature_importances_ for tree in forest.estimators_],\n",
    "             axis=0)\n",
    "indices = np.argsort(importances)[::-1]\n",
    "\n",
    "# Print the feature ranking\n",
    "print(\"Feature ranking:\")\n",
    "\n",
    "for f in range(X_train.shape[1]):\n",
    "    print(\"%d. feature %d:\\t%s\\t(%f)\" % (f + 1, indices[f], X_train.columns[indices[f]], importances[indices[f]]))\n",
    "\n",
    "# Plot the impurity-based feature importances of the forest\n",
    "f, ax = plt.subplots(figsize=(12,8))\n",
    "plt.title(\"Feature importances\")\n",
    "X_range = np.arange(X_train.shape[1])\n",
    "\n",
    "plt.bar(X_range, importances[X_range],\n",
    "        color=\"r\", yerr=std[X_range], align=\"center\")\n",
    "plt.xlim([-1, X_train.shape[1]])\n",
    "ax.xaxis.set_major_locator(ticker.AutoLocator())\n",
    "ax.xaxis.set_tick_params(rotation=90, labelsize=10)\n",
    "plt.xlabel('Feature number')\n",
    "plt.ylabel('Relative Importance')\n",
    "plt.show()"
   ]
  },
  {
   "cell_type": "markdown",
   "metadata": {},
   "source": [
    "## Plot the two features vs class membership\n",
    "You should apply some common sense to the feature ranking above.  For instance, because maxAudio_sum/_mean/_min are so closely related (all three being derived from microphone data), there is not a lot of unique information in the 2nd and 3rd variable.  In this case, acc_std makes more sense from a feature diversity perspective."
   ]
  },
  {
   "cell_type": "code",
   "execution_count": 38,
   "metadata": {},
   "outputs": [
    {
     "data": {
      "image/png": "[encoded data removed]",
      "text/plain": [
       "<Figure size 432x288 with 1 Axes>"
      ]
     },
     "metadata": {
      "needs_background": "light"
     },
     "output_type": "display_data"
    }
   ],
   "source": [
    "f1=features.columns[indices[0]]\n",
    "f2=features.columns[indices[3]]\n",
    "myScatterPandas(features, f1, f2, results)"
   ]
  },
  {
   "cell_type": "markdown",
   "metadata": {},
   "source": [
    "# Human in the loop\n",
    "Looking at your data can violate VC Dimension constraints, but once an algorithm is embedded, it's easy to test on new data.  Here we look at one feature at a time vs class membership.  Note that this produces a plot for every feature in the original data set, so it takes a little while for the next cell to complete."
   ]
  },
  {
   "cell_type": "code",
   "execution_count": null,
   "metadata": {},
   "outputs": [],
   "source": [
    "#XXX Uncomment to stop Here for full runs"
   ]
  },
  {
   "cell_type": "code",
   "execution_count": null,
   "metadata": {
    "scrolled": false
   },
   "outputs": [],
   "source": [
    "labels=['Off', 'Low', 'Medium', 'High']\n",
    "color = ['black', 'green', 'blue', 'red']\n",
    "rows, numFeatures = features.shape\n",
    "x1 = results.to_numpy()\n",
    "for i in range(numFeatures):\n",
    "    fig, ax = plt.subplots()\n",
    "    for g in np.unique(results):\n",
    "        ix = np.where(results==g)\n",
    "        x0 = features.iloc[:,i].to_numpy()\n",
    "        c=color[g]\n",
    "        #ax.scatter(x0[ix], x1[ix], c=c, label=labels[g])\n",
    "        ax.hist(x0[ix], bins=20, color=c, label=labels[g], alpha=.2)\n",
    "        plt.title(features.columns[i]+' vs Class')\n",
    "        plt.legend(loc='best', frameon=False, labels=['Off', 'Low', 'Medium', 'High'])"
   ]
  },
  {
   "cell_type": "markdown",
   "metadata": {},
   "source": [
    "Eyeballing the histograms above, you can see why \n",
    "* f1 = 'maxAudio_sum'\n",
    "* f2 = 'acc_std'\n",
    "\n",
    "predicted via the Forest of Trees Importance methodology should yield reasonable results.\n",
    "Ideally, we would like a bit more separation between the 'Low' and 'Medium' classes.  We can predict a bit of error between those two classes when we finally look at a confusion matrix and run our fielded model.  "
   ]
  },
  {
   "cell_type": "code",
   "execution_count": null,
   "metadata": {},
   "outputs": [],
   "source": [
    "myScatterPandas(features, 'maxAudio_sum', 'acc_std', results)"
   ]
  },
  {
   "cell_type": "code",
   "execution_count": null,
   "metadata": {},
   "outputs": [],
   "source": []
  }
 ],
 "metadata": {
  "kernelspec": {
   "display_name": "Python 3",
   "language": "python",
   "name": "python3"
  },
  "language_info": {
   "codemirror_mode": {
    "name": "ipython",
    "version": 3
   },
   "file_extension": ".py",
   "mimetype": "text/x-python",
   "name": "python",
   "nbconvert_exporter": "python",
   "pygments_lexer": "ipython3",
   "version": "3.7.6"
  },
  "toc": {
   "base_numbering": 1,
   "nav_menu": {},
   "number_sections": true,
   "sideBar": true,
   "skip_h1_title": false,
   "title_cell": "Table of Contents",
   "title_sidebar": "Contents",
   "toc_cell": false,
   "toc_position": {
    "height": "calc(100% - 180px)",
    "left": "10px",
    "top": "150px",
    "width": "384px"
   },
   "toc_section_display": true,
   "toc_window_display": true
  }
 },
 "nbformat": 4,
 "nbformat_minor": 2
}
